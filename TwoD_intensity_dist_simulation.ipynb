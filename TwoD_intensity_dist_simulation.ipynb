{
 "cells": [
  {
   "cell_type": "code",
   "execution_count": 1,
   "metadata": {},
   "outputs": [],
   "source": [
    "%matplotlib inline\n",
    "import numpy as np\n",
    "import matplotlib.pyplot as plt\n",
    "import lmfit as lm\n",
    "import scipy.special as sf\n",
    "from scipy.stats import norm,multivariate_normal"
   ]
  },
  {
   "cell_type": "code",
   "execution_count": 2,
   "metadata": {},
   "outputs": [
    {
     "name": "stdout",
     "output_type": "stream",
     "text": [
      "-19.798994974874372 19.798994974874375\n"
     ]
    }
   ],
   "source": [
    "# the plan is to simulate intensity distribution by using a Poisson distribution\n",
    "# over a small area.  The first thing that we have to figure out is over which length\n",
    "# a normal distribution will be non-zero given double resolution\n",
    "w = 2 # is the way the Gaussian width is defined in optics\n",
    "sigma = w/2\n",
    "ep = 1.0\n",
    "x = np.linspace(-20,20,200)\n",
    "intensity = ep*sigma*np.sqrt(2*np.pi)*norm.pdf(x, loc=0,scale=sigma)\n",
    "#print(intensity)\n",
    "print(x[1],x[-2])"
   ]
  },
  {
   "cell_type": "code",
   "execution_count": 3,
   "metadata": {},
   "outputs": [
    {
     "name": "stdout",
     "output_type": "stream",
     "text": [
      "39.59798994974875\n"
     ]
    }
   ],
   "source": [
    "# set limits and define the length of the box\n",
    "xlim1 = x[1]\n",
    "xlim2 = x[-2]\n",
    "L = xlim2-xlim1\n",
    "print(L)"
   ]
  },
  {
   "cell_type": "code",
   "execution_count": 25,
   "metadata": {},
   "outputs": [
    {
     "name": "stdout",
     "output_type": "stream",
     "text": [
      "499.11015874979876\n"
     ]
    }
   ],
   "source": [
    "# we want a certain number of particles per area\n",
    "# for a particular w which represents an effective size of pi/2*w**2\n",
    "N_avg = 2\n",
    "N_avg_L = N_avg*L*L/np.pi*2/w**2\n",
    "print(N_avg_L)"
   ]
  },
  {
   "cell_type": "code",
   "execution_count": 5,
   "metadata": {},
   "outputs": [
    {
     "data": {
      "text/plain": [
       "array([1.13759981e-30, 1.78051623e-10, 4.77153770e-66])"
      ]
     },
     "execution_count": 5,
     "metadata": {},
     "output_type": "execute_result"
    }
   ],
   "source": [
    "# lets try how to make a list of random numbers\n",
    "n = 3\n",
    "multivariate_normal.pdf(np.add(np.multiply(np.random.random(n*2),L),xlim1).reshape(n,2),\n",
    "                        mean=[0,0],\n",
    "                        cov=[[1/sigma**2,0],[0,1/sigma**2]])"
   ]
  },
  {
   "cell_type": "code",
   "execution_count": 26,
   "metadata": {},
   "outputs": [],
   "source": [
    "N_samples = 1000000\n",
    "N_draws = np.random.poisson(N_avg_L,N_samples)\n",
    "int_list = [np.sum(ep*sigma**2*2*np.pi*\n",
    "                multivariate_normal.pdf(np.add(np.multiply(np.random.random(n*2),L),xlim1).reshape(n,2),\n",
    "                                        mean=[0,0],cov=[[1/sigma**2,0],[0,1/sigma**2]]))\n",
    "                  for n in N_draws]\n",
    "int_list = np.array(int_list)"
   ]
  },
  {
   "cell_type": "code",
   "execution_count": 27,
   "metadata": {},
   "outputs": [
    {
     "data": {
      "text/plain": [
       "(0, 1)"
      ]
     },
     "execution_count": 27,
     "metadata": {},
     "output_type": "execute_result"
    },
    {
     "data": {
      "image/png": "[encoded data removed]",
      "text/plain": [
       "<Figure size 432x288 with 1 Axes>"
      ]
     },
     "metadata": {
      "needs_background": "light"
     },
     "output_type": "display_data"
    }
   ],
   "source": [
    "_ = plt.hist(int_list,bins=500,density=True)\n",
    "plt.ylim((0,1))\n",
    "#plt.xlim((0.06,0.065))"
   ]
  },
  {
   "cell_type": "code",
   "execution_count": 28,
   "metadata": {},
   "outputs": [
    {
     "data": {
      "text/plain": [
       "2.0015018148789054"
      ]
     },
     "execution_count": 28,
     "metadata": {},
     "output_type": "execute_result"
    }
   ],
   "source": [
    "int_list.mean()"
   ]
  },
  {
   "cell_type": "code",
   "execution_count": 9,
   "metadata": {},
   "outputs": [
    {
     "name": "stdout",
     "output_type": "stream",
     "text": [
      "0.6168502750680849\n"
     ]
    }
   ],
   "source": [
    "print(np.pi**2/16)"
   ]
  },
  {
   "cell_type": "code",
   "execution_count": null,
   "metadata": {},
   "outputs": [],
   "source": []
  }
 ],
 "metadata": {
  "kernelspec": {
   "display_name": "Python 3",
   "language": "python",
   "name": "python3"
  },
  "language_info": {
   "codemirror_mode": {
    "name": "ipython",
    "version": 3
   },
   "file_extension": ".py",
   "mimetype": "text/x-python",
   "name": "python",
   "nbconvert_exporter": "python",
   "pygments_lexer": "ipython3",
   "version": "3.6.6"
  }
 },
 "nbformat": 4,
 "nbformat_minor": 2
}
