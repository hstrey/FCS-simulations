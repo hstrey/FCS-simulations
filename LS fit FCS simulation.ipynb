{
 "cells": [
  {
   "cell_type": "code",
   "execution_count": 1,
   "metadata": {},
   "outputs": [
    {
     "name": "stdout",
     "output_type": "stream",
     "text": [
      "['seaborn-dark', 'seaborn-darkgrid', 'seaborn-ticks', 'fivethirtyeight', 'seaborn-whitegrid', 'classic', '_classic_test', 'fast', 'seaborn-talk', 'seaborn-dark-palette', 'seaborn-bright', 'seaborn-pastel', 'grayscale', 'seaborn-notebook', 'ggplot', 'seaborn-colorblind', 'seaborn-muted', 'seaborn', 'Solarize_Light2', 'seaborn-paper', 'bmh', 'tableau-colorblind10', 'seaborn-white', 'dark_background', 'seaborn-poster', 'seaborn-deep']\n"
     ]
    }
   ],
   "source": [
    "%matplotlib inline\n",
    "import numpy as np\n",
    "import matplotlib.pyplot as plt\n",
    "import lmfit as lm\n",
    "import scipy.special as sf\n",
    "from scipy.stats import norm\n",
    "\n",
    "SMALL_SIZE = 16\n",
    "MEDIUM_SIZE = 18\n",
    "BIGGER_SIZE = 20\n",
    "\n",
    "plt.rc('font', size=SMALL_SIZE)          # controls default text sizes\n",
    "plt.rc('axes', titlesize=SMALL_SIZE)     # fontsize of the axes title\n",
    "plt.rc('axes', labelsize=MEDIUM_SIZE)    # fontsize of the x and y labels\n",
    "plt.rc('xtick', labelsize=SMALL_SIZE)    # fontsize of the tick labels\n",
    "plt.rc('ytick', labelsize=SMALL_SIZE)    # fontsize of the tick labels\n",
    "plt.rc('legend', fontsize=SMALL_SIZE)    # legend fontsize\n",
    "plt.rc('figure', titlesize=BIGGER_SIZE)  # fontsize of the figure title\n",
    "\n",
    "SEED = 350107321 # from random.org\n",
    "np.random.seed(SEED)\n",
    "\n",
    "print(plt.style.available)\n",
    "plt.style.use('seaborn-white')"
   ]
  },
  {
   "cell_type": "code",
   "execution_count": 2,
   "metadata": {},
   "outputs": [],
   "source": [
    "# this is the more realistic model with periodic boundary conditions -L,L\n",
    "def corrfitPB(t,N,D,w0,L):\n",
    "    nmax = 40\n",
    "    n = np.arange(1,nmax)\n",
    "    nn,tt = np.meshgrid(n,t)\n",
    "    \n",
    "    efa = nn*np.pi*w0**2*1j\n",
    "    an = np.exp(-nn**2*np.pi**2*w0**2/2/L**2)*(sf.erf((L**2-efa)/np.sqrt(2)/L/w0)+sf.erf((L**2+efa)/np.sqrt(2)/L/w0))\n",
    "    an = np.absolute(an)**2*np.exp(-D*nn**2*np.pi**2*tt/L**2)\n",
    "    return np.sum(an,axis=1)/N/2"
   ]
  },
  {
   "cell_type": "code",
   "execution_count": 3,
   "metadata": {},
   "outputs": [],
   "source": [
    "dt = 0.1\n",
    "D = 1.0\n",
    "L = 10\n",
    "#xl = 5.0\n",
    "#xr = 6.0\n",
    "N = 20\n",
    "length = 100000"
   ]
  },
  {
   "cell_type": "code",
   "execution_count": 4,
   "metadata": {},
   "outputs": [],
   "source": [
    "acf_all=None\n",
    "for i in range(500):\n",
    "    # generate steps for all particles\n",
    "    steps=np.random.normal(loc=0.0, scale=np.sqrt(2*D*dt), size=(N,length))\n",
    "    # initial positions\n",
    "    x = 2*L*np.random.random(size=(N,))\n",
    "    # put initial position in front\n",
    "    x = np.column_stack((x, steps))\n",
    "    # calculate paths\n",
    "    paths = np.mod(np.cumsum(x, axis=1),2*L)-L\n",
    "    # place a Gaussian illumination at x=5.5 with unit variance\n",
    "    intensity = norm.pdf(paths, loc=0)\n",
    "    intensity = np.sum(intensity, axis=0)\n",
    "\n",
    "    # calculate autocorrelation function\n",
    "    f = np.fft.rfft(intensity)\n",
    "    acf = np.fft.irfft(f * np.conjugate(f))\n",
    "    acf = np.fft.fftshift(acf) / length\n",
    "    autocorr = acf[int(length/2):]/intensity.mean()**2\n",
    "\n",
    "    autocorr = autocorr[:1000]-1.0\n",
    "    t = np.arange(0,autocorr.size)*dt\n",
    "    \n",
    "    if acf_all is None:\n",
    "        acf_all = autocorr\n",
    "    else:\n",
    "        acf_all = np.vstack((acf_all, autocorr))\n",
    "        \n",
    "acf_std = np.std(acf_all, axis=0)\n",
    "acf_mean = np.mean(acf_all, axis=0)"
   ]
  },
  {
   "cell_type": "code",
   "execution_count": 5,
   "metadata": {},
   "outputs": [
    {
     "data": {
      "text/plain": [
       "<ErrorbarContainer object of 3 artists>"
      ]
     },
     "execution_count": 5,
     "metadata": {},
     "output_type": "execute_result"
    },
    {
     "data": {
      "image/png": "[encoded data removed]",
      "text/plain": [
       "<Figure size 432x288 with 1 Axes>"
      ]
     },
     "metadata": {},
     "output_type": "display_data"
    }
   ],
   "source": [
    "plt.errorbar(t,acf_mean,yerr=acf_std)"
   ]
  },
  {
   "cell_type": "code",
   "execution_count": 6,
   "metadata": {},
   "outputs": [],
   "source": [
    "N_list=[]\n",
    "D_list=[]\n",
    "dN_list=[]\n",
    "dD_list=[]\n",
    "\n",
    "NS_list=[]\n",
    "DS_list=[]\n",
    "dNS_list=[]\n",
    "dDS_list=[]\n",
    "\n",
    "corrfitPB_model=lm.Model(corrfitPB)\n",
    "\n",
    "for y in acf_all:\n",
    "    paramsPB = corrfitPB_model.make_params()\n",
    "    paramsPB['w0'].set(value=1,vary=False)\n",
    "    paramsPB['N'].set(value=20,vary=True)\n",
    "    paramsPB['D'].set(value=D,vary=True)\n",
    "    paramsPB['L'].set(value=L,vary=False)\n",
    "\n",
    "    resultPB = corrfitPB_model.fit(t=t,data=y,params=paramsPB)\n",
    "    \n",
    "    N_list.append(resultPB.values['N'])\n",
    "    D_list.append(resultPB.values['D'])\n",
    "    dN_list.append(np.sqrt(resultPB.covar[0,0]))\n",
    "    dD_list.append(np.sqrt(resultPB.covar[1,1]))\n",
    "                   \n",
    "    paramsPBS = corrfitPB_model.make_params()\n",
    "    paramsPBS['w0'].set(value=1,vary=False)\n",
    "    paramsPBS['N'].set(value=20,vary=True)\n",
    "    paramsPBS['D'].set(value=D,vary=True)\n",
    "    paramsPBS['L'].set(value=L,vary=False)\n",
    "\n",
    "    resultPBS = corrfitPB_model.fit(t=t,data=y,weights=1/acf_std,params=paramsPBS)\n",
    "    \n",
    "    NS_list.append(resultPBS.values['N'])\n",
    "    DS_list.append(resultPBS.values['D'])\n",
    "    dNS_list.append(np.sqrt(resultPBS.covar[0,0]))\n",
    "    dDS_list.append(np.sqrt(resultPBS.covar[1,1]))\n"
   ]
  },
  {
   "cell_type": "code",
   "execution_count": 7,
   "metadata": {},
   "outputs": [],
   "source": [
    "N_list = np.array(N_list)\n",
    "dN_list = np.array(dN_list)\n",
    "D_list = np.array(D_list)\n",
    "dD_list = np.array(dD_list)\n",
    "\n",
    "NS_list = np.array(NS_list)\n",
    "dNS_list = np.array(dNS_list)\n",
    "DS_list = np.array(DS_list)\n",
    "dDS_list = np.array(dDS_list)"
   ]
  },
  {
   "cell_type": "code",
   "execution_count": 8,
   "metadata": {},
   "outputs": [
    {
     "name": "stdout",
     "output_type": "stream",
     "text": [
      "1.0266645910356478 0.11747179228937546\n",
      "1.4128509872772401 0.17158020420383596\n"
     ]
    },
    {
     "name": "stderr",
     "output_type": "stream",
     "text": [
      "/Users/hstrey/anaconda3/lib/python3.6/site-packages/matplotlib/axes/_axes.py:6462: UserWarning: The 'normed' kwarg is deprecated, and has been replaced by the 'density' kwarg.\n",
      "  warnings.warn(\"The 'normed' kwarg is deprecated, and has been \"\n"
     ]
    },
    {
     "data": {
      "image/png": "[encoded data removed]",
      "text/plain": [
       "<Figure size 432x288 with 1 Axes>"
      ]
     },
     "metadata": {},
     "output_type": "display_data"
    }
   ],
   "source": [
    "plt.hist(N_list,bins=30,normed=True,color=\"blue\",edgecolor=\"k\",label=\"LS\")\n",
    "plt.hist(NS_list,bins=30,normed=True,color=\"green\",edgecolor=\"k\",alpha=0.7,label=\"LSW\")\n",
    "plt.xlim((15,25))\n",
    "plt.legend()\n",
    "print(N_list.std(),dN_list.mean())\n",
    "print(NS_list.std(),dNS_list.mean())"
   ]
  },
  {
   "cell_type": "code",
   "execution_count": 12,
   "metadata": {},
   "outputs": [
    {
     "name": "stderr",
     "output_type": "stream",
     "text": [
      "/Users/hstrey/anaconda3/lib/python3.6/site-packages/matplotlib/axes/_axes.py:6462: UserWarning: The 'normed' kwarg is deprecated, and has been replaced by the 'density' kwarg.\n",
      "  warnings.warn(\"The 'normed' kwarg is deprecated, and has been \"\n"
     ]
    },
    {
     "name": "stdout",
     "output_type": "stream",
     "text": [
      "1.0154434029671604 0.12528760927899654 0.00956514955830179\n",
      "1.0174720391061711 0.1478594798497769 0.011531104131175992\n"
     ]
    },
    {
     "data": {
      "image/png": "[encoded data removed]",
      "text/plain": [
       "<Figure size 360x216 with 1 Axes>"
      ]
     },
     "metadata": {},
     "output_type": "display_data"
    }
   ],
   "source": [
    "plt.figure(figsize=(5, 3))\n",
    "plt.hist(D_list,bins=30,normed=True,color=\"blue\",edgecolor=\"k\",label=\"LS\")\n",
    "plt.hist(DS_list,bins=30,normed=True,color=\"green\",edgecolor=\"k\",label=\"LSW\",alpha=0.7)\n",
    "plt.axvline(x=1.0,color=\"r\")\n",
    "plt.xlabel(\"D\")\n",
    "plt.ylabel(\"p(D)\")\n",
    "\n",
    "plt.legend()\n",
    "print(D_list.mean(),D_list.std(),dD_list.mean())\n",
    "print(DS_list.mean(),DS_list.std(),dDS_list.mean())\n",
    "plt.savefig(\"FCS_D300.png\",format=\"png\",dpi=300,bbox_inches='tight',facecolor=\"white\",backgroundcolor=\"white\")"
   ]
  },
  {
   "cell_type": "code",
   "execution_count": 13,
   "metadata": {},
   "outputs": [
    {
     "name": "stderr",
     "output_type": "stream",
     "text": [
      "/Users/hstrey/anaconda3/lib/python3.6/site-packages/matplotlib/axes/_axes.py:6462: UserWarning: The 'normed' kwarg is deprecated, and has been replaced by the 'density' kwarg.\n",
      "  warnings.warn(\"The 'normed' kwarg is deprecated, and has been \"\n"
     ]
    },
    {
     "name": "stdout",
     "output_type": "stream",
     "text": [
      "1.2554387116377557 0.06433666231131067 0.00736145290060321\n",
      "1.2575397212351032 0.08853730581373634 0.0107521947806074\n"
     ]
    },
    {
     "data": {
      "image/png": "[encoded data removed]",
      "text/plain": [
       "<Figure size 360x216 with 1 Axes>"
      ]
     },
     "metadata": {},
     "output_type": "display_data"
    }
   ],
   "source": [
    "# instead of fitting how many particles per box N, we want to measure how many particles per focus\n",
    "# size of focus is sqrt(pi/2)*w = 1.25\n",
    "F_list = N_list/20.0*np.sqrt(np.pi/2)\n",
    "dF_list = dN_list/20.0*np.sqrt(np.pi/2)\n",
    "FS_list = NS_list/20.0*np.sqrt(np.pi/2)\n",
    "dFS_list = dNS_list/20.0*np.sqrt(np.pi/2)\n",
    "\n",
    "plt.figure(figsize=(5, 3))\n",
    "plt.hist(F_list,bins=30,normed=True,color=\"blue\",edgecolor=\"k\",label=\"LS\")\n",
    "plt.hist(FS_list,bins=30,normed=True,color=\"green\",edgecolor=\"k\",alpha=0.7,label=\"LSW\")\n",
    "plt.axvline(x=np.sqrt(np.pi/2),color=\"r\")\n",
    "plt.legend()\n",
    "plt.xlim((1,1.65))\n",
    "plt.xlabel(\"N\")\n",
    "plt.ylabel(\"p(N)\")\n",
    "print(F_list.mean(),F_list.std(),dF_list.mean())\n",
    "print(FS_list.mean(),FS_list.std(),dFS_list.mean())\n",
    "plt.savefig(\"FCS_N300.png\",format=\"png\",dpi=300,bbox_inches='tight',facecolor=\"white\",backgroundcolor=\"white\")"
   ]
  },
  {
   "cell_type": "code",
   "execution_count": 11,
   "metadata": {},
   "outputs": [
    {
     "name": "stdout",
     "output_type": "stream",
     "text": [
      "1.0154434029671604 0.12528760927899654 0.00956514955830179 0.005603032221725393\n",
      "1.0174720391061711 0.1478594798497769 0.011531104131175992 0.00661247696123723\n",
      "1.2554387116377557 0.06433666231131067 0.00736145290060321 0.002877223007470788\n",
      "1.2575397212351032 0.08853730581373634 0.0107521947806074 0.003959508686884035\n"
     ]
    }
   ],
   "source": [
    "#find out whether the means are ok\n",
    "stderr = np.sqrt(N_list.size)\n",
    "print(D_list.mean(),D_list.std(),dD_list.mean(),D_list.std()/stderr)\n",
    "print(DS_list.mean(),DS_list.std(),dDS_list.mean(),DS_list.std()/stderr)\n",
    "print(F_list.mean(),F_list.std(),dF_list.mean(),F_list.std()/stderr)\n",
    "print(FS_list.mean(),FS_list.std(),dFS_list.mean(),FS_list.std()/stderr)"
   ]
  }
 ],
 "metadata": {
  "anaconda-cloud": {},
  "kernelspec": {
   "display_name": "Python 3",
   "language": "python",
   "name": "python3"
  },
  "language_info": {
   "codemirror_mode": {
    "name": "ipython",
    "version": 3
   },
   "file_extension": ".py",
   "mimetype": "text/x-python",
   "name": "python",
   "nbconvert_exporter": "python",
   "pygments_lexer": "ipython3",
   "version": "3.6.5"
  }
 },
 "nbformat": 4,
 "nbformat_minor": 1
}
