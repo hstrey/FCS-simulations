{
 "cells": [
  {
   "cell_type": "code",
   "execution_count": 10,
   "metadata": {
    "collapsed": true
   },
   "outputs": [],
   "source": [
    "%matplotlib inline\n",
    "import numpy as np\n",
    "import matplotlib.pyplot as plt\n",
    "import lmfit as lm\n",
    "import scipy.special as sf\n",
    "from scipy.stats import norm\n",
    "\n",
    "SMALL_SIZE = 16\n",
    "MEDIUM_SIZE = 18\n",
    "BIGGER_SIZE = 20\n",
    "\n",
    "plt.rc('font', size=SMALL_SIZE)          # controls default text sizes\n",
    "plt.rc('axes', titlesize=SMALL_SIZE)     # fontsize of the axes title\n",
    "plt.rc('axes', labelsize=MEDIUM_SIZE)    # fontsize of the x and y labels\n",
    "plt.rc('xtick', labelsize=SMALL_SIZE)    # fontsize of the tick labels\n",
    "plt.rc('ytick', labelsize=SMALL_SIZE)    # fontsize of the tick labels\n",
    "plt.rc('legend', fontsize=SMALL_SIZE)    # legend fontsize\n",
    "plt.rc('figure', titlesize=BIGGER_SIZE)  # fontsize of the figure title\n",
    "\n",
    "SEED = 350107321 # from random.org\n",
    "np.random.seed(SEED)"
   ]
  },
  {
   "cell_type": "code",
   "execution_count": 11,
   "metadata": {
    "collapsed": true
   },
   "outputs": [],
   "source": [
    "# this is the more realistic model with periodic boundary conditions -L,L\n",
    "def corrfitPB(t,N,D,w0,L):\n",
    "    nmax = 20\n",
    "    n = np.arange(1,nmax)\n",
    "    nn,tt = np.meshgrid(n,t)\n",
    "    \n",
    "    efa = nn*np.pi*w0**2*1j\n",
    "    an = np.exp(-nn**2*np.pi**2*w0**2/2/L**2)*(sf.erf((L**2-efa)/np.sqrt(2)/L/w0)+sf.erf((L**2+efa)/np.sqrt(2)/L/w0))\n",
    "    an = np.absolute(an)**2*np.exp(-D*nn**2*np.pi**2*tt/L**2)\n",
    "    return np.sum(an,axis=1)/N/2"
   ]
  },
  {
   "cell_type": "code",
   "execution_count": 12,
   "metadata": {
    "collapsed": true
   },
   "outputs": [],
   "source": [
    "dt = 0.1\n",
    "D = 1.0\n",
    "L = 10\n",
    "#xl = 5.0\n",
    "#xr = 6.0\n",
    "N = 20\n",
    "length = 10000"
   ]
  },
  {
   "cell_type": "code",
   "execution_count": 14,
   "metadata": {},
   "outputs": [],
   "source": [
    "acf_all=None\n",
    "for i in range(1000):\n",
    "    # generate steps for all particles\n",
    "    steps=np.random.normal(loc=0.0, scale=np.sqrt(2*D*dt), size=(N,length))\n",
    "    # initial positions\n",
    "    x = 2*L*np.random.random(size=(N,))\n",
    "    # put initial position in front\n",
    "    x = np.column_stack((x, steps))\n",
    "    # calculate paths\n",
    "    paths = np.mod(np.cumsum(x, axis=1),2*L)-L\n",
    "    # place a Gaussian illumination at x=5.5 with unit variance\n",
    "    intensity = norm.pdf(paths, loc=0)\n",
    "    intensity = np.sum(intensity, axis=0)\n",
    "\n",
    "    # calculate autocorrelation function\n",
    "    f = np.fft.rfft(intensity)\n",
    "    acf = np.fft.irfft(f * np.conjugate(f))\n",
    "    acf = np.fft.fftshift(acf) / length\n",
    "    autocorr = acf[int(length/2):]/intensity.mean()**2\n",
    "\n",
    "    autocorr = autocorr[:1000]-1.0\n",
    "    t = np.arange(0,autocorr.size)*dt\n",
    "    \n",
    "    if acf_all is None:\n",
    "        acf_all = autocorr\n",
    "    else:\n",
    "        acf_all = np.vstack((acf_all, autocorr))\n",
    "        \n",
    "acf_std = np.std(acf_all, axis=0)\n",
    "acf_mean = np.mean(acf_all, axis=0)"
   ]
  },
  {
   "cell_type": "code",
   "execution_count": 15,
   "metadata": {},
   "outputs": [
    {
     "data": {
      "text/plain": [
       "<Container object of 3 artists>"
      ]
     },
     "execution_count": 15,
     "metadata": {},
     "output_type": "execute_result"
    },
    {
     "data": {
      "image/png": "[encoded data removed]",
      "text/plain": [
       "<matplotlib.figure.Figure at 0x1067283c8>"
      ]
     },
     "metadata": {},
     "output_type": "display_data"
    }
   ],
   "source": [
    "plt.errorbar(t,acf_mean,yerr=acf_std)"
   ]
  },
  {
   "cell_type": "code",
   "execution_count": 17,
   "metadata": {},
   "outputs": [],
   "source": [
    "N_list=[]\n",
    "D_list=[]\n",
    "dN_list=[]\n",
    "dD_list=[]\n",
    "\n",
    "NS_list=[]\n",
    "DS_list=[]\n",
    "dNS_list=[]\n",
    "dDS_list=[]\n",
    "\n",
    "corrfitPB_model=lm.Model(corrfitPB)\n",
    "\n",
    "for y in acf_all:\n",
    "    paramsPB = corrfitPB_model.make_params()\n",
    "    paramsPB['w0'].set(value=1,vary=False)\n",
    "    paramsPB['N'].set(value=20,vary=True)\n",
    "    paramsPB['D'].set(value=D,vary=True)\n",
    "    paramsPB['L'].set(value=L,vary=False)\n",
    "\n",
    "    resultPB = corrfitPB_model.fit(t=t,data=y,params=paramsPB)\n",
    "    \n",
    "    N_list.append(resultPB.values['N'])\n",
    "    D_list.append(resultPB.values['D'])\n",
    "    dN_list.append(np.sqrt(resultPB.covar[0,0]))\n",
    "    dD_list.append(np.sqrt(resultPB.covar[1,1]))\n",
    "                   \n",
    "    paramsPBS = corrfitPB_model.make_params()\n",
    "    paramsPBS['w0'].set(value=1,vary=False)\n",
    "    paramsPBS['N'].set(value=20,vary=True)\n",
    "    paramsPBS['D'].set(value=D,vary=True)\n",
    "    paramsPBS['L'].set(value=L,vary=False)\n",
    "\n",
    "    resultPBS = corrfitPB_model.fit(t=t,data=y,weights=1/acf_std,params=paramsPBS)\n",
    "    \n",
    "    NS_list.append(resultPBS.values['N'])\n",
    "    DS_list.append(resultPBS.values['D'])\n",
    "    dNS_list.append(np.sqrt(resultPBS.covar[0,0]))\n",
    "    dDS_list.append(np.sqrt(resultPBS.covar[1,1]))\n"
   ]
  },
  {
   "cell_type": "code",
   "execution_count": 18,
   "metadata": {
    "collapsed": true
   },
   "outputs": [],
   "source": [
    "N_list = np.array(N_list)\n",
    "dN_list = np.array(dN_list)\n",
    "D_list = np.array(D_list)\n",
    "dD_list = np.array(dD_list)\n",
    "\n",
    "NS_list = np.array(NS_list)\n",
    "dNS_list = np.array(dNS_list)\n",
    "DS_list = np.array(DS_list)\n",
    "dDS_list = np.array(dDS_list)"
   ]
  },
  {
   "cell_type": "code",
   "execution_count": 26,
   "metadata": {},
   "outputs": [
    {
     "name": "stdout",
     "output_type": "stream",
     "text": [
      "3.56543404199 0.380504934476\n",
      "5.15445045945 0.529831442644\n"
     ]
    },
    {
     "data": {
      "image/png": "[encoded data removed]",
      "text/plain": [
       "<matplotlib.figure.Figure at 0x10ce07898>"
      ]
     },
     "metadata": {},
     "output_type": "display_data"
    }
   ],
   "source": [
    "plt.hist(N_list,bins=30,normed=True,label=\"LS\")\n",
    "plt.hist(NS_list,bins=30,normed=True,alpha=0.5,label=\"LSW\")\n",
    "plt.xlim((5,40))\n",
    "plt.legend()\n",
    "print(N_list.std(),dN_list.mean())\n",
    "print(NS_list.std(),dNS_list.mean())"
   ]
  },
  {
   "cell_type": "code",
   "execution_count": 37,
   "metadata": {},
   "outputs": [
    {
     "name": "stdout",
     "output_type": "stream",
     "text": [
      "1.15094247306 0.402176623747 0.0358597628976\n",
      "1.1745911901 0.455869893791 0.0439422521728\n"
     ]
    },
    {
     "data": {
      "image/png": "[encoded data removed]",
      "text/plain": [
       "<matplotlib.figure.Figure at 0x11005b780>"
      ]
     },
     "metadata": {},
     "output_type": "display_data"
    }
   ],
   "source": [
    "plt.hist(D_list,bins=30,normed=True,label=\"LS\")\n",
    "plt.hist(DS_list,bins=30,normed=True,label=\"LSW\",alpha=0.5)\n",
    "plt.axvline(x=1.0,color=\"r\")\n",
    "plt.xlabel(\"D\")\n",
    "plt.ylabel(\"p(D)\")\n",
    "\n",
    "plt.legend()\n",
    "print(D_list.mean(),D_list.std(),dD_list.mean())\n",
    "print(DS_list.mean(),DS_list.std(),dDS_list.mean())"
   ]
  },
  {
   "cell_type": "code",
   "execution_count": 38,
   "metadata": {},
   "outputs": [
    {
     "name": "stdout",
     "output_type": "stream",
     "text": [
      "2.52923060359 0.44686088905 0.0476892213697\n",
      "2.55291189154 0.646014563092 0.066404523746\n"
     ]
    },
    {
     "data": {
      "image/png": "[encoded data removed]",
      "text/plain": [
       "<matplotlib.figure.Figure at 0x10d7706a0>"
      ]
     },
     "metadata": {},
     "output_type": "display_data"
    }
   ],
   "source": [
    "# instead of fitting how many particles per box N, we want to measure how many particles per focus\n",
    "# size of focus is sqrt(2*pi)*w = 2.5066\n",
    "F_list = N_list/20.0*np.sqrt(2*np.pi)\n",
    "dF_list = dN_list/20.0*np.sqrt(2*np.pi)\n",
    "FS_list = NS_list/20.0*np.sqrt(2*np.pi)\n",
    "dFS_list = dNS_list/20.0*np.sqrt(2*np.pi)\n",
    "\n",
    "plt.hist(F_list,bins=30,normed=True,label=\"LS\")\n",
    "plt.hist(FS_list,bins=30,normed=True,alpha=0.5,label=\"LSW\")\n",
    "plt.axvline(x=np.sqrt(2*np.pi),color=\"r\")\n",
    "plt.legend()\n",
    "plt.xlim((1,6))\n",
    "plt.xlabel(\"N\")\n",
    "plt.ylabel(\"p(N)\")\n",
    "print(F_list.mean(),F_list.std(),dF_list.mean())\n",
    "print(FS_list.mean(),FS_list.std(),dFS_list.mean())"
   ]
  },
  {
   "cell_type": "code",
   "execution_count": null,
   "metadata": {
    "collapsed": true
   },
   "outputs": [],
   "source": []
  }
 ],
 "metadata": {
  "anaconda-cloud": {},
  "kernelspec": {
   "display_name": "Python [conda env:python3]",
   "language": "python",
   "name": "conda-env-python3-py"
  },
  "language_info": {
   "codemirror_mode": {
    "name": "ipython",
    "version": 3
   },
   "file_extension": ".py",
   "mimetype": "text/x-python",
   "name": "python",
   "nbconvert_exporter": "python",
   "pygments_lexer": "ipython3",
   "version": "3.5.4"
  }
 },
 "nbformat": 4,
 "nbformat_minor": 1
}
