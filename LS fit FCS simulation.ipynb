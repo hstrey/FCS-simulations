{
 "cells": [
  {
   "cell_type": "code",
   "execution_count": 3,
   "metadata": {
    "collapsed": true
   },
   "outputs": [],
   "source": [
    "%matplotlib inline\n",
    "import numpy as np\n",
    "import matplotlib.pyplot as plt\n",
    "import lmfit as lm\n",
    "import scipy.special as sf\n",
    "from scipy.stats import norm"
   ]
  },
  {
   "cell_type": "code",
   "execution_count": 4,
   "metadata": {
    "collapsed": true
   },
   "outputs": [],
   "source": [
    "# this is the more realistic model with periodic boundary conditions -L,L\n",
    "def corrfitPB(t,N,D,w0,L):\n",
    "    nmax = 20\n",
    "    n = np.arange(1,nmax)\n",
    "    nn,tt = np.meshgrid(n,t)\n",
    "    \n",
    "    efa = nn*np.pi*w0**2*1j\n",
    "    an = np.exp(-nn**2*np.pi**2*w0**2/2/L**2)*(sf.erf((L**2-efa)/np.sqrt(2)/L/w0)+sf.erf((L**2+efa)/np.sqrt(2)/L/w0))\n",
    "    an = np.absolute(an)**2*np.exp(-D*nn**2*np.pi**2*tt/L**2)\n",
    "    return np.sum(an,axis=1)/N/2"
   ]
  },
  {
   "cell_type": "code",
   "execution_count": 11,
   "metadata": {
    "collapsed": true
   },
   "outputs": [],
   "source": [
    "dt = 0.1\n",
    "D = 1.0\n",
    "L = 10\n",
    "#xl = 5.0\n",
    "#xr = 6.0\n",
    "N = 20\n",
    "length = 10000"
   ]
  },
  {
   "cell_type": "code",
   "execution_count": null,
   "metadata": {
    "collapsed": false
   },
   "outputs": [],
   "source": [
    "N_list=[]\n",
    "D_list=[]\n",
    "dN_list=[]\n",
    "dD_list=[]\n",
    "for i in range(1000):\n",
    "    # generate steps for all particles\n",
    "    steps=np.random.normal(loc=0.0, scale=np.sqrt(2*D*dt), size=(N,length))\n",
    "    # initial positions\n",
    "    x = 2*L*np.random.random(size=(N,))\n",
    "    # put initial position in front\n",
    "    x = np.column_stack((x, steps))\n",
    "    # calculate paths\n",
    "    paths = np.mod(np.cumsum(x, axis=1),2*L)-L\n",
    "    # place a Gaussian illumination at x=5.5 with unit variance\n",
    "    intensity = norm.pdf(paths, loc=0)\n",
    "    intensity = np.sum(intensity, axis=0)\n",
    "\n",
    "    # calculate autocorrelation function\n",
    "    f = np.fft.rfft(intensity)\n",
    "    acf = np.fft.irfft(f * np.conjugate(f))\n",
    "    acf = np.fft.fftshift(acf) / length\n",
    "    autocorr = acf[int(length/2):]/intensity.mean()**2\n",
    "\n",
    "    autocorr = autocorr[:1000]-1.0\n",
    "    t = np.arange(0,autocorr.size)*dt\n",
    "    \n",
    "    corrfitPB_model=lm.Model(corrfitPB)\n",
    "    paramsPB = corrfitPB_model.make_params()\n",
    "    paramsPB['w0'].set(value=1,vary=False)\n",
    "    paramsPB['N'].set(value=20,vary=True)\n",
    "    paramsPB['D'].set(value=D,vary=True)\n",
    "    paramsPB['L'].set(value=L,vary=False)\n",
    "\n",
    "    resultPB = corrfitPB_model.fit(t=t,data=autocorr,params=paramsPB)\n",
    "    \n",
    "    N_list.append(resultPB.values['N'])\n",
    "    D_list.append(resultPB.values['D'])\n",
    "    dN_list.append(np.sqrt(resultPB.covar[0,0]))\n",
    "    dD_list.append(np.sqrt(resultPB.covar[1,1]))\n",
    "\n",
    "    \n",
    "#    print(resultPB.fit_report())\n",
    "\n",
    "#    plt.semilogx(t, autocorr,         'bo')\n",
    "#    plt.semilogx(t, resultPB.init_fit, 'k--')\n",
    "#    plt.semilogx(t, resultPB.best_fit, 'r-')"
   ]
  },
  {
   "cell_type": "code",
   "execution_count": null,
   "metadata": {
    "collapsed": true
   },
   "outputs": [],
   "source": []
  }
 ],
 "metadata": {
  "anaconda-cloud": {},
  "kernelspec": {
   "display_name": "Python [conda env:python3]",
   "language": "python",
   "name": "conda-env-python3-py"
  },
  "language_info": {
   "codemirror_mode": {
    "name": "ipython",
    "version": 3
   },
   "file_extension": ".py",
   "mimetype": "text/x-python",
   "name": "python",
   "nbconvert_exporter": "python",
   "pygments_lexer": "ipython3",
   "version": "3.5.2"
  }
 },
 "nbformat": 4,
 "nbformat_minor": 1
}
