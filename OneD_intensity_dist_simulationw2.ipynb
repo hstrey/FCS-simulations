{
 "cells": [
  {
   "cell_type": "code",
   "execution_count": 6,
   "metadata": {},
   "outputs": [],
   "source": [
    "%matplotlib inline\n",
    "import numpy as np\n",
    "import matplotlib.pyplot as plt\n",
    "import lmfit as lm\n",
    "import scipy.special as sf\n",
    "from scipy.stats import norm\n",
    "\n",
    "SMALL_SIZE = 20\n",
    "MEDIUM_SIZE = 20\n",
    "BIGGER_SIZE = 20\n",
    "\n",
    "plt.rc('font', size=SMALL_SIZE)          # controls default text sizes\n",
    "plt.rc('axes', titlesize=SMALL_SIZE)     # fontsize of the axes title\n",
    "plt.rc('axes', labelsize=MEDIUM_SIZE)    # fontsize of the x and y labels\n",
    "plt.rc('xtick', labelsize=SMALL_SIZE)    # fontsize of the tick labels\n",
    "plt.rc('ytick', labelsize=SMALL_SIZE)    # fontsize of the tick labels\n",
    "plt.rc('legend', fontsize=SMALL_SIZE)    # legend fontsize\n",
    "plt.rc('figure', titlesize=BIGGER_SIZE)  # fontsize of the figure title"
   ]
  },
  {
   "cell_type": "code",
   "execution_count": 7,
   "metadata": {},
   "outputs": [
    {
     "name": "stdout",
     "output_type": "stream",
     "text": [
      "-19.798994974874372 19.798994974874375\n"
     ]
    }
   ],
   "source": [
    "# the plan is to simulate intensity distribution by using a Poisson distribution\n",
    "# over a small area.  The first thing that we have to figure out is over which length\n",
    "# a normal distribution will be non-zero given double resolution\n",
    "w = 2 # is the way the Gaussian width is defined in optics\n",
    "sigma = w/2\n",
    "ep = 1.0\n",
    "x = np.linspace(-20,20,200)\n",
    "intensity = ep*sigma*np.sqrt(2*np.pi)*norm.pdf(x, loc=0,scale=sigma)\n",
    "#print(intensity)\n",
    "print(x[1],x[-2])"
   ]
  },
  {
   "cell_type": "code",
   "execution_count": 8,
   "metadata": {},
   "outputs": [
    {
     "name": "stdout",
     "output_type": "stream",
     "text": [
      "39.59798994974875\n"
     ]
    }
   ],
   "source": [
    "# set limits and define the length of the box\n",
    "xlim1 = x[1]\n",
    "xlim2 = x[-2]\n",
    "L = xlim2-xlim1\n",
    "print(L)"
   ]
  },
  {
   "cell_type": "code",
   "execution_count": 9,
   "metadata": {},
   "outputs": [
    {
     "name": "stdout",
     "output_type": "stream",
     "text": [
      "78.98656204932891\n"
     ]
    }
   ],
   "source": [
    "# we want a certain number of particles per length\n",
    "# for a particular w which represents an effective size of sqrt(pi)/2*w\n",
    "N_avg = 5\n",
    "N_avg_L = N_avg*L/np.sqrt(np.pi)*np.sqrt(2)/w\n",
    "print(N_avg_L)"
   ]
  },
  {
   "cell_type": "code",
   "execution_count": 10,
   "metadata": {},
   "outputs": [],
   "source": [
    "N_samples = 1000000\n",
    "N_draws = np.random.poisson(N_avg_L,N_samples)\n",
    "int_list = [np.sum(ep*sigma*np.sqrt(2*np.pi)*\n",
    "                   norm.pdf(xlim1 + L*np.random.random(n), loc=0,scale=sigma))\n",
    "                  for n in N_draws]\n",
    "int_list = np.array(int_list)"
   ]
  },
  {
   "cell_type": "code",
   "execution_count": 11,
   "metadata": {},
   "outputs": [
    {
     "data": {
      "image/png": "[encoded data removed]",
      "text/plain": [
       "<Figure size 432x288 with 1 Axes>"
      ]
     },
     "metadata": {
      "needs_background": "light"
     },
     "output_type": "display_data"
    }
   ],
   "source": [
    "_ = plt.hist(int_list,bins=500,density=True)\n",
    "#plt.ylim((0,1))\n",
    "plt.xlim((0,15))\n",
    "plt.xlabel(\"Intensity\")\n",
    "plt.ylabel(\"p(Intensity)\")\n",
    "plt.savefig(\"OneDN5w2.png\",format='png',dpi=300,bbox_inches='tight',facecolor=\"white\",backgroundcolor=\"white\")\n",
    "#plt.savefig(\"OneDN5.pdf\",format='pdf',dpi=300,bbox_inches='tight',facecolor=\"white\",backgroundcolor=\"white\")"
   ]
  },
  {
   "cell_type": "code",
   "execution_count": 12,
   "metadata": {},
   "outputs": [
    {
     "data": {
      "text/plain": [
       "4.999153901119689"
      ]
     },
     "execution_count": 12,
     "metadata": {},
     "output_type": "execute_result"
    }
   ],
   "source": [
    "int_list.mean()"
   ]
  },
  {
   "cell_type": "code",
   "execution_count": 13,
   "metadata": {},
   "outputs": [
    {
     "name": "stdout",
     "output_type": "stream",
     "text": [
      "31.594624819731564\n"
     ]
    }
   ],
   "source": [
    "# we want a certain number of particles per length\n",
    "# for a particular w which represents an effective size of sqrt(pi)/2*w\n",
    "N_avg = 2\n",
    "N_avg_L = N_avg*L/np.sqrt(np.pi)*np.sqrt(2)/w\n",
    "print(N_avg_L)\n",
    "\n",
    "N_samples = 1000000\n",
    "N_draws2 = np.random.poisson(N_avg_L,N_samples)\n",
    "int_list2 = [np.sum(ep*sigma*np.sqrt(2*np.pi)*\n",
    "                   norm.pdf(xlim1 + L*np.random.random(n), loc=0,scale=sigma))\n",
    "                  for n in N_draws2]\n",
    "int_list2 = np.array(int_list2)"
   ]
  },
  {
   "cell_type": "code",
   "execution_count": 14,
   "metadata": {},
   "outputs": [
    {
     "data": {
      "image/png": "[encoded data removed]",
      "text/plain": [
       "<Figure size 432x288 with 1 Axes>"
      ]
     },
     "metadata": {
      "needs_background": "light"
     },
     "output_type": "display_data"
    }
   ],
   "source": [
    "_ = plt.hist(int_list2,bins=500,density=True)\n",
    "#plt.ylim((0,1))\n",
    "plt.xlim((0,7))\n",
    "plt.xlabel(\"Intensity\")\n",
    "plt.ylabel(\"p(Intensity)\")\n",
    "plt.savefig(\"OneDN2w2.png\",format='png',dpi=300,bbox_inches='tight',facecolor=\"white\",backgroundcolor=\"white\")\n",
    "#plt.savefig(\"OneDN2.pdf\",format='pdf',dpi=300,bbox_inches='tight',facecolor=\"white\",backgroundcolor=\"white\")"
   ]
  },
  {
   "cell_type": "code",
   "execution_count": 15,
   "metadata": {},
   "outputs": [
    {
     "name": "stdout",
     "output_type": "stream",
     "text": [
      "15.797312409865782\n"
     ]
    }
   ],
   "source": [
    "# we want a certain number of particles per length\n",
    "# for a particular w which represents an effective size of sqrt(pi)/2*w\n",
    "N_avg = 1\n",
    "N_avg_L = N_avg*L/np.sqrt(np.pi)*np.sqrt(2)/w\n",
    "print(N_avg_L)\n",
    "\n",
    "N_samples = 1000000\n",
    "N_draws1 = np.random.poisson(N_avg_L,N_samples)\n",
    "int_list1 = [np.sum(ep*sigma*np.sqrt(2*np.pi)*\n",
    "                   norm.pdf(xlim1 + L*np.random.random(n), loc=0,scale=sigma))\n",
    "                  for n in N_draws1]\n",
    "int_list1 = np.array(int_list1)"
   ]
  },
  {
   "cell_type": "code",
   "execution_count": 16,
   "metadata": {},
   "outputs": [
    {
     "data": {
      "image/png": "[encoded data removed]",
      "text/plain": [
       "<Figure size 432x288 with 1 Axes>"
      ]
     },
     "metadata": {
      "needs_background": "light"
     },
     "output_type": "display_data"
    }
   ],
   "source": [
    "_ = plt.hist(int_list1,bins=500,density=True)\n",
    "plt.ylim((0,1))\n",
    "plt.xlim((0,4))\n",
    "plt.xlabel(\"Intensity\")\n",
    "plt.ylabel(\"p(Intensity)\")\n",
    "plt.savefig(\"OneDN1w2.png\",format='png',dpi=300,bbox_inches='tight',facecolor=\"white\",backgroundcolor=\"white\")\n",
    "#plt.savefig(\"OneDN1.pdf\",format='pdf',dpi=300,bbox_inches='tight',facecolor=\"white\",backgroundcolor=\"white\")"
   ]
  },
  {
   "cell_type": "code",
   "execution_count": 17,
   "metadata": {},
   "outputs": [
    {
     "name": "stdout",
     "output_type": "stream",
     "text": [
      "7.898656204932891\n"
     ]
    }
   ],
   "source": [
    "# we want a certain number of particles per length\n",
    "# for a particular w which represents an effective size of sqrt(pi)/2*w\n",
    "N_avg = 0.5\n",
    "N_avg_L = N_avg*L/np.sqrt(np.pi)*np.sqrt(2)/w\n",
    "print(N_avg_L)\n",
    "\n",
    "N_samples = 1000000\n",
    "N_draws05 = np.random.poisson(N_avg_L,N_samples)\n",
    "int_list05 = [np.sum(ep*sigma*np.sqrt(2*np.pi)*\n",
    "                   norm.pdf(xlim1 + L*np.random.random(n), loc=0,scale=sigma))\n",
    "                  for n in N_draws05]\n",
    "int_list05 = np.array(int_list05)"
   ]
  },
  {
   "cell_type": "code",
   "execution_count": 18,
   "metadata": {},
   "outputs": [
    {
     "data": {
      "image/png": "[encoded data removed]",
      "text/plain": [
       "<Figure size 432x288 with 1 Axes>"
      ]
     },
     "metadata": {
      "needs_background": "light"
     },
     "output_type": "display_data"
    }
   ],
   "source": [
    "_ = plt.hist(int_list05,bins=500,density=True)\n",
    "plt.ylim((0,1))\n",
    "plt.xlim((0,4))\n",
    "plt.xlabel(\"Intensity\")\n",
    "plt.ylabel(\"p(Intensity)\")\n",
    "plt.savefig(\"OneDN05w2.png\",format='png',dpi=300,bbox_inches='tight',facecolor=\"white\",backgroundcolor=\"white\")\n",
    "#plt.savefig(\"OneDN05.pdf\",format='pdf',dpi=300,bbox_inches='tight',facecolor=\"white\",backgroundcolor=\"white\")"
   ]
  },
  {
   "cell_type": "code",
   "execution_count": 19,
   "metadata": {},
   "outputs": [
    {
     "name": "stdout",
     "output_type": "stream",
     "text": [
      "3.1594624819731565\n"
     ]
    }
   ],
   "source": [
    "# we want a certain number of particles per length\n",
    "# for a particular w which represents an effective size of sqrt(pi)/2*w\n",
    "N_avg = 0.2\n",
    "N_avg_L = N_avg*L/np.sqrt(np.pi)*np.sqrt(2)/w\n",
    "print(N_avg_L)\n",
    "\n",
    "N_samples = 1000000\n",
    "N_draws02 = np.random.poisson(N_avg_L,N_samples)\n",
    "int_list02 = [np.sum(ep*sigma*np.sqrt(2*np.pi)*\n",
    "                   norm.pdf(xlim1 + L*np.random.random(n), loc=0,scale=sigma))\n",
    "                  for n in N_draws02]\n",
    "int_list02 = np.array(int_list02)"
   ]
  },
  {
   "cell_type": "code",
   "execution_count": 20,
   "metadata": {},
   "outputs": [
    {
     "data": {
      "image/png": "[encoded data removed]",
      "text/plain": [
       "<Figure size 432x288 with 1 Axes>"
      ]
     },
     "metadata": {
      "needs_background": "light"
     },
     "output_type": "display_data"
    }
   ],
   "source": [
    "_ = plt.hist(int_list02,bins=500,density=True)\n",
    "plt.ylim((0,1))\n",
    "plt.xlim((0,2.5))\n",
    "plt.xlabel(\"Intensity\")\n",
    "plt.ylabel(\"p(Intensity)\")\n",
    "plt.savefig(\"OneDN02w2.png\",format='png',dpi=300,bbox_inches='tight',facecolor=\"white\",backgroundcolor=\"white\")\n",
    "#plt.savefig(\"OneDN02.pdf\",format='pdf',dpi=300,bbox_inches='tight',facecolor=\"white\",backgroundcolor=\"white\")"
   ]
  },
  {
   "cell_type": "code",
   "execution_count": null,
   "metadata": {},
   "outputs": [],
   "source": []
  }
 ],
 "metadata": {
  "kernelspec": {
   "display_name": "Python 3",
   "language": "python",
   "name": "python3"
  },
  "language_info": {
   "codemirror_mode": {
    "name": "ipython",
    "version": 3
   },
   "file_extension": ".py",
   "mimetype": "text/x-python",
   "name": "python",
   "nbconvert_exporter": "python",
   "pygments_lexer": "ipython3",
   "version": "3.6.6"
  }
 },
 "nbformat": 4,
 "nbformat_minor": 2
}
