{
 "cells": [
  {
   "cell_type": "code",
   "execution_count": 2,
   "metadata": {
    "collapsed": true
   },
   "outputs": [],
   "source": [
    "%matplotlib inline\n",
    "import numpy as np\n",
    "import matplotlib.pyplot as plt\n",
    "import lmfit as lm\n",
    "import scipy.special as sf"
   ]
  },
  {
   "cell_type": "code",
   "execution_count": 10,
   "metadata": {
    "collapsed": true
   },
   "outputs": [],
   "source": [
    "def cumfct(I,D,delta_t,w,I0):\n",
    "    return 0.5*(sf.erfc(np.sqrt(-np.log(I))-w**2*np.sqrt(-np.log(I0))/2/D/delta_t)+sf.erfc(np.sqrt(-np.log(I))+w**2*np.sqrt(-np.log(I0))/2/D/delta_t))"
   ]
  },
  {
   "cell_type": "code",
   "execution_count": 4,
   "metadata": {
    "collapsed": true
   },
   "outputs": [],
   "source": [
    "I = np.linspace(0,1,100)"
   ]
  },
  {
   "cell_type": "code",
   "execution_count": 28,
   "metadata": {},
   "outputs": [
    {
     "name": "stderr",
     "output_type": "stream",
     "text": [
      "/Users/hstrey/anaconda/envs/python3/lib/python3.5/site-packages/ipykernel/__main__.py:2: RuntimeWarning: divide by zero encountered in log\n",
      "  from ipykernel import kernelapp as app\n"
     ]
    },
    {
     "data": {
      "text/plain": [
       "[<matplotlib.lines.Line2D at 0x1a19834128>]"
      ]
     },
     "execution_count": 28,
     "metadata": {},
     "output_type": "execute_result"
    },
    {
     "data": {
      "image/png": "[encoded data removed]",
      "text/plain": [
       "<matplotlib.figure.Figure at 0x1a196515c0>"
      ]
     },
     "metadata": {},
     "output_type": "display_data"
    }
   ],
   "source": [
    "delta_t = 0.1\n",
    "w = 1.0\n",
    "D = 1.0\n",
    "plt.semilogy(I,cumfct(I,D,delta_t,w,1))\n",
    "plt.semilogy(I,cumfct(I,D,delta_t,w,0.9))\n",
    "plt.semilogy(I,cumfct(I,D,delta_t,w,0.75))\n",
    "plt.semilogy(I,cumfct(I,D,delta_t,w,0.5))\n",
    "plt.semilogy(I,cumfct(I,D,delta_t,w,0.1))"
   ]
  },
  {
   "cell_type": "code",
   "execution_count": 31,
   "metadata": {},
   "outputs": [
    {
     "name": "stderr",
     "output_type": "stream",
     "text": [
      "/Users/hstrey/anaconda/envs/python3/lib/python3.5/site-packages/ipykernel/__main__.py:2: RuntimeWarning: divide by zero encountered in log\n",
      "  from ipykernel import kernelapp as app\n"
     ]
    },
    {
     "data": {
      "text/plain": [
       "[(0.0, 0.0),\n",
       " (0.010101010101010102, 0.6212233560996322),\n",
       " (0.020202020202020204, 0.70770135672860635),\n",
       " (0.030303030303030304, 0.75672458189358127),\n",
       " (0.040404040404040407, 0.79014597514037421),\n",
       " (0.050505050505050511, 0.81503346485635109),\n",
       " (0.060606060606060608, 0.83457039213565809),\n",
       " (0.070707070707070718, 0.85045960398245668),\n",
       " (0.080808080808080815, 0.86371594112388628),\n",
       " (0.090909090909090912, 0.87499125190473248),\n",
       " (0.10101010101010102, 0.88472800139057939),\n",
       " (0.11111111111111112, 0.89323957325820325),\n",
       " (0.12121212121212122, 0.90075555740294211),\n",
       " (0.13131313131313133, 0.90744885256167929),\n",
       " (0.14141414141414144, 0.91345268053046424),\n",
       " (0.15151515151515152, 0.91887169654270962),\n",
       " (0.16161616161616163, 0.92378948838901032),\n",
       " (0.17171717171717174, 0.92827378270625005),\n",
       " (0.18181818181818182, 0.93238014838156458),\n",
       " (0.19191919191919193, 0.93615468731526597),\n",
       " (0.20202020202020204, 0.93963602621946152),\n",
       " (0.21212121212121213, 0.94285681559591317),\n",
       " (0.22222222222222224, 0.94584487460952582),\n",
       " (0.23232323232323235, 0.94862407718846542),\n",
       " (0.24242424242424243, 0.95121504611508212),\n",
       " (0.25252525252525254, 0.95363570266867259),\n",
       " (0.26262626262626265, 0.95590170622871318),\n",
       " (0.27272727272727276, 0.95802680908469862),\n",
       " (0.28282828282828287, 0.96002314521607368),\n",
       " (0.29292929292929293, 0.96190146715359925),\n",
       " (0.30303030303030304, 0.96367134165109436),\n",
       " (0.31313131313131315, 0.96534131240748455),\n",
       " (0.32323232323232326, 0.96691903622696851),\n",
       " (0.33333333333333337, 0.96841139761255535),\n",
       " (0.34343434343434348, 0.96982460573107909),\n",
       " (0.35353535353535359, 0.97116427687799889),\n",
       " (0.36363636363636365, 0.97243550494475217),\n",
       " (0.37373737373737376, 0.97364292190436352),\n",
       " (0.38383838383838387, 0.97479074994896742),\n",
       " (0.39393939393939398, 0.97588284661112623),\n",
       " (0.40404040404040409, 0.97692274396087275),\n",
       " (0.4141414141414142, 0.97791368277843538),\n",
       " (0.42424242424242425, 0.97885864244810594),\n",
       " (0.43434343434343436, 0.9797603671936651),\n",
       " (0.44444444444444448, 0.98062138917406816),\n",
       " (0.45454545454545459, 0.98144404887489978),\n",
       " (0.4646464646464647, 0.98223051316278021),\n",
       " (0.47474747474747481, 0.9829827913134942),\n",
       " (0.48484848484848486, 0.98370274927786394),\n",
       " (0.49494949494949497, 0.98439212241047458),\n",
       " (0.50505050505050508, 0.98505252685384148),\n",
       " (0.51515151515151525, 0.98568546974333737),\n",
       " (0.5252525252525253, 0.9862923583752371),\n",
       " (0.53535353535353536, 0.98687450846085412),\n",
       " (0.54545454545454553, 0.98743315157330835),\n",
       " (0.55555555555555558, 0.98796944187950742),\n",
       " (0.56565656565656575, 0.98848446223802688),\n",
       " (0.5757575757575758, 0.98897922973340524),\n",
       " (0.58585858585858586, 0.98945470070866792),\n",
       " (0.59595959595959602, 0.98991177535042241),\n",
       " (0.60606060606060608, 0.99035130187445031),\n",
       " (0.61616161616161624, 0.99077408035419745),\n",
       " (0.6262626262626263, 0.99118086622981683),\n",
       " (0.63636363636363646, 0.99157237353133099),\n",
       " (0.64646464646464652, 0.99194927784598352),\n",
       " (0.65656565656565657, 0.99231221905685807),\n",
       " (0.66666666666666674, 0.99266180387731284),\n",
       " (0.6767676767676768, 0.9929986082036717),\n",
       " (0.68686868686868696, 0.99332317930688774),\n",
       " (0.69696969696969702, 0.99363603788255306),\n",
       " (0.70707070707070718, 0.99393767997766058),\n",
       " (0.71717171717171724, 0.9942285788119456),\n",
       " (0.72727272727272729, 0.99450918651148768),\n",
       " (0.73737373737373746, 0.99477993577260082),\n",
       " (0.74747474747474751, 0.99504124147496287),\n",
       " (0.75757575757575768, 0.99529350226461544),\n",
       " (0.76767676767676774, 0.99553710213006819),\n",
       " (0.77777777777777779, 0.99577241199862776),\n",
       " (0.78787878787878796, 0.99599979138566597),\n",
       " (0.79797979797979801, 0.99621959013755035),\n",
       " (0.80808080808080818, 0.99643215032039179),\n",
       " (0.81818181818181823, 0.99663780832318327),\n",
       " (0.8282828282828284, 0.99683689726773062),\n",
       " (0.83838383838383845, 0.99702974985282045),\n",
       " (0.84848484848484851, 0.99721670181251498),\n",
       " (0.85858585858585867, 0.99739809624855047),\n",
       " (0.86868686868686873, 0.99757428922200875),\n",
       " (0.8787878787878789, 0.99774565719050956),\n",
       " (0.88888888888888895, 0.99791260721030195),\n",
       " (0.89898989898989912, 0.99807559139478497),\n",
       " (0.90909090909090917, 0.99823512814570514),\n",
       " (0.91919191919191923, 0.99839183460173364),\n",
       " (0.92929292929292939, 0.99854647860037549),\n",
       " (0.93939393939393945, 0.99870006671981337),\n",
       " (0.94949494949494961, 0.99885400442536643),\n",
       " (0.95959595959595967, 0.9990104158946802),\n",
       " (0.96969696969696972, 0.99917287179085013),\n",
       " (0.97979797979797989, 0.99934841144811948),\n",
       " (0.98989898989898994, 0.9995556214909801),\n",
       " (1.0, 1.0)]"
      ]
     },
     "execution_count": 31,
     "metadata": {},
     "output_type": "execute_result"
    }
   ],
   "source": [
    "list(zip(I,cumfct(I,D,delta_t,w,0.8)))"
   ]
  },
  {
   "cell_type": "code",
   "execution_count": null,
   "metadata": {
    "collapsed": true
   },
   "outputs": [],
   "source": []
  }
 ],
 "metadata": {
  "kernelspec": {
   "display_name": "Python [conda env:python3]",
   "language": "python",
   "name": "conda-env-python3-py"
  },
  "language_info": {
   "codemirror_mode": {
    "name": "ipython",
    "version": 3
   },
   "file_extension": ".py",
   "mimetype": "text/x-python",
   "name": "python",
   "nbconvert_exporter": "python",
   "pygments_lexer": "ipython3",
   "version": "3.5.4"
  }
 },
 "nbformat": 4,
 "nbformat_minor": 2
}
