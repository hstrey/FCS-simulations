{
 "cells": [
  {
   "cell_type": "code",
   "execution_count": 39,
   "metadata": {},
   "outputs": [],
   "source": [
    "%matplotlib inline\n",
    "import numpy as np\n",
    "import matplotlib.pyplot as plt\n",
    "import lmfit as lm\n",
    "import scipy.special as sf\n",
    "from scipy.stats import norm"
   ]
  },
  {
   "cell_type": "code",
   "execution_count": 40,
   "metadata": {},
   "outputs": [],
   "source": [
    "length = 1000000\n",
    "density = 1.4\n",
    "w = 1.0\n",
    "ep = 1.0\n",
    "# in optics we use exp(-2x**2/w**2) the corresponding sigma for a normal\n",
    "# distribution is exp(-x**2/2/sigma**2)\n",
    "# 2/w**2 = 1/2/sigma**2\n",
    "# 2 sigma = w\n",
    "sigma = w/2\n",
    "L = 100\n",
    "N = int(2*L*density)"
   ]
  },
  {
   "cell_type": "code",
   "execution_count": 41,
   "metadata": {},
   "outputs": [],
   "source": [
    "# generate positions for all particles\n",
    "positions=2*L*np.random.random(size=(N,length))-L\n",
    "# place a Gaussian illumination at x=0 with std = sigma\n",
    "intensity = ep*sigma*np.sqrt(2*np.pi)*norm.pdf(positions, loc=0,scale=sigma)\n",
    "#print(intensity)\n",
    "intensity = np.sum(intensity, axis=0)"
   ]
  },
  {
   "cell_type": "code",
   "execution_count": 42,
   "metadata": {},
   "outputs": [
    {
     "data": {
      "text/plain": [
       "Text(0,0.5,'p(I)')"
      ]
     },
     "execution_count": 42,
     "metadata": {},
     "output_type": "execute_result"
    },
    {
     "data": {
      "image/png": "[encoded data removed]",
      "text/plain": [
       "<Figure size 432x288 with 1 Axes>"
      ]
     },
     "metadata": {
      "needs_background": "light"
     },
     "output_type": "display_data"
    }
   ],
   "source": [
    "a=plt.hist(intensity,bins=500,density=True)\n",
    "#plt.yscale('log')\n",
    "#plt.ylim((1e-1,2))\n",
    "plt.xlim((0,4))\n",
    "plt.xlabel(\"Intensity I\")\n",
    "plt.ylabel(\"p(I)\")\n",
    "#plt.savefig(\"pIsim3.png\",format='png',dpi=300,bbox_inches='tight',facecolor=\"white\",backgroundcolor=\"white\")"
   ]
  },
  {
   "cell_type": "code",
   "execution_count": 43,
   "metadata": {},
   "outputs": [
    {
     "name": "stdout",
     "output_type": "stream",
     "text": [
      "[1.75387073e+00 4.30600574e+00 1.28569765e+01 4.44883230e+01\n",
      " 1.73502250e+02 7.48834014e+02 3.53144975e+03 1.80294080e+04\n",
      " 9.89524911e+04 5.80583542e+05]\n"
     ]
    }
   ],
   "source": [
    "moments = [np.mean(intensity**(i+1)) for i in range(10)]\n",
    "n = np.arange(10)+1\n",
    "moments=np.array(moments)\n",
    "print(moments)"
   ]
  },
  {
   "cell_type": "code",
   "execution_count": 44,
   "metadata": {},
   "outputs": [
    {
     "data": {
      "text/plain": [
       "[<matplotlib.lines.Line2D at 0x1a262f64a8>]"
      ]
     },
     "execution_count": 44,
     "metadata": {},
     "output_type": "execute_result"
    },
    {
     "data": {
      "image/png": "[encoded data removed]",
      "text/plain": [
       "<Figure size 432x288 with 1 Axes>"
      ]
     },
     "metadata": {
      "needs_background": "light"
     },
     "output_type": "display_data"
    }
   ],
   "source": [
    "plt.semilogy(n,moments)"
   ]
  },
  {
   "cell_type": "code",
   "execution_count": 45,
   "metadata": {},
   "outputs": [
    {
     "data": {
      "text/plain": [
       "1.414213562373095"
      ]
     },
     "execution_count": 45,
     "metadata": {},
     "output_type": "execute_result"
    }
   ],
   "source": [
    "2/np.sqrt(2)"
   ]
  },
  {
   "cell_type": "code",
   "execution_count": 46,
   "metadata": {},
   "outputs": [
    {
     "data": {
      "text/plain": [
       "3.875784585037477"
      ]
     },
     "execution_count": 46,
     "metadata": {},
     "output_type": "execute_result"
    }
   ],
   "source": [
    "(np.pi/2)**3"
   ]
  },
  {
   "cell_type": "code",
   "execution_count": null,
   "metadata": {},
   "outputs": [],
   "source": []
  }
 ],
 "metadata": {
  "anaconda-cloud": {},
  "kernelspec": {
   "display_name": "Python 3",
   "language": "python",
   "name": "python3"
  },
  "language_info": {
   "codemirror_mode": {
    "name": "ipython",
    "version": 3
   },
   "file_extension": ".py",
   "mimetype": "text/x-python",
   "name": "python",
   "nbconvert_exporter": "python",
   "pygments_lexer": "ipython3",
   "version": "3.7.0"
  }
 },
 "nbformat": 4,
 "nbformat_minor": 1
}
