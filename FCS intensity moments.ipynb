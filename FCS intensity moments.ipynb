{
 "cells": [
  {
   "cell_type": "code",
   "execution_count": 67,
   "metadata": {},
   "outputs": [],
   "source": [
    "%matplotlib inline\n",
    "import numpy as np\n",
    "import matplotlib.pyplot as plt\n",
    "import lmfit as lm\n",
    "import scipy.special as sf\n",
    "from scipy.stats import norm"
   ]
  },
  {
   "cell_type": "code",
   "execution_count": 68,
   "metadata": {},
   "outputs": [
    {
     "name": "stdout",
     "output_type": "stream",
     "text": [
      "N:  1000 sqrt(N):  31.622776601683793 L:  100.0\n"
     ]
    }
   ],
   "source": [
    "length = 1000000\n",
    "density = 5\n",
    "w = 1.0\n",
    "ep = 1.0\n",
    "# in optics we use exp(-2x**2/w**2) the corresponding sigma for a normal\n",
    "# distribution is exp(-x**2/2/sigma**2)\n",
    "# 2/w**2 = 1/2/sigma**2\n",
    "# 2 sigma = w\n",
    "sigma = w/2\n",
    "L = 100\n",
    "N = int(2*L*density)\n",
    "L = N / 2 / density\n",
    "print('N: ',N, 'sqrt(N): ',np.sqrt(N),'L: ',L)"
   ]
  },
  {
   "cell_type": "code",
   "execution_count": 69,
   "metadata": {},
   "outputs": [],
   "source": [
    "# testing over which range in L the particles have significant intensities\n",
    "x = np.arange(-L,L+1)\n",
    "intensity = ep*sigma*np.sqrt(2*np.pi)*norm.pdf(x, loc=0,scale=sigma)\n",
    "#for i in range(len(x)):\n",
    "#    print(x[i],intensity[i])"
   ]
  },
  {
   "cell_type": "code",
   "execution_count": 70,
   "metadata": {},
   "outputs": [],
   "source": [
    "# generate positions for all particles\n",
    "positions=2*L*np.random.random(size=(N,length))-L\n",
    "# place a Gaussian illumination at x=0 with std = sigma\n",
    "intensity = ep*sigma*np.sqrt(2*np.pi)*norm.pdf(positions, loc=0,scale=sigma)\n",
    "#print(intensity)\n",
    "intensity = np.sum(intensity, axis=0)"
   ]
  },
  {
   "cell_type": "code",
   "execution_count": 76,
   "metadata": {},
   "outputs": [
    {
     "data": {
      "image/png": "[encoded data removed]",
      "text/plain": [
       "<Figure size 432x288 with 1 Axes>"
      ]
     },
     "metadata": {
      "needs_background": "light"
     },
     "output_type": "display_data"
    }
   ],
   "source": [
    "a=plt.hist(intensity,bins=500,density=True)\n",
    "#plt.yscale('log')\n",
    "#plt.ylim((1e-2,2))\n",
    "plt.xlim((0,12))\n",
    "plt.xlabel(\"Intensity I\")\n",
    "plt.ylabel(\"p(I)\")\n",
    "plt.savefig(\"pIsim5.png\",format='png',dpi=300,bbox_inches='tight',facecolor=\"white\",backgroundcolor=\"white\")"
   ]
  },
  {
   "cell_type": "code",
   "execution_count": 72,
   "metadata": {},
   "outputs": [
    {
     "name": "stdout",
     "output_type": "stream",
     "text": [
      "[4.99887899e+00 3.48221577e+01 2.64918818e+02 2.17473525e+03\n",
      " 1.90946329e+04 1.78111324e+05 1.75555639e+06 1.82045004e+07\n",
      " 1.97876687e+08 2.24751200e+09]\n"
     ]
    }
   ],
   "source": [
    "moments = [np.mean(intensity**(i+1)) for i in range(10)]\n",
    "n = np.arange(10)+1\n",
    "moments=np.array(moments)\n",
    "print(moments/np.sqrt(np.pi/2))"
   ]
  },
  {
   "cell_type": "code",
   "execution_count": 73,
   "metadata": {},
   "outputs": [
    {
     "data": {
      "text/plain": [
       "[<matplotlib.lines.Line2D at 0x1a7d507e80>]"
      ]
     },
     "execution_count": 73,
     "metadata": {},
     "output_type": "execute_result"
    },
    {
     "data": {
      "image/png": "[encoded data removed]",
      "text/plain": [
       "<Figure size 432x288 with 1 Axes>"
      ]
     },
     "metadata": {
      "needs_background": "light"
     },
     "output_type": "display_data"
    }
   ],
   "source": [
    "plt.semilogy(n,moments)"
   ]
  },
  {
   "cell_type": "code",
   "execution_count": 74,
   "metadata": {},
   "outputs": [
    {
     "data": {
      "text/plain": [
       "1.414213562373095"
      ]
     },
     "execution_count": 74,
     "metadata": {},
     "output_type": "execute_result"
    }
   ],
   "source": [
    "2/np.sqrt(2)"
   ]
  },
  {
   "cell_type": "code",
   "execution_count": 75,
   "metadata": {},
   "outputs": [
    {
     "data": {
      "text/plain": [
       "3.875784585037477"
      ]
     },
     "execution_count": 75,
     "metadata": {},
     "output_type": "execute_result"
    }
   ],
   "source": [
    "(np.pi/2)**3"
   ]
  },
  {
   "cell_type": "code",
   "execution_count": null,
   "metadata": {},
   "outputs": [],
   "source": []
  }
 ],
 "metadata": {
  "anaconda-cloud": {},
  "kernelspec": {
   "display_name": "Python 3",
   "language": "python",
   "name": "python3"
  },
  "language_info": {
   "codemirror_mode": {
    "name": "ipython",
    "version": 3
   },
   "file_extension": ".py",
   "mimetype": "text/x-python",
   "name": "python",
   "nbconvert_exporter": "python",
   "pygments_lexer": "ipython3",
   "version": "3.7.0"
  }
 },
 "nbformat": 4,
 "nbformat_minor": 1
}
