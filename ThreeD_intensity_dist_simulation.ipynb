{
 "cells": [
  {
   "cell_type": "code",
   "execution_count": 1,
   "metadata": {},
   "outputs": [],
   "source": [
    "%matplotlib inline\n",
    "import numpy as np\n",
    "import matplotlib.pyplot as plt\n",
    "import lmfit as lm\n",
    "import scipy.special as sf\n",
    "from scipy.stats import norm,multivariate_normal\n",
    "\n",
    "SMALL_SIZE = 20\n",
    "MEDIUM_SIZE = 20\n",
    "BIGGER_SIZE = 20\n",
    "\n",
    "plt.rc('font', size=SMALL_SIZE)          # controls default text sizes\n",
    "plt.rc('axes', titlesize=SMALL_SIZE)     # fontsize of the axes title\n",
    "plt.rc('axes', labelsize=MEDIUM_SIZE)    # fontsize of the x and y labels\n",
    "plt.rc('xtick', labelsize=SMALL_SIZE)    # fontsize of the tick labels\n",
    "plt.rc('ytick', labelsize=SMALL_SIZE)    # fontsize of the tick labels\n",
    "plt.rc('legend', fontsize=SMALL_SIZE)    # legend fontsize\n",
    "plt.rc('figure', titlesize=BIGGER_SIZE)  # fontsize of the figure title"
   ]
  },
  {
   "cell_type": "code",
   "execution_count": 2,
   "metadata": {},
   "outputs": [
    {
     "name": "stdout",
     "output_type": "stream",
     "text": [
      "[1.38389653e-87 7.55505586e-86 3.96118323e-84 1.99464391e-82\n",
      " 9.64626102e-81 4.48028700e-79 1.99850782e-77 8.56168137e-76\n",
      " 3.52261728e-74 1.39195454e-72 5.28247967e-71 1.92532393e-69\n",
      " 6.73942699e-68 2.26566309e-66 7.31511026e-65 2.26829542e-63\n",
      " 6.75509632e-62 1.93204246e-60 5.30707200e-59 1.40005947e-57\n",
      " 3.54724495e-56 8.63155548e-55 2.01715906e-53 4.52735358e-52\n",
      " 9.75892262e-51 2.02028447e-49 4.01676449e-48 7.66996539e-47\n",
      " 1.40657738e-45 2.47734817e-44 4.19047888e-43 6.80759100e-42\n",
      " 1.06212699e-40 1.59152194e-39 2.29035078e-38 3.16551640e-37\n",
      " 4.20184787e-36 5.35660068e-35 6.55830199e-34 7.71163989e-33\n",
      " 8.70873875e-32 9.44532651e-31 9.83856773e-30 9.84237652e-29\n",
      " 9.45630044e-28 8.72560884e-27 7.73256197e-26 6.58118759e-25\n",
      " 5.37945554e-24 4.22304360e-23 3.18394825e-22 2.30547080e-21\n",
      " 1.60326918e-20 1.07079529e-19 6.86846440e-19 4.23122425e-18\n",
      " 2.50337336e-17 1.42245455e-16 7.76254917e-16 4.06839883e-15\n",
      " 2.04783928e-14 9.89968572e-14 4.59621291e-13 2.04942514e-12\n",
      " 8.77641543e-12 3.60957007e-11 1.42576179e-10 5.40868463e-10\n",
      " 1.97055943e-09 6.89510060e-09 2.31710048e-08 7.47829029e-08\n",
      " 2.31799750e-07 6.90044022e-07 1.97284890e-06 5.41706493e-06\n",
      " 1.42852370e-05 3.61796240e-05 8.80022631e-05 2.05578088e-04\n",
      " 4.61225168e-04 9.93807712e-04 2.05657674e-03 4.08733907e-03\n",
      " 7.80170646e-03 1.43018341e-02 2.51794974e-02 4.25750896e-02\n",
      " 6.91380737e-02 1.07828154e-01 1.61510313e-01 2.32338690e-01\n",
      " 3.20993328e-01 4.25915717e-01 5.42755857e-01 6.64260705e-01\n",
      " 7.80774816e-01 8.81386152e-01 9.55564133e-01 9.94962354e-01\n",
      " 9.94962354e-01 9.55564133e-01 8.81386152e-01 7.80774816e-01\n",
      " 6.64260705e-01 5.42755857e-01 4.25915717e-01 3.20993328e-01\n",
      " 2.32338690e-01 1.61510313e-01 1.07828154e-01 6.91380737e-02\n",
      " 4.25750896e-02 2.51794974e-02 1.43018341e-02 7.80170646e-03\n",
      " 4.08733907e-03 2.05657674e-03 9.93807712e-04 4.61225168e-04\n",
      " 2.05578088e-04 8.80022631e-05 3.61796240e-05 1.42852370e-05\n",
      " 5.41706493e-06 1.97284890e-06 6.90044022e-07 2.31799750e-07\n",
      " 7.47829029e-08 2.31710048e-08 6.89510060e-09 1.97055943e-09\n",
      " 5.40868463e-10 1.42576179e-10 3.60957007e-11 8.77641543e-12\n",
      " 2.04942514e-12 4.59621291e-13 9.89968572e-14 2.04783928e-14\n",
      " 4.06839883e-15 7.76254917e-16 1.42245455e-16 2.50337336e-17\n",
      " 4.23122425e-18 6.86846440e-19 1.07079529e-19 1.60326918e-20\n",
      " 2.30547080e-21 3.18394825e-22 4.22304360e-23 5.37945554e-24\n",
      " 6.58118759e-25 7.73256197e-26 8.72560884e-27 9.45630044e-28\n",
      " 9.84237652e-29 9.83856773e-30 9.44532651e-31 8.70873875e-32\n",
      " 7.71163989e-33 6.55830199e-34 5.35660068e-35 4.20184787e-36\n",
      " 3.16551640e-37 2.29035078e-38 1.59152194e-39 1.06212699e-40\n",
      " 6.80759100e-42 4.19047888e-43 2.47734817e-44 1.40657738e-45\n",
      " 7.66996539e-47 4.01676449e-48 2.02028447e-49 9.75892262e-51\n",
      " 4.52735358e-52 2.01715906e-53 8.63155548e-55 3.54724495e-56\n",
      " 1.40005947e-57 5.30707200e-59 1.93204246e-60 6.75509632e-62\n",
      " 2.26829542e-63 7.31511026e-65 2.26566309e-66 6.73942699e-68\n",
      " 1.92532393e-69 5.28247967e-71 1.39195454e-72 3.52261728e-74\n",
      " 8.56168137e-76 1.99850782e-77 4.48028700e-79 9.64626102e-81\n",
      " 1.99464391e-82 3.96118323e-84 7.55505586e-86 1.38389653e-87]\n",
      "-19.798994974874372 19.798994974874375\n"
     ]
    }
   ],
   "source": [
    "# the plan is to simulate intensity distribution by using a Poisson distribution\n",
    "# over a small area.  The first thing that we have to figure out is over which length\n",
    "# a normal distribution will be non-zero given double resolution\n",
    "w = 2 # is the way the Gaussian width is defined in optics\n",
    "sigma = w/2\n",
    "ep = 1.0\n",
    "x = np.linspace(-20,20,200)\n",
    "intensity = ep*sigma*np.sqrt(2*np.pi)*norm.pdf(x, loc=0,scale=sigma)\n",
    "print(intensity)\n",
    "print(x[1],x[-2])"
   ]
  },
  {
   "cell_type": "code",
   "execution_count": 3,
   "metadata": {},
   "outputs": [
    {
     "name": "stdout",
     "output_type": "stream",
     "text": [
      "39.59798994974875\n"
     ]
    }
   ],
   "source": [
    "# set limits and define the length of the box\n",
    "xlim1 = x[1]\n",
    "xlim2 = x[-2]\n",
    "L = xlim2-xlim1\n",
    "print(L)"
   ]
  },
  {
   "cell_type": "code",
   "execution_count": 4,
   "metadata": {},
   "outputs": [
    {
     "name": "stdout",
     "output_type": "stream",
     "text": [
      "788.4599104708278\n"
     ]
    }
   ],
   "source": [
    "# we want a certain number of particles per area\n",
    "# for a particular w which represents an effective size of pi/2*w**2\n",
    "N_avg = 0.2\n",
    "N_avg_L = np.sqrt(8)*N_avg*L**3/np.pi/np.sqrt(np.pi)/w**3\n",
    "print(N_avg_L)"
   ]
  },
  {
   "cell_type": "code",
   "execution_count": 5,
   "metadata": {},
   "outputs": [],
   "source": [
    "N_samples = 1000000\n",
    "N_draws = np.random.poisson(N_avg_L,N_samples)\n",
    "rv = multivariate_normal(mean=[0,0,0],cov=[[sigma**2,0,0],[0,sigma**2,0],[0,0,sigma**2]])\n",
    "int_list = [ep*sigma**3*np.sqrt(8)*np.pi*np.sqrt(np.pi)*np.sum(\n",
    "                rv.pdf(np.add(np.multiply(np.random.random(n*3),L),xlim1).reshape(n,3),))\n",
    "                  for n in N_draws]\n",
    "int_list = np.array(int_list)"
   ]
  },
  {
   "cell_type": "code",
   "execution_count": 7,
   "metadata": {},
   "outputs": [
    {
     "name": "stdout",
     "output_type": "stream",
     "text": [
      "0.20021547771875453\n"
     ]
    }
   ],
   "source": [
    "print(int_list.mean())\n",
    "np.savetxt(\"3d_02.csv\",int_list, delimiter=\",\")"
   ]
  },
  {
   "cell_type": "code",
   "execution_count": 9,
   "metadata": {},
   "outputs": [
    {
     "name": "stderr",
     "output_type": "stream",
     "text": [
      "/opt/miniconda3/envs/pymc3/lib/python3.7/site-packages/ipykernel_launcher.py:6: MatplotlibDeprecationWarning: savefig() got unexpected keyword argument \"backgroundcolor\" which is no longer supported as of 3.3 and will become an error two minor releases later\n",
      "  \n"
     ]
    },
    {
     "data": {
      "image/png": "[encoded data removed]",
      "text/plain": [
       "<Figure size 432x288 with 1 Axes>"
      ]
     },
     "metadata": {
      "needs_background": "light"
     },
     "output_type": "display_data"
    }
   ],
   "source": [
    "_ = plt.hist(int_list,bins=500,density=True)\n",
    "plt.ylim((0,2))\n",
    "plt.xlim((0,2))\n",
    "plt.xlabel(\"Intensity\")\n",
    "plt.ylabel(\"p(Intensity)\")\n",
    "plt.savefig(\"ThreeDN02w2.png\",format='png',dpi=300,bbox_inches='tight',facecolor=\"white\",backgroundcolor=\"white\")"
   ]
  },
  {
   "cell_type": "code",
   "execution_count": 12,
   "metadata": {},
   "outputs": [
    {
     "data": {
      "text/plain": [
       "0.200281997210647"
      ]
     },
     "execution_count": 12,
     "metadata": {},
     "output_type": "execute_result"
    }
   ],
   "source": [
    "int_list.mean()"
   ]
  },
  {
   "cell_type": "code",
   "execution_count": 10,
   "metadata": {},
   "outputs": [
    {
     "name": "stdout",
     "output_type": "stream",
     "text": [
      "1971.1497761770688\n"
     ]
    }
   ],
   "source": [
    "# we want a certain number of particles per area\n",
    "# for a particular w which represents an effective size of pi/2*w**2\n",
    "N_avg = 0.5\n",
    "N_avg_L = np.sqrt(8)*N_avg*L**3/np.pi/np.sqrt(np.pi)/w**3\n",
    "print(N_avg_L)\n",
    "\n",
    "N_samples = 1000000\n",
    "N_draws = np.random.poisson(N_avg_L,N_samples)\n",
    "rv = multivariate_normal(mean=[0,0,0],cov=[[sigma**2,0,0],[0,sigma**2,0],[0,0,sigma**2]])\n",
    "int_list = [ep*sigma**3*np.sqrt(8)*np.pi*np.sqrt(np.pi)*np.sum(\n",
    "                rv.pdf(np.add(np.multiply(np.random.random(n*3),L),xlim1).reshape(n,3),))\n",
    "                  for n in N_draws]\n",
    "int_list = np.array(int_list)"
   ]
  },
  {
   "cell_type": "code",
   "execution_count": 15,
   "metadata": {},
   "outputs": [
    {
     "name": "stdout",
     "output_type": "stream",
     "text": [
      "0.5002938364816888\n"
     ]
    }
   ],
   "source": [
    "print(int_list.mean())\n",
    "np.savetxt(\"3d_05.csv\",int_list, delimiter=\",\")"
   ]
  },
  {
   "cell_type": "code",
   "execution_count": 12,
   "metadata": {},
   "outputs": [
    {
     "name": "stderr",
     "output_type": "stream",
     "text": [
      "/opt/miniconda3/envs/pymc3/lib/python3.7/site-packages/ipykernel_launcher.py:6: MatplotlibDeprecationWarning: savefig() got unexpected keyword argument \"backgroundcolor\" which is no longer supported as of 3.3 and will become an error two minor releases later\n",
      "  \n"
     ]
    },
    {
     "data": {
      "image/png": "[encoded data removed]",
      "text/plain": [
       "<Figure size 432x288 with 1 Axes>"
      ]
     },
     "metadata": {
      "needs_background": "light"
     },
     "output_type": "display_data"
    }
   ],
   "source": [
    "_ = plt.hist(int_list,bins=500,density=True)\n",
    "plt.ylim((0,1))\n",
    "plt.xlim((0,3))\n",
    "plt.xlabel(\"Intensity\")\n",
    "plt.ylabel(\"p(Intensity)\")\n",
    "plt.savefig(\"ThreeDN05w2.png\",format='png',dpi=300,bbox_inches='tight',facecolor=\"white\",backgroundcolor=\"white\")"
   ]
  },
  {
   "cell_type": "code",
   "execution_count": 14,
   "metadata": {},
   "outputs": [
    {
     "data": {
      "text/plain": [
       "0.5002938364816888"
      ]
     },
     "execution_count": 14,
     "metadata": {},
     "output_type": "execute_result"
    }
   ],
   "source": [
    "int_list.mean()"
   ]
  },
  {
   "cell_type": "code",
   "execution_count": 16,
   "metadata": {},
   "outputs": [
    {
     "name": "stdout",
     "output_type": "stream",
     "text": [
      "3942.2995523541376\n"
     ]
    }
   ],
   "source": [
    "# we want a certain number of particles per area\n",
    "# for a particular w which represents an effective size of pi/2*w**2\n",
    "N_avg = 1\n",
    "N_avg_L = np.sqrt(8)*N_avg*L**3/np.pi/np.sqrt(np.pi)/w**3\n",
    "print(N_avg_L)\n",
    "\n",
    "N_samples = 1000000\n",
    "N_draws = np.random.poisson(N_avg_L,N_samples)\n",
    "rv = multivariate_normal(mean=[0,0,0],cov=[[sigma**2,0,0],[0,sigma**2,0],[0,0,sigma**2]])\n",
    "int_list = [ep*sigma**3*np.sqrt(8)*np.pi*np.sqrt(np.pi)*np.sum(\n",
    "                rv.pdf(np.add(np.multiply(np.random.random(n*3),L),xlim1).reshape(n,3),))\n",
    "                  for n in N_draws]\n",
    "int_list = np.array(int_list)"
   ]
  },
  {
   "cell_type": "code",
   "execution_count": 17,
   "metadata": {},
   "outputs": [
    {
     "name": "stderr",
     "output_type": "stream",
     "text": [
      "/opt/miniconda3/envs/pymc3/lib/python3.7/site-packages/ipykernel_launcher.py:6: MatplotlibDeprecationWarning: savefig() got unexpected keyword argument \"backgroundcolor\" which is no longer supported as of 3.3 and will become an error two minor releases later\n",
      "  \n"
     ]
    },
    {
     "data": {
      "image/png": "[encoded data removed]",
      "text/plain": [
       "<Figure size 432x288 with 1 Axes>"
      ]
     },
     "metadata": {
      "needs_background": "light"
     },
     "output_type": "display_data"
    }
   ],
   "source": [
    "_ = plt.hist(int_list,bins=500,density=True)\n",
    "plt.ylim((0,0.8))\n",
    "plt.xlim((0,3))\n",
    "plt.xlabel(\"Intensity\")\n",
    "plt.ylabel(\"p(Intensity)\")\n",
    "plt.savefig(\"ThreeDN1w2.png\",format='png',dpi=300,bbox_inches='tight',facecolor=\"white\",backgroundcolor=\"white\")"
   ]
  },
  {
   "cell_type": "code",
   "execution_count": 19,
   "metadata": {},
   "outputs": [
    {
     "name": "stdout",
     "output_type": "stream",
     "text": [
      "1.0000676712574317\n"
     ]
    }
   ],
   "source": [
    "print(int_list.mean())\n",
    "np.savetxt(\"3d_1.csv\",int_list, delimiter=\",\")"
   ]
  },
  {
   "cell_type": "code",
   "execution_count": 23,
   "metadata": {},
   "outputs": [
    {
     "name": "stdout",
     "output_type": "stream",
     "text": [
      "7884.599104708275\n"
     ]
    }
   ],
   "source": [
    "# we want a certain number of particles per area\n",
    "# for a particular w which represents an effective size of pi/2*w**2\n",
    "N_avg = 2\n",
    "N_avg_L = np.sqrt(8)*N_avg*L**3/np.pi/np.sqrt(np.pi)/w**3\n",
    "print(N_avg_L)\n",
    "\n",
    "N_samples = 1000000\n",
    "N_draws = np.random.poisson(N_avg_L,N_samples)\n",
    "rv = multivariate_normal(mean=[0,0,0],cov=[[sigma**2,0,0],[0,sigma**2,0],[0,0,sigma**2]])\n",
    "int_list = [ep*sigma**3*np.sqrt(8)*np.pi*np.sqrt(np.pi)*np.sum(\n",
    "                rv.pdf(np.add(np.multiply(np.random.random(n*3),L),xlim1).reshape(n,3),))\n",
    "                  for n in N_draws]\n",
    "int_list = np.array(int_list)"
   ]
  },
  {
   "cell_type": "code",
   "execution_count": 26,
   "metadata": {},
   "outputs": [
    {
     "data": {
      "image/png": "[encoded data removed]",
      "text/plain": [
       "<Figure size 432x288 with 1 Axes>"
      ]
     },
     "metadata": {
      "needs_background": "light"
     },
     "output_type": "display_data"
    }
   ],
   "source": [
    "_ = plt.hist(int_list,bins=500,density=True)\n",
    "plt.ylim((0,0.6))\n",
    "plt.xlim((0,4))\n",
    "plt.xlabel(\"Intensity\")\n",
    "plt.ylabel(\"p(Intensity)\")\n",
    "plt.savefig(\"ThreeDN2w2.png\",format='png',dpi=300,bbox_inches='tight',facecolor=\"white\",backgroundcolor=\"white\")"
   ]
  },
  {
   "cell_type": "code",
   "execution_count": 25,
   "metadata": {},
   "outputs": [
    {
     "data": {
      "text/plain": [
       "2.0008562713890767"
      ]
     },
     "execution_count": 25,
     "metadata": {},
     "output_type": "execute_result"
    }
   ],
   "source": [
    "int_list.mean()"
   ]
  },
  {
   "cell_type": "code",
   "execution_count": 27,
   "metadata": {},
   "outputs": [
    {
     "name": "stdout",
     "output_type": "stream",
     "text": [
      "19711.49776177069\n"
     ]
    }
   ],
   "source": [
    "# we want a certain number of particles per area\n",
    "# for a particular w which represents an effective size of pi/2*w**2\n",
    "N_avg = 5\n",
    "N_avg_L = np.sqrt(8)*N_avg*L**3/np.pi/np.sqrt(np.pi)/w**3\n",
    "print(N_avg_L)\n",
    "\n",
    "N_samples = 1000000\n",
    "N_draws = np.random.poisson(N_avg_L,N_samples)\n",
    "rv = multivariate_normal(mean=[0,0,0],cov=[[sigma**2,0,0],[0,sigma**2,0],[0,0,sigma**2]])\n",
    "int_list = [ep*sigma**3*np.sqrt(8)*np.pi*np.sqrt(np.pi)*np.sum(\n",
    "                rv.pdf(np.add(np.multiply(np.random.random(n*3),L),xlim1).reshape(n,3),))\n",
    "                  for n in N_draws]\n",
    "int_list = np.array(int_list)"
   ]
  },
  {
   "cell_type": "code",
   "execution_count": 31,
   "metadata": {},
   "outputs": [
    {
     "data": {
      "image/png": "[encoded data removed]",
      "text/plain": [
       "<Figure size 432x288 with 1 Axes>"
      ]
     },
     "metadata": {
      "needs_background": "light"
     },
     "output_type": "display_data"
    }
   ],
   "source": [
    "_ = plt.hist(int_list,bins=500,density=True)\n",
    "plt.ylim((0,0.35))\n",
    "plt.xlim((0,10))\n",
    "plt.xlabel(\"Intensity\")\n",
    "plt.ylabel(\"p(Intensity)\")\n",
    "plt.savefig(\"ThreeDN5w2.png\",format='png',dpi=300,bbox_inches='tight',facecolor=\"white\",backgroundcolor=\"white\")"
   ]
  },
  {
   "cell_type": "code",
   "execution_count": 29,
   "metadata": {},
   "outputs": [
    {
     "data": {
      "text/plain": [
       "4.998661405888032"
      ]
     },
     "execution_count": 29,
     "metadata": {},
     "output_type": "execute_result"
    }
   ],
   "source": [
    "int_list.mean()"
   ]
  },
  {
   "cell_type": "code",
   "execution_count": null,
   "metadata": {},
   "outputs": [],
   "source": []
  }
 ],
 "metadata": {
  "kernelspec": {
   "display_name": "Python 3",
   "language": "python",
   "name": "python3"
  },
  "language_info": {
   "codemirror_mode": {
    "name": "ipython",
    "version": 3
   },
   "file_extension": ".py",
   "mimetype": "text/x-python",
   "name": "python",
   "nbconvert_exporter": "python",
   "pygments_lexer": "ipython3",
   "version": "3.7.9"
  }
 },
 "nbformat": 4,
 "nbformat_minor": 2
}
