{
 "cells": [
  {
   "cell_type": "code",
   "execution_count": 45,
   "metadata": {},
   "outputs": [],
   "source": [
    "%matplotlib inline\n",
    "import scipy.fftpack as fft\n",
    "import numpy as np\n",
    "import matplotlib.pyplot as plt"
   ]
  },
  {
   "cell_type": "code",
   "execution_count": 46,
   "metadata": {},
   "outputs": [],
   "source": [
    "# first test fft and rfft and its reverses\n",
    "N = 10000\n",
    "x = np.random.rand(10000)\n",
    "x=x/x.mean()\n",
    "yi_np = np.fft.fft(x)\n",
    "yr_np = np.fft.rfft(x)\n",
    "yi_sci = fft.fft(x)\n",
    "yr_sci =fft.rfft(x)"
   ]
  },
  {
   "cell_type": "code",
   "execution_count": 47,
   "metadata": {},
   "outputs": [
    {
     "name": "stdout",
     "output_type": "stream",
     "text": [
      "(10000,)\n",
      "(5001,)\n",
      "(10000,)\n",
      "(10000,)\n"
     ]
    }
   ],
   "source": [
    "print(yi_np.shape)\n",
    "print(yr_np.shape)\n",
    "print(yi_sci.shape)\n",
    "print(yr_sci.shape)"
   ]
  },
  {
   "cell_type": "code",
   "execution_count": 48,
   "metadata": {},
   "outputs": [
    {
     "data": {
      "text/plain": [
       "array([10000.         +0.j        ,    11.69951649-63.83056934j,\n",
       "          59.89890828 +1.87871761j, ...,   -36.77544533 -3.11293686j,\n",
       "          15.63662893 +1.86766995j,  -126.32299905 +0.j        ])"
      ]
     },
     "execution_count": 48,
     "metadata": {},
     "output_type": "execute_result"
    }
   ],
   "source": [
    "# normalization constant is N for all ffts\n",
    "yr_np"
   ]
  },
  {
   "cell_type": "code",
   "execution_count": 49,
   "metadata": {},
   "outputs": [
    {
     "data": {
      "text/plain": [
       "array([ 1.00000000e+04,  1.16995165e+01, -6.38305693e+01, ...,\n",
       "        1.56366289e+01,  1.86766995e+00, -1.26322999e+02])"
      ]
     },
     "execution_count": 49,
     "metadata": {},
     "output_type": "execute_result"
    }
   ],
   "source": [
    "# scipy real fft has weird data format\n",
    "yr_sci"
   ]
  },
  {
   "cell_type": "code",
   "execution_count": 50,
   "metadata": {},
   "outputs": [
    {
     "data": {
      "text/plain": [
       "array([10000.         +0.j        ,    11.69951649-63.83056934j,\n",
       "          59.89890828 +1.87871761j, ...,   -59.41722649+20.11272094j,\n",
       "          59.89890828 -1.87871761j,    11.69951649+63.83056934j])"
      ]
     },
     "execution_count": 50,
     "metadata": {},
     "output_type": "execute_result"
    }
   ],
   "source": [
    "yi_np"
   ]
  },
  {
   "cell_type": "code",
   "execution_count": 51,
   "metadata": {},
   "outputs": [
    {
     "data": {
      "text/plain": [
       "array([10000.         +0.j        ,    11.69951649-63.83056934j,\n",
       "          59.89890828 +1.87871761j, ...,   -59.41722649+20.11272094j,\n",
       "          59.89890828 -1.87871761j,    11.69951649+63.83056934j])"
      ]
     },
     "execution_count": 51,
     "metadata": {},
     "output_type": "execute_result"
    }
   ],
   "source": [
    "yi_sci"
   ]
  },
  {
   "cell_type": "code",
   "execution_count": 52,
   "metadata": {},
   "outputs": [],
   "source": [
    "# lets try to do a backwards real fft with a Gaussian distribtion\n",
    "# 1/sqrt(2*Pi*sigma^2)*exp(-x^2/2/sigma^2)\n",
    "def gaussian(x,sigma):\n",
    "    return np.exp(-x**2/2/sigma**2)/np.sqrt(2*np.pi)/sigma"
   ]
  },
  {
   "cell_type": "code",
   "execution_count": 91,
   "metadata": {},
   "outputs": [
    {
     "data": {
      "text/plain": [
       "[<matplotlib.lines.Line2D at 0x313de1cf8>]"
      ]
     },
     "execution_count": 91,
     "metadata": {},
     "output_type": "execute_result"
    },
    {
     "data": {
      "image/png": "[encoded data removed]",
      "text/plain": [
       "<Figure size 432x288 with 1 Axes>"
      ]
     },
     "metadata": {
      "needs_background": "light"
     },
     "output_type": "display_data"
    }
   ],
   "source": [
    "x = np.linspace(-10,10,512)\n",
    "g = np.fft.fftshift(gaussian(x,0.5))\n",
    "plt.plot(x,np.fft.fftshift(g))"
   ]
  },
  {
   "cell_type": "code",
   "execution_count": 85,
   "metadata": {},
   "outputs": [],
   "source": [
    "g_ffti = np.fft.fft(g)\n",
    "g_fftr = np.fft.rfft(g)"
   ]
  },
  {
   "cell_type": "code",
   "execution_count": 82,
   "metadata": {},
   "outputs": [
    {
     "data": {
      "text/plain": [
       "array([ 2.55499861e+01+0.00000000e+00j,  2.09889764e+01+1.28788363e-01j,\n",
       "        1.16356512e+01+1.42798092e-01j,  4.35304123e+00+8.01388311e-02j,\n",
       "        1.09897423e+00+2.69783031e-02j,  1.87247799e-01+5.74649359e-03j,\n",
       "        2.15181875e-02+7.92561776e-04j,  1.67857482e-03+7.21416112e-05j,\n",
       "        8.01272639e-05+3.93640006e-06j,  9.57157303e-06+5.29111901e-07j,\n",
       "       -5.65916329e-06-3.47678351e-07j,  5.08088993e-06+3.43457161e-07j,\n",
       "       -4.51310915e-06-3.32906931e-07j,  4.02292559e-06+3.21579044e-07j,\n",
       "       -3.59894442e-06-3.09922564e-07j,  3.23176055e-06+2.98290279e-07j,\n",
       "       -2.91301678e-06-2.86907110e-07j,  2.63548298e-06+2.75910486e-07j,\n",
       "       -2.39299794e-06-2.65378474e-07j,  2.18035696e-06+2.55349461e-07j,\n",
       "       -1.99318363e-06-2.45835753e-07j,  1.82780474e-06+2.36832858e-07j,\n",
       "       -1.68113726e-06-2.28325807e-07j,  1.55059023e-06+2.20293403e-07j,\n",
       "       -1.43398157e-06-2.12711073e-07j,  1.32946859e-06+2.05552747e-07j,\n",
       "       -1.23549041e-06-1.98792091e-07j,  1.15072051e-06+1.92403277e-07j,\n",
       "       -1.07402766e-06-1.86361478e-07j,  1.00444379e-06+1.80643129e-07j,\n",
       "       -9.41137576e-07-1.75226076e-07j,  8.83392629e-07+1.70089623e-07j,\n",
       "       -8.30589498e-07-1.65214524e-07j,  7.82190765e-07+1.60582934e-07j,\n",
       "       -7.37728656e-07-1.56178354e-07j,  6.96794722e-07+1.51985536e-07j,\n",
       "       -6.59031228e-07-1.47990411e-07j,  6.24123913e-07+1.44179999e-07j,\n",
       "       -5.91795919e-07-1.40542328e-07j,  5.61802654e-07+1.37066348e-07j,\n",
       "       -5.33927460e-07-1.33741866e-07j,  5.07977918e-07+1.30559465e-07j,\n",
       "       -4.83782711e-07-1.27510445e-07j,  4.61188945e-07+1.24586758e-07j,\n",
       "       -4.40059846e-07-1.21780960e-07j,  4.20272787e-07+1.19086153e-07j,\n",
       "       -4.01717587e-07-1.16495941e-07j,  3.84295041e-07+1.14004391e-07j,\n",
       "       -3.67915647e-07-1.11605991e-07j,  3.52498495e-07+1.09295616e-07j,\n",
       "       -3.37970310e-07-1.07068497e-07j,  3.24264610e-07+1.04920190e-07j,\n",
       "       -3.11320964e-07-1.02846555e-07j,  2.99084358e-07+1.00843724e-07j,\n",
       "       -2.87504618e-07-9.89080868e-08j,  2.76535917e-07+9.70362661e-08j,\n",
       "       -2.66136330e-07-9.52251011e-08j,  2.56267446e-07+9.34716319e-08j,\n",
       "       -2.46894025e-07-9.17730823e-08j,  2.37983688e-07+9.01268478e-08j,\n",
       "       -2.29506644e-07-8.85304821e-08j,  2.21435450e-07+8.69816847e-08j,\n",
       "       -2.13744790e-07-8.54782940e-08j,  2.06411282e-07+8.40182709e-08j,\n",
       "       -1.99413312e-07-8.25996978e-08j,  1.92730859e-07+8.12207641e-08j,\n",
       "       -1.86345377e-07-7.98797616e-08j,  1.80239654e-07+7.85750763e-08j,\n",
       "       -1.74397702e-07-7.73051850e-08j,  1.68804660e-07+7.60686439e-08j,\n",
       "       -1.63446689e-07-7.48640890e-08j,  1.58310902e-07+7.36902276e-08j,\n",
       "       -1.53385278e-07-7.25458332e-08j,  1.48658594e-07+7.14297450e-08j,\n",
       "       -1.44120370e-07-7.03408601e-08j,  1.39760801e-07+6.92781303e-08j,\n",
       "       -1.35570712e-07-6.82405617e-08j,  1.31541508e-07+6.72272074e-08j,\n",
       "       -1.27665130e-07-6.62371678e-08j,  1.23934020e-07+6.52695860e-08j,\n",
       "       -1.20341076e-07-6.43236455e-08j,  1.16879630e-07+6.33985693e-08j,\n",
       "       -1.13543406e-07-6.24936161e-08j,  1.10326501e-07+6.16080777e-08j,\n",
       "       -1.07223354e-07-6.07412799e-08j,  1.04228725e-07+5.98925773e-08j,\n",
       "       -1.01337671e-07-5.90613545e-08j,  9.85455287e-08+5.82470217e-08j,\n",
       "       -9.58478931e-08-5.74490164e-08j,  9.32406038e-08+5.66667994e-08j,\n",
       "       -9.07197244e-08-5.58998543e-08j,  8.82815331e-08+5.51476879e-08j,\n",
       "       -8.59225049e-08-5.44098263e-08j,  8.36393019e-08+5.36858149e-08j,\n",
       "       -8.14287616e-08-5.29752200e-08j,  7.92878803e-08+5.22776229e-08j,\n",
       "       -7.72138152e-08-5.15926220e-08j,  7.52038633e-08+5.09198336e-08j,\n",
       "       -7.32554554e-08-5.02588889e-08j,  7.13661563e-08+4.96094294e-08j,\n",
       "       -6.95336434e-08-4.89711171e-08j,  6.77557134e-08+4.83436212e-08j,\n",
       "       -6.60302649e-08-4.77266263e-08j,  6.43553006e-08+4.71198284e-08j,\n",
       "       -6.27289149e-08-4.65229337e-08j,  6.11492939e-08+4.59356617e-08j,\n",
       "       -5.96147063e-08-4.53577394e-08j,  5.81235022e-08+4.47889050e-08j,\n",
       "       -5.66741060e-08-4.42289065e-08j,  5.52650142e-08+4.36774996e-08j,\n",
       "       -5.38947896e-08-4.31344496e-08j,  5.25620610e-08+4.25995297e-08j,\n",
       "       -5.12655149e-08-4.20725206e-08j,  5.00038982e-08+4.15532123e-08j,\n",
       "       -4.87760110e-08-4.10413977e-08j,  4.75807034e-08+4.05368821e-08j,\n",
       "       -4.64168771e-08-4.00394736e-08j,  4.52834786e-08+3.95489873e-08j,\n",
       "       -4.41794993e-08-3.90652459e-08j,  4.31039721e-08+3.85880752e-08j,\n",
       "       -4.20559705e-08-3.81173098e-08j,  4.10346056e-08+3.76527873e-08j,\n",
       "       -4.00390243e-08-3.71943504e-08j,  3.90684079e-08+3.67418485e-08j,\n",
       "       -3.81219718e-08-3.62951346e-08j,  3.71989598e-08+3.58540645e-08j,\n",
       "       -3.62986487e-08-3.54185038e-08j,  3.54203429e-08+3.49883144e-08j,\n",
       "       -3.45633691e-08-3.45633691e-08j,  3.37270888e-08+3.41435412e-08j,\n",
       "       -3.29108792e-08-3.37287110e-08j,  3.21141470e-08+3.33187557e-08j,\n",
       "       -3.13363171e-08-3.29135637e-08j,  3.05768409e-08+3.25130209e-08j,\n",
       "       -2.98351853e-08-3.21170199e-08j,  2.91108392e-08+3.17254551e-08j,\n",
       "       -2.84033104e-08-3.13382236e-08j,  2.77121235e-08+3.09552266e-08j,\n",
       "       -2.70368221e-08-3.05763663e-08j,  2.63769638e-08+3.02015487e-08j,\n",
       "       -2.57321242e-08-2.98306833e-08j,  2.51018925e-08+2.94636795e-08j,\n",
       "       -2.44858732e-08-2.91004516e-08j,  2.38836848e-08+2.87409148e-08j,\n",
       "       -2.32949567e-08-2.83849878e-08j,  2.27193355e-08+2.80325883e-08j,\n",
       "       -2.21564764e-08-2.76836411e-08j,  2.16060469e-08+2.73380687e-08j,\n",
       "       -2.10677274e-08-2.69957978e-08j,  2.05412073e-08+2.66567557e-08j,\n",
       "       -2.00261880e-08-2.63208732e-08j,  1.95223785e-08+2.59880802e-08j,\n",
       "       -1.90295010e-08-2.56583121e-08j,  1.85472837e-08+2.53315017e-08j,\n",
       "       -1.80754648e-08-2.50075865e-08j,  1.76137921e-08+2.46865047e-08j,\n",
       "       -1.71620193e-08-2.43681948e-08j,  1.67199102e-08+2.40525992e-08j,\n",
       "       -1.62872351e-08-2.37396579e-08j,  1.58637727e-08+2.34293164e-08j,\n",
       "       -1.54493055e-08-2.31215208e-08j,  1.50436281e-08+2.28162140e-08j,\n",
       "       -1.46465383e-08-2.25133459e-08j,  1.42578392e-08+2.22128649e-08j,\n",
       "       -1.38773438e-08-2.19147196e-08j,  1.35048661e-08+2.16188629e-08j,\n",
       "       -1.31402307e-08-2.13252455e-08j,  1.27832645e-08+2.10338206e-08j,\n",
       "       -1.24337999e-08-2.07445419e-08j,  1.20916761e-08+2.04573649e-08j,\n",
       "       -1.17567357e-08-2.01722468e-08j,  1.14288267e-08+1.98891430e-08j,\n",
       "       -1.11078013e-08-1.96080115e-08j,  1.07935167e-08+1.93288118e-08j,\n",
       "       -1.04858338e-08-1.90515027e-08j,  1.01846178e-08+1.87760456e-08j,\n",
       "       -9.88973925e-09-1.85024003e-08j,  9.60106980e-09+1.82305298e-08j,\n",
       "       -9.31848706e-09-1.79603977e-08j,  9.04187131e-09+1.76919648e-08j,\n",
       "       -8.77110735e-09-1.74251977e-08j,  8.50608239e-09+1.71600599e-08j,\n",
       "       -8.24668695e-09-1.68965179e-08j,  7.99281563e-09+1.66345371e-08j,\n",
       "       -7.74436528e-09-1.63740844e-08j,  7.50123594e-09+1.61151280e-08j,\n",
       "       -7.26333108e-09-1.58576347e-08j,  7.03055535e-09+1.56015738e-08j,\n",
       "       -6.80281975e-09-1.53469143e-08j,  6.58003176e-09+1.50936254e-08j,\n",
       "       -6.36211124e-09-1.48416793e-08j,  6.14896580e-09+1.45910437e-08j,\n",
       "       -5.94052363e-09-1.43416906e-08j,  5.73670070e-09+1.40935951e-08j,\n",
       "       -5.53741692e-09-1.38467251e-08j,  5.34260864e-09+1.36010548e-08j,\n",
       "       -5.15219218e-09-1.33565577e-08j,  4.96610527e-09+1.31132067e-08j,\n",
       "       -4.78427568e-09-1.28709755e-08j,  4.60663960e-09+1.26298397e-08j,\n",
       "       -4.43313135e-09-1.23897720e-08j,  4.26368946e-09+1.21507498e-08j,\n",
       "       -4.09825425e-09-1.19127465e-08j,  3.93676573e-09+1.16757392e-08j,\n",
       "       -3.77916743e-09-1.14397035e-08j,  3.62540487e-09+1.12046160e-08j,\n",
       "       -3.47542363e-09-1.09704538e-08j,  3.32917242e-09+1.07371938e-08j,\n",
       "       -3.18660049e-09-1.05048136e-08j,  3.04765913e-09+1.02732905e-08j,\n",
       "       -2.91230102e-09-1.00426038e-08j,  2.78048062e-09+9.81273025e-09j,\n",
       "       -2.65215312e-09-9.58364972e-09j,  2.52727550e-09+9.35534000e-09j,\n",
       "       -2.40580592e-09-9.12778104e-09j,  2.28770501e-09+8.90095203e-09j,\n",
       "       -2.17293222e-09-8.67483254e-09j,  2.06145124e-09+8.44940222e-09j,\n",
       "       -1.95322448e-09-8.22464161e-09j,  1.84821706e-09+8.00053039e-09j,\n",
       "       -1.74639514e-09-7.77704979e-09j,  1.64772467e-09+7.55417946e-09j,\n",
       "       -1.55217625e-09-7.33190153e-09j,  1.45971546e-09+7.11019685e-09j,\n",
       "       -1.37031606e-09-6.88904490e-09j,  1.28394880e-09+6.66842965e-09j,\n",
       "       -1.20058432e-09-6.44833189e-09j,  1.12020032e-09+6.22873223e-09j,\n",
       "       -1.04276658e-09-6.00961456e-09j,  9.68262915e-10+5.79095916e-09j,\n",
       "       -8.96662880e-10-5.57274949e-09j,  8.27946028e-10+5.35496783e-09j,\n",
       "       -7.62090591e-10-5.13759537e-09j,  6.99075051e-10+4.92061604e-09j,\n",
       "       -6.38881484e-10-4.70401255e-09j,  5.81490072e-10+4.48776719e-09j,\n",
       "       -5.26884183e-10-4.27186344e-09j,  4.75046075e-10+4.05628384e-09j,\n",
       "       -4.25959978e-10-3.84101188e-09j,  3.79611247e-10+3.62603064e-09j,\n",
       "       -3.35985735e-10-3.41132384e-09j,  2.95070732e-10+3.19687586e-09j,\n",
       "       -2.56851974e-10-2.98266704e-09j,  2.21319243e-10+2.76868429e-09j,\n",
       "       -1.88461466e-10-2.55490967e-09j,  1.58268744e-10+2.34132751e-09j,\n",
       "       -1.30731693e-10-2.12792099e-09j,  1.05842577e-10+1.91467484e-09j,\n",
       "       -8.35928209e-11-1.70157193e-09j,  6.39767941e-11+1.48859679e-09j,\n",
       "       -4.69878771e-11-1.27573290e-09j,  3.26212946e-11+1.06296486e-09j,\n",
       "       -2.08731921e-11-8.50276405e-10j,  1.17390542e-11+6.37652153e-10j,\n",
       "       -5.21716004e-12-4.25075086e-10j,  1.30562228e-12+2.12528661e-10j,\n",
       "        0.00000000e+00+0.00000000e+00j])"
      ]
     },
     "execution_count": 82,
     "metadata": {},
     "output_type": "execute_result"
    }
   ],
   "source": [
    "g_fftr"
   ]
  },
  {
   "cell_type": "code",
   "execution_count": 88,
   "metadata": {},
   "outputs": [
    {
     "data": {
      "text/plain": [
       "(0, 100)"
      ]
     },
     "execution_count": 88,
     "metadata": {},
     "output_type": "execute_result"
    },
    {
     "data": {
      "image/png": "[encoded data removed]",
      "text/plain": [
       "<Figure size 432x288 with 1 Axes>"
      ]
     },
     "metadata": {
      "needs_background": "light"
     },
     "output_type": "display_data"
    }
   ],
   "source": [
    "g_fftr = np.real(g_fftr) +0j\n",
    "plt.plot(np.real(g_fftr))\n",
    "#plt.plot(np.imag(g_fftr))\n",
    "plt.xlim((0,100))"
   ]
  },
  {
   "cell_type": "code",
   "execution_count": 92,
   "metadata": {},
   "outputs": [
    {
     "data": {
      "text/plain": [
       "[<matplotlib.lines.Line2D at 0x314197b00>]"
      ]
     },
     "execution_count": 92,
     "metadata": {},
     "output_type": "execute_result"
    },
    {
     "data": {
      "image/png": "[encoded data removed]",
      "text/plain": [
       "<Figure size 432x288 with 1 Axes>"
      ]
     },
     "metadata": {
      "needs_background": "light"
     },
     "output_type": "display_data"
    }
   ],
   "source": [
    "x_back = np.fft.irfft(g_fftr)\n",
    "plt.plot(x,np.fft.fftshift(x_back))"
   ]
  },
  {
   "cell_type": "code",
   "execution_count": null,
   "metadata": {},
   "outputs": [],
   "source": []
  }
 ],
 "metadata": {
  "kernelspec": {
   "display_name": "Python 3",
   "language": "python",
   "name": "python3"
  },
  "language_info": {
   "codemirror_mode": {
    "name": "ipython",
    "version": 3
   },
   "file_extension": ".py",
   "mimetype": "text/x-python",
   "name": "python",
   "nbconvert_exporter": "python",
   "pygments_lexer": "ipython3",
   "version": "3.6.8"
  }
 },
 "nbformat": 4,
 "nbformat_minor": 2
}
