{
 "cells": [
  {
   "cell_type": "code",
   "execution_count": 1,
   "metadata": {},
   "outputs": [
    {
     "name": "stdout",
     "output_type": "stream",
     "text": [
      "['seaborn-dark', 'seaborn-darkgrid', 'seaborn-ticks', 'fivethirtyeight', 'seaborn-whitegrid', 'classic', '_classic_test', 'fast', 'seaborn-talk', 'seaborn-dark-palette', 'seaborn-bright', 'seaborn-pastel', 'grayscale', 'seaborn-notebook', 'ggplot', 'seaborn-colorblind', 'seaborn-muted', 'seaborn', 'Solarize_Light2', 'seaborn-paper', 'bmh', 'tableau-colorblind10', 'seaborn-white', 'dark_background', 'seaborn-poster', 'seaborn-deep']\n"
     ]
    }
   ],
   "source": [
    "%matplotlib inline\n",
    "import numpy as np\n",
    "import matplotlib.pyplot as plt\n",
    "import lmfit as lm\n",
    "import scipy.special as sf\n",
    "from scipy.stats import norm\n",
    "from scipy.stats import gaussian_kde\n",
    "import pymc3 as pm\n",
    "import theano.tensor as tt\n",
    "\n",
    "SMALL_SIZE = 16\n",
    "MEDIUM_SIZE = 18\n",
    "BIGGER_SIZE = 20\n",
    "\n",
    "plt.rc('font', size=SMALL_SIZE)          # controls default text sizes\n",
    "plt.rc('axes', titlesize=SMALL_SIZE)     # fontsize of the axes title\n",
    "plt.rc('axes', labelsize=MEDIUM_SIZE)    # fontsize of the x and y labels\n",
    "plt.rc('xtick', labelsize=SMALL_SIZE)    # fontsize of the tick labels\n",
    "plt.rc('ytick', labelsize=SMALL_SIZE)    # fontsize of the tick labels\n",
    "plt.rc('legend', fontsize=SMALL_SIZE)    # legend fontsize\n",
    "plt.rc('figure', titlesize=BIGGER_SIZE)  # fontsize of the figure title\n",
    "\n",
    "SEED = 350107321 # from random.org\n",
    "np.random.seed(SEED)\n",
    "\n",
    "print(plt.style.available)\n",
    "plt.style.use('seaborn-white')"
   ]
  },
  {
   "cell_type": "code",
   "execution_count": 2,
   "metadata": {},
   "outputs": [],
   "source": [
    "# this is the more realistic model with periodic boundary conditions -L,L\n",
    "def corrfitPB(t,N,D,w0,L):\n",
    "    nmax = 5\n",
    "    n = np.arange(1,nmax)\n",
    "    nn,tt = np.meshgrid(n,t)\n",
    "    \n",
    "    efa = nn*np.pi*w0**2*1j\n",
    "    an = np.exp(-nn**2*np.pi**2*w0**2/2/L**2)*(sf.erf((L**2-efa)/np.sqrt(2)/L/w0)+sf.erf((L**2+efa)/np.sqrt(2)/L/w0))\n",
    "    an = np.absolute(an)**2*np.exp(-D*nn**2*np.pi**2*tt/L**2)\n",
    "    return np.sum(an,axis=1)/N/2"
   ]
  },
  {
   "cell_type": "code",
   "execution_count": 3,
   "metadata": {},
   "outputs": [],
   "source": [
    "dt = 0.1\n",
    "D = 1.0\n",
    "L = 10\n",
    "#xl = 5.0\n",
    "#xr = 6.0\n",
    "N = 20\n",
    "length = 100000"
   ]
  },
  {
   "cell_type": "code",
   "execution_count": 4,
   "metadata": {},
   "outputs": [],
   "source": [
    "acf_all=None\n",
    "for i in range(2000):\n",
    "    # generate steps for all particles\n",
    "    steps=np.random.normal(loc=0.0, scale=np.sqrt(2*D*dt), size=(N,length))\n",
    "    # initial positions\n",
    "    x = 2*L*np.random.random(size=(N,))\n",
    "    # put initial position in front\n",
    "    x = np.column_stack((x, steps))\n",
    "    # calculate paths\n",
    "    paths = np.mod(np.cumsum(x, axis=1),2*L)-L\n",
    "    # place a Gaussian illumination at x=5.5 with unit variance\n",
    "    intensity = norm.pdf(paths, loc=0)\n",
    "    intensity = np.sum(intensity, axis=0)\n",
    "\n",
    "    # calculate autocorrelation function\n",
    "    f = np.fft.rfft(intensity)\n",
    "    acf = np.fft.irfft(f * np.conjugate(f))\n",
    "    acf = np.fft.fftshift(acf) / length\n",
    "    autocorr = acf[int(length/2):]/intensity.mean()**2\n",
    "\n",
    "    autocorr = autocorr[:1000]-1.0\n",
    "    t = np.arange(0,autocorr.size)*dt\n",
    "    \n",
    "    if acf_all is None:\n",
    "        acf_all = autocorr\n",
    "    else:\n",
    "        acf_all = np.vstack((acf_all, autocorr))\n",
    "        \n",
    "acf_std = np.std(acf_all, axis=0)\n",
    "acf_mean = np.mean(acf_all, axis=0)"
   ]
  },
  {
   "cell_type": "code",
   "execution_count": 36,
   "metadata": {},
   "outputs": [
    {
     "name": "stdout",
     "output_type": "stream",
     "text": [
      "17254.993994510958 0.03112297361110591 93.78605859145605\n"
     ]
    },
    {
     "data": {
      "image/png": "[encoded data removed]",
      "text/plain": [
       "<Figure size 432x288 with 1 Axes>"
      ]
     },
     "metadata": {
      "needs_background": "light"
     },
     "output_type": "display_data"
    }
   ],
   "source": [
    "plt.errorbar(t,acf_mean,yerr=acf_std)\n",
    "relerror=acf_std/np.abs(acf_mean)\n",
    "print(relerror.max(),relerror.min(),relerror.mean())"
   ]
  },
  {
   "cell_type": "code",
   "execution_count": 6,
   "metadata": {},
   "outputs": [],
   "source": [
    "N_list=[]\n",
    "D_list=[]\n",
    "dN_list=[]\n",
    "dD_list=[]\n",
    "\n",
    "NS_list=[]\n",
    "DS_list=[]\n",
    "dNS_list=[]\n",
    "dDS_list=[]\n",
    "\n",
    "corrfitPB_model=lm.Model(corrfitPB)\n",
    "\n",
    "for y in acf_all:\n",
    "    paramsPB = corrfitPB_model.make_params()\n",
    "    paramsPB['w0'].set(value=1,vary=False)\n",
    "    paramsPB['N'].set(value=20,vary=True)\n",
    "    paramsPB['D'].set(value=D,vary=True)\n",
    "    paramsPB['L'].set(value=L,vary=False)\n",
    "\n",
    "    resultPB = corrfitPB_model.fit(t=t,data=y,params=paramsPB)\n",
    "    \n",
    "    N_list.append(resultPB.values['N'])\n",
    "    D_list.append(resultPB.values['D'])\n",
    "    dN_list.append(np.sqrt(resultPB.covar[0,0]))\n",
    "    dD_list.append(np.sqrt(resultPB.covar[1,1]))\n",
    "                   \n",
    "    paramsPBS = corrfitPB_model.make_params()\n",
    "    paramsPBS['w0'].set(value=1,vary=False)\n",
    "    paramsPBS['N'].set(value=20,vary=True)\n",
    "    paramsPBS['D'].set(value=D,vary=True)\n",
    "    paramsPBS['L'].set(value=L,vary=False)\n",
    "\n",
    "    resultPBS = corrfitPB_model.fit(t=t,data=y,weights=1/acf_std,params=paramsPBS)\n",
    "    \n",
    "    NS_list.append(resultPBS.values['N'])\n",
    "    DS_list.append(resultPBS.values['D'])\n",
    "    dNS_list.append(np.sqrt(resultPBS.covar[0,0]))\n",
    "    dDS_list.append(np.sqrt(resultPBS.covar[1,1]))\n"
   ]
  },
  {
   "cell_type": "code",
   "execution_count": 7,
   "metadata": {},
   "outputs": [],
   "source": [
    "N_list = np.array(N_list)\n",
    "dN_list = np.array(dN_list)\n",
    "D_list = np.array(D_list)\n",
    "dD_list = np.array(dD_list)\n",
    "\n",
    "NS_list = np.array(NS_list)\n",
    "dNS_list = np.array(dNS_list)\n",
    "DS_list = np.array(DS_list)\n",
    "dDS_list = np.array(dDS_list)"
   ]
  },
  {
   "cell_type": "code",
   "execution_count": 8,
   "metadata": {},
   "outputs": [
    {
     "name": "stdout",
     "output_type": "stream",
     "text": [
      "1.0010724956281163 0.11678649269008266\n",
      "1.364206854567564 0.16737579574217296\n"
     ]
    },
    {
     "name": "stderr",
     "output_type": "stream",
     "text": [
      "/Users/hstrey/anaconda3/envs/pymc3/lib/python3.6/site-packages/ipykernel_launcher.py:1: MatplotlibDeprecationWarning: \n",
      "The 'normed' kwarg was deprecated in Matplotlib 2.1 and will be removed in 3.1. Use 'density' instead.\n",
      "  \"\"\"Entry point for launching an IPython kernel.\n",
      "/Users/hstrey/anaconda3/envs/pymc3/lib/python3.6/site-packages/ipykernel_launcher.py:2: MatplotlibDeprecationWarning: \n",
      "The 'normed' kwarg was deprecated in Matplotlib 2.1 and will be removed in 3.1. Use 'density' instead.\n",
      "  \n"
     ]
    },
    {
     "data": {
      "image/png": "[encoded data removed]",
      "text/plain": [
       "<Figure size 432x288 with 1 Axes>"
      ]
     },
     "metadata": {
      "needs_background": "light"
     },
     "output_type": "display_data"
    }
   ],
   "source": [
    "plt.hist(N_list,bins=30,normed=True,color=\"blue\",edgecolor=\"k\",label=\"LS\")\n",
    "plt.hist(NS_list,bins=30,normed=True,color=\"green\",edgecolor=\"k\",alpha=0.7,label=\"LSW\")\n",
    "plt.xlim((15,25))\n",
    "plt.legend()\n",
    "print(N_list.std(),dN_list.mean())\n",
    "print(NS_list.std(),dNS_list.mean())"
   ]
  },
  {
   "cell_type": "code",
   "execution_count": 9,
   "metadata": {},
   "outputs": [
    {
     "name": "stdout",
     "output_type": "stream",
     "text": [
      "1.0447004095863504 0.1315085395806492 0.009927965447740335\n",
      "1.0389749953018672 0.15261753125233832 0.011802034765279813\n"
     ]
    },
    {
     "name": "stderr",
     "output_type": "stream",
     "text": [
      "/Users/hstrey/anaconda3/envs/pymc3/lib/python3.6/site-packages/ipykernel_launcher.py:2: MatplotlibDeprecationWarning: \n",
      "The 'normed' kwarg was deprecated in Matplotlib 2.1 and will be removed in 3.1. Use 'density' instead.\n",
      "  \n",
      "/Users/hstrey/anaconda3/envs/pymc3/lib/python3.6/site-packages/ipykernel_launcher.py:3: MatplotlibDeprecationWarning: \n",
      "The 'normed' kwarg was deprecated in Matplotlib 2.1 and will be removed in 3.1. Use 'density' instead.\n",
      "  This is separate from the ipykernel package so we can avoid doing imports until\n"
     ]
    },
    {
     "data": {
      "image/png": "[encoded data removed]",
      "text/plain": [
       "<Figure size 360x216 with 1 Axes>"
      ]
     },
     "metadata": {
      "needs_background": "light"
     },
     "output_type": "display_data"
    }
   ],
   "source": [
    "plt.figure(figsize=(5, 3))\n",
    "plt.hist(D_list,bins=30,normed=True,color=\"blue\",edgecolor=\"k\",label=\"LS\")\n",
    "plt.hist(DS_list,bins=30,normed=True,color=\"green\",edgecolor=\"k\",label=\"LSW\",alpha=0.7)\n",
    "plt.axvline(x=1.0,color=\"r\")\n",
    "plt.xlabel(\"D\")\n",
    "plt.ylabel(\"p(D)\")\n",
    "\n",
    "plt.legend()\n",
    "print(D_list.mean(),D_list.std(),dD_list.mean())\n",
    "print(DS_list.mean(),DS_list.std(),dDS_list.mean())\n",
    "#plt.savefig(\"FCS_D300.png\",format=\"png\",dpi=300,bbox_inches='tight',facecolor=\"white\",backgroundcolor=\"white\")"
   ]
  },
  {
   "cell_type": "code",
   "execution_count": 10,
   "metadata": {},
   "outputs": [
    {
     "name": "stdout",
     "output_type": "stream",
     "text": [
      "1.0447004095863504 0.1315085395806492 0.009927965447740335\n",
      "1.0389749953018672 0.15261753125233832 0.011802034765279813\n"
     ]
    },
    {
     "data": {
      "image/png": "[encoded data removed]",
      "text/plain": [
       "<Figure size 360x216 with 1 Axes>"
      ]
     },
     "metadata": {
      "needs_background": "light"
     },
     "output_type": "display_data"
    }
   ],
   "source": [
    "xd = np.linspace(0.5,1.5,200)\n",
    "densityD = gaussian_kde(D_list)\n",
    "densityDS = gaussian_kde(DS_list)\n",
    "plt.figure(figsize=(5, 3))\n",
    "plt.plot(xd,densityD(xd),\"k--\",label=\"LS\")\n",
    "plt.plot(xd,densityDS(xd),\"k:\",label=\"LSW\")\n",
    "plt.axvline(x=1.0,color=\"k\")\n",
    "plt.xlabel(\"D\")\n",
    "plt.ylabel(\"p(D)\")\n",
    "\n",
    "plt.legend()\n",
    "print(D_list.mean(),D_list.std(),dD_list.mean())\n",
    "print(DS_list.mean(),DS_list.std(),dDS_list.mean())\n",
    "#plt.savefig(\"FCS_D300kde.png\",format=\"png\",dpi=300,bbox_inches='tight',facecolor=\"white\",backgroundcolor=\"white\")"
   ]
  },
  {
   "cell_type": "code",
   "execution_count": 11,
   "metadata": {},
   "outputs": [
    {
     "name": "stdout",
     "output_type": "stream",
     "text": [
      "1.2255117560623108 0.06273291556242136 0.007318508116798695\n",
      "1.2330381752581028 0.08548898685261193 0.010488722552404843\n"
     ]
    },
    {
     "data": {
      "image/png": "[encoded data removed]",
      "text/plain": [
       "<Figure size 360x216 with 1 Axes>"
      ]
     },
     "metadata": {
      "needs_background": "light"
     },
     "output_type": "display_data"
    }
   ],
   "source": [
    "# instead of fitting how many particles per box N, we want to measure how many particles per focus\n",
    "# size of focus is sqrt(pi/2)*w = 1.25\n",
    "F_list = N_list/20.0*np.sqrt(np.pi/2)\n",
    "dF_list = dN_list/20.0*np.sqrt(np.pi/2)\n",
    "FS_list = NS_list/20.0*np.sqrt(np.pi/2)\n",
    "dFS_list = dNS_list/20.0*np.sqrt(np.pi/2)\n",
    "\n",
    "plt.figure(figsize=(5, 3))\n",
    "plt.hist(F_list,bins=30,density=True,color=\"blue\",edgecolor=\"k\",label=\"LS\")\n",
    "plt.hist(FS_list,bins=30,density=True,color=\"green\",edgecolor=\"k\",alpha=0.7,label=\"LSW\")\n",
    "plt.axvline(x=np.sqrt(np.pi/2),color=\"r\")\n",
    "plt.legend()\n",
    "plt.xlim((1,1.65))\n",
    "plt.xlabel(\"N\")\n",
    "plt.ylabel(\"p(N)\")\n",
    "print(F_list.mean(),F_list.std(),dF_list.mean())\n",
    "print(FS_list.mean(),FS_list.std(),dFS_list.mean())\n",
    "#plt.savefig(\"FCS_N300.png\",format=\"png\",dpi=300,bbox_inches='tight',facecolor=\"white\",backgroundcolor=\"white\")"
   ]
  },
  {
   "cell_type": "code",
   "execution_count": 12,
   "metadata": {},
   "outputs": [
    {
     "data": {
      "text/plain": [
       "<matplotlib.legend.Legend at 0x7febd8247550>"
      ]
     },
     "execution_count": 12,
     "metadata": {},
     "output_type": "execute_result"
    },
    {
     "data": {
      "image/png": "[encoded data removed]",
      "text/plain": [
       "<Figure size 360x216 with 1 Axes>"
      ]
     },
     "metadata": {
      "needs_background": "light"
     },
     "output_type": "display_data"
    }
   ],
   "source": [
    "xn = np.linspace(1,1.65,200)\n",
    "densityF = gaussian_kde(F_list)\n",
    "densityFS = gaussian_kde(FS_list)\n",
    "plt.figure(figsize=(5, 3))\n",
    "plt.plot(xn,densityF(xn),\"k--\",label=\"LS\")\n",
    "plt.plot(xn,densityFS(xn),\"k:\",label=\"LSW\")\n",
    "plt.axvline(x=np.sqrt(np.pi/2),color=\"k\")\n",
    "plt.xlabel(\"N\")\n",
    "plt.ylabel(\"p(N)\")\n",
    "\n",
    "plt.legend()\n",
    "#plt.savefig(\"FCS_N300kde.png\",format=\"png\",dpi=300,bbox_inches='tight',facecolor=\"white\",backgroundcolor=\"white\")"
   ]
  },
  {
   "cell_type": "code",
   "execution_count": 13,
   "metadata": {},
   "outputs": [
    {
     "name": "stdout",
     "output_type": "stream",
     "text": [
      "1.0447004095863504 0.1315085395806492 0.009927965447740335 0.002940620341240533\n",
      "1.0389749953018672 0.15261753125233832 0.011802034765279813 0.0034126317443842705\n",
      "1.2255117560623108 0.06273291556242136 0.007318508116798695 0.001402750636243286\n",
      "1.2330381752581028 0.08548898685261193 0.010488722552404843 0.0019115918593002605\n"
     ]
    }
   ],
   "source": [
    "#find out whether the means are ok\n",
    "stderr = np.sqrt(N_list.size)\n",
    "print(D_list.mean(),D_list.std(),dD_list.mean(),D_list.std()/stderr)\n",
    "print(DS_list.mean(),DS_list.std(),dDS_list.mean(),DS_list.std()/stderr)\n",
    "print(F_list.mean(),F_list.std(),dF_list.mean(),F_list.std()/stderr)\n",
    "print(FS_list.mean(),FS_list.std(),dFS_list.mean(),FS_list.std()/stderr)"
   ]
  },
  {
   "cell_type": "code",
   "execution_count": 37,
   "metadata": {},
   "outputs": [
    {
     "name": "stderr",
     "output_type": "stream",
     "text": [
      "/Users/hstrey/anaconda3/envs/pymc3/lib/python3.6/site-packages/emcee/ensemble.py:258: RuntimeWarning: Initial state is not linearly independent and it will not allow a full exploration of parameter space\n",
      "  category=RuntimeWarning,\n",
      "100%|██████████| 1000/1000 [00:16<00:00, 61.19it/s]\n",
      "  1%|          | 6/1000 [00:00<00:16, 58.99it/s]"
     ]
    },
    {
     "name": "stdout",
     "output_type": "stream",
     "text": [
      "[[Variables]]\n",
      "    D:          0.85571348 +/- 0.00927082 (1.08%) (init = 1)\n",
      "    N:          20.8561226 +/- 0.16991016 (0.81%) (init = 20)\n",
      "    __lnsigma:  4.60517019 (init = 4.60517)\n",
      "[[Correlations]] (unreported correlations are < 0.100)\n",
      "    C(D, N) = -0.800\n",
      "20.85612259027915 0.8557134809344367 0.16991016459497124 0.009270816938191252\n",
      "2.814068858260597 1.5066639861166329 107.39954274032605 3.8879122551595855\n"
     ]
    },
    {
     "name": "stderr",
     "output_type": "stream",
     "text": [
      "100%|██████████| 1000/1000 [00:16<00:00, 60.84it/s]\n",
      "  1%|          | 6/1000 [00:00<00:16, 58.78it/s]"
     ]
    },
    {
     "name": "stdout",
     "output_type": "stream",
     "text": [
      "[[Variables]]\n",
      "    D:          0.67923337 +/- 0.00702618 (1.03%) (init = 1)\n",
      "    N:          23.5700189 +/- 0.18299779 (0.78%) (init = 20)\n",
      "    __lnsigma:  4.60517019 (init = 4.60517)\n",
      "[[Correlations]] (unreported correlations are < 0.100)\n",
      "    C(D, N) = -0.806\n",
      "23.5700188565184 0.679233374549748 0.18299778834197125 0.007026175618060636\n",
      "23.570652007561385 0.679404975809769 0.196864641477683 0.007798175049100419\n"
     ]
    },
    {
     "name": "stderr",
     "output_type": "stream",
     "text": [
      " 41%|████      | 412/1000 [00:06<00:09, 60.47it/s]Traceback (most recent call last):\n",
      "  File \"/Users/hstrey/anaconda3/envs/pymc3/lib/python3.6/site-packages/emcee/ensemble.py\", line 546, in __call__\n",
      "    return self.f(x, *self.args, **self.kwargs)\n",
      "  File \"/Users/hstrey/anaconda3/envs/pymc3/lib/python3.6/site-packages/lmfit/minimizer.py\", line 2206, in _lnpost\n",
      "    out = userfcn(params, *userargs, **userkwargs)\n",
      "  File \"<ipython-input-37-4b8f99ebf2e4>\", line 26, in residual\n",
      "    ann = np.absolute(an)**2*np.exp(-D*nn**2*np.pi**2*tt/L**2)\n",
      "KeyboardInterrupt\n",
      " 42%|████▏     | 417/1000 [00:06<00:09, 60.35it/s]"
     ]
    },
    {
     "name": "stdout",
     "output_type": "stream",
     "text": [
      "emcee: Exception while calling your likelihood function:\n",
      "  params: [ 1.07231497 19.96257297 -0.38589136]\n",
      "  args: (<function residual at 0x7fec18e16268>, Parameters([('D', <Parameter 'D', 1.0723149650163684, bounds=[-inf:inf]>), ('N', <Parameter 'N', 19.962572970225146, bounds=[-inf:inf]>), ('__lnsigma', <Parameter '__lnsigma', -0.38589135915079054, bounds=[-4.605170185988091:9.903487552536127]>)]), ['D', 'N', '__lnsigma'], array([[       -inf,         inf],\n",
      "       [       -inf,         inf],\n",
      "       [-4.60517019,  9.90348755]]))\n",
      "  kwargs: {'is_weighted': False, 'float_behavior': 'posterior', 'userargs': [], 'userkws': {'x': array([ 0. ,  0.1,  0.2,  0.3,  0.4,  0.5,  0.6,  0.7,  0.8,  0.9,  1. ,\n",
      "        1.1,  1.2,  1.3,  1.4,  1.5,  1.6,  1.7,  1.8,  1.9,  2. ,  2.1,\n",
      "        2.2,  2.3,  2.4,  2.5,  2.6,  2.7,  2.8,  2.9,  3. ,  3.1,  3.2,\n",
      "        3.3,  3.4,  3.5,  3.6,  3.7,  3.8,  3.9,  4. ,  4.1,  4.2,  4.3,\n",
      "        4.4,  4.5,  4.6,  4.7,  4.8,  4.9,  5. ,  5.1,  5.2,  5.3,  5.4,\n",
      "        5.5,  5.6,  5.7,  5.8,  5.9,  6. ,  6.1,  6.2,  6.3,  6.4,  6.5,\n",
      "        6.6,  6.7,  6.8,  6.9,  7. ,  7.1,  7.2,  7.3,  7.4,  7.5,  7.6,\n",
      "        7.7,  7.8,  7.9,  8. ,  8.1,  8.2,  8.3,  8.4,  8.5,  8.6,  8.7,\n",
      "        8.8,  8.9,  9. ,  9.1,  9.2,  9.3,  9.4,  9.5,  9.6,  9.7,  9.8,\n",
      "        9.9, 10. , 10.1, 10.2, 10.3, 10.4, 10.5, 10.6, 10.7, 10.8, 10.9,\n",
      "       11. , 11.1, 11.2, 11.3, 11.4, 11.5, 11.6, 11.7, 11.8, 11.9, 12. ,\n",
      "       12.1, 12.2, 12.3, 12.4, 12.5, 12.6, 12.7, 12.8, 12.9, 13. , 13.1,\n",
      "       13.2, 13.3, 13.4, 13.5, 13.6, 13.7, 13.8, 13.9, 14. , 14.1, 14.2,\n",
      "       14.3, 14.4, 14.5, 14.6, 14.7, 14.8, 14.9, 15. , 15.1, 15.2, 15.3,\n",
      "       15.4, 15.5, 15.6, 15.7, 15.8, 15.9, 16. , 16.1, 16.2, 16.3, 16.4,\n",
      "       16.5, 16.6, 16.7, 16.8, 16.9, 17. , 17.1, 17.2, 17.3, 17.4, 17.5,\n",
      "       17.6, 17.7, 17.8, 17.9, 18. , 18.1, 18.2, 18.3, 18.4, 18.5, 18.6,\n",
      "       18.7, 18.8, 18.9, 19. , 19.1, 19.2, 19.3, 19.4, 19.5, 19.6, 19.7,\n",
      "       19.8, 19.9, 20. , 20.1, 20.2, 20.3, 20.4, 20.5, 20.6, 20.7, 20.8,\n",
      "       20.9, 21. , 21.1, 21.2, 21.3, 21.4, 21.5, 21.6, 21.7, 21.8, 21.9,\n",
      "       22. , 22.1, 22.2, 22.3, 22.4, 22.5, 22.6, 22.7, 22.8, 22.9, 23. ,\n",
      "       23.1, 23.2, 23.3, 23.4, 23.5, 23.6, 23.7, 23.8, 23.9, 24. , 24.1,\n",
      "       24.2, 24.3, 24.4, 24.5, 24.6, 24.7, 24.8, 24.9, 25. , 25.1, 25.2,\n",
      "       25.3, 25.4, 25.5, 25.6, 25.7, 25.8, 25.9, 26. , 26.1, 26.2, 26.3,\n",
      "       26.4, 26.5, 26.6, 26.7, 26.8, 26.9, 27. , 27.1, 27.2, 27.3, 27.4,\n",
      "       27.5, 27.6, 27.7, 27.8, 27.9, 28. , 28.1, 28.2, 28.3, 28.4, 28.5,\n",
      "       28.6, 28.7, 28.8, 28.9, 29. , 29.1, 29.2, 29.3, 29.4, 29.5, 29.6,\n",
      "       29.7, 29.8, 29.9, 30. , 30.1, 30.2, 30.3, 30.4, 30.5, 30.6, 30.7,\n",
      "       30.8, 30.9, 31. , 31.1, 31.2, 31.3, 31.4, 31.5, 31.6, 31.7, 31.8,\n",
      "       31.9, 32. , 32.1, 32.2, 32.3, 32.4, 32.5, 32.6, 32.7, 32.8, 32.9,\n",
      "       33. , 33.1, 33.2, 33.3, 33.4, 33.5, 33.6, 33.7, 33.8, 33.9, 34. ,\n",
      "       34.1, 34.2, 34.3, 34.4, 34.5, 34.6, 34.7, 34.8, 34.9, 35. , 35.1,\n",
      "       35.2, 35.3, 35.4, 35.5, 35.6, 35.7, 35.8, 35.9, 36. , 36.1, 36.2,\n",
      "       36.3, 36.4, 36.5, 36.6, 36.7, 36.8, 36.9, 37. , 37.1, 37.2, 37.3,\n",
      "       37.4, 37.5, 37.6, 37.7, 37.8, 37.9, 38. , 38.1, 38.2, 38.3, 38.4,\n",
      "       38.5, 38.6, 38.7, 38.8, 38.9, 39. , 39.1, 39.2, 39.3, 39.4, 39.5,\n",
      "       39.6, 39.7, 39.8, 39.9, 40. , 40.1, 40.2, 40.3, 40.4, 40.5, 40.6,\n",
      "       40.7, 40.8, 40.9, 41. , 41.1, 41.2, 41.3, 41.4, 41.5, 41.6, 41.7,\n",
      "       41.8, 41.9, 42. , 42.1, 42.2, 42.3, 42.4, 42.5, 42.6, 42.7, 42.8,\n",
      "       42.9, 43. , 43.1, 43.2, 43.3, 43.4, 43.5, 43.6, 43.7, 43.8, 43.9,\n",
      "       44. , 44.1, 44.2, 44.3, 44.4, 44.5, 44.6, 44.7, 44.8, 44.9, 45. ,\n",
      "       45.1, 45.2, 45.3, 45.4, 45.5, 45.6, 45.7, 45.8, 45.9, 46. , 46.1,\n",
      "       46.2, 46.3, 46.4, 46.5, 46.6, 46.7, 46.8, 46.9, 47. , 47.1, 47.2,\n",
      "       47.3, 47.4, 47.5, 47.6, 47.7, 47.8, 47.9, 48. , 48.1, 48.2, 48.3,\n",
      "       48.4, 48.5, 48.6, 48.7, 48.8, 48.9, 49. , 49.1, 49.2, 49.3, 49.4,\n",
      "       49.5, 49.6, 49.7, 49.8, 49.9, 50. , 50.1, 50.2, 50.3, 50.4, 50.5,\n",
      "       50.6, 50.7, 50.8, 50.9, 51. , 51.1, 51.2, 51.3, 51.4, 51.5, 51.6,\n",
      "       51.7, 51.8, 51.9, 52. , 52.1, 52.2, 52.3, 52.4, 52.5, 52.6, 52.7,\n",
      "       52.8, 52.9, 53. , 53.1, 53.2, 53.3, 53.4, 53.5, 53.6, 53.7, 53.8,\n",
      "       53.9, 54. , 54.1, 54.2, 54.3, 54.4, 54.5, 54.6, 54.7, 54.8, 54.9,\n",
      "       55. , 55.1, 55.2, 55.3, 55.4, 55.5, 55.6, 55.7, 55.8, 55.9, 56. ,\n",
      "       56.1, 56.2, 56.3, 56.4, 56.5, 56.6, 56.7, 56.8, 56.9, 57. , 57.1,\n",
      "       57.2, 57.3, 57.4, 57.5, 57.6, 57.7, 57.8, 57.9, 58. , 58.1, 58.2,\n",
      "       58.3, 58.4, 58.5, 58.6, 58.7, 58.8, 58.9, 59. , 59.1, 59.2, 59.3,\n",
      "       59.4, 59.5, 59.6, 59.7, 59.8, 59.9, 60. , 60.1, 60.2, 60.3, 60.4,\n",
      "       60.5, 60.6, 60.7, 60.8, 60.9, 61. , 61.1, 61.2, 61.3, 61.4, 61.5,\n",
      "       61.6, 61.7, 61.8, 61.9, 62. , 62.1, 62.2, 62.3, 62.4, 62.5, 62.6,\n",
      "       62.7, 62.8, 62.9, 63. , 63.1, 63.2, 63.3, 63.4, 63.5, 63.6, 63.7,\n",
      "       63.8, 63.9, 64. , 64.1, 64.2, 64.3, 64.4, 64.5, 64.6, 64.7, 64.8,\n",
      "       64.9, 65. , 65.1, 65.2, 65.3, 65.4, 65.5, 65.6, 65.7, 65.8, 65.9,\n",
      "       66. , 66.1, 66.2, 66.3, 66.4, 66.5, 66.6, 66.7, 66.8, 66.9, 67. ,\n",
      "       67.1, 67.2, 67.3, 67.4, 67.5, 67.6, 67.7, 67.8, 67.9, 68. , 68.1,\n",
      "       68.2, 68.3, 68.4, 68.5, 68.6, 68.7, 68.8, 68.9, 69. , 69.1, 69.2,\n",
      "       69.3, 69.4, 69.5, 69.6, 69.7, 69.8, 69.9, 70. , 70.1, 70.2, 70.3,\n",
      "       70.4, 70.5, 70.6, 70.7, 70.8, 70.9, 71. , 71.1, 71.2, 71.3, 71.4,\n",
      "       71.5, 71.6, 71.7, 71.8, 71.9, 72. , 72.1, 72.2, 72.3, 72.4, 72.5,\n",
      "       72.6, 72.7, 72.8, 72.9, 73. , 73.1, 73.2, 73.3, 73.4, 73.5, 73.6,\n",
      "       73.7, 73.8, 73.9, 74. , 74.1, 74.2, 74.3, 74.4, 74.5, 74.6, 74.7,\n",
      "       74.8, 74.9, 75. , 75.1, 75.2, 75.3, 75.4, 75.5, 75.6, 75.7, 75.8,\n",
      "       75.9, 76. , 76.1, 76.2, 76.3, 76.4, 76.5, 76.6, 76.7, 76.8, 76.9,\n",
      "       77. , 77.1, 77.2, 77.3, 77.4, 77.5, 77.6, 77.7, 77.8, 77.9, 78. ,\n",
      "       78.1, 78.2, 78.3, 78.4, 78.5, 78.6, 78.7, 78.8, 78.9, 79. , 79.1,\n",
      "       79.2, 79.3, 79.4, 79.5, 79.6, 79.7, 79.8, 79.9, 80. , 80.1, 80.2,\n",
      "       80.3, 80.4, 80.5, 80.6, 80.7, 80.8, 80.9, 81. , 81.1, 81.2, 81.3,\n",
      "       81.4, 81.5, 81.6, 81.7, 81.8, 81.9, 82. , 82.1, 82.2, 82.3, 82.4,\n",
      "       82.5, 82.6, 82.7, 82.8, 82.9, 83. , 83.1, 83.2, 83.3, 83.4, 83.5,\n",
      "       83.6, 83.7, 83.8, 83.9, 84. , 84.1, 84.2, 84.3, 84.4, 84.5, 84.6,\n",
      "       84.7, 84.8, 84.9, 85. , 85.1, 85.2, 85.3, 85.4, 85.5, 85.6, 85.7,\n",
      "       85.8, 85.9, 86. , 86.1, 86.2, 86.3, 86.4, 86.5, 86.6, 86.7, 86.8,\n",
      "       86.9, 87. , 87.1, 87.2, 87.3, 87.4, 87.5, 87.6, 87.7, 87.8, 87.9,\n",
      "       88. , 88.1, 88.2, 88.3, 88.4, 88.5, 88.6, 88.7, 88.8, 88.9, 89. ,\n",
      "       89.1, 89.2, 89.3, 89.4, 89.5, 89.6, 89.7, 89.8, 89.9, 90. , 90.1,\n",
      "       90.2, 90.3, 90.4, 90.5, 90.6, 90.7, 90.8, 90.9, 91. , 91.1, 91.2,\n",
      "       91.3, 91.4, 91.5, 91.6, 91.7, 91.8, 91.9, 92. , 92.1, 92.2, 92.3,\n",
      "       92.4, 92.5, 92.6, 92.7, 92.8, 92.9, 93. , 93.1, 93.2, 93.3, 93.4,\n",
      "       93.5, 93.6, 93.7, 93.8, 93.9, 94. , 94.1, 94.2, 94.3, 94.4, 94.5,\n",
      "       94.6, 94.7, 94.8, 94.9, 95. , 95.1, 95.2, 95.3, 95.4, 95.5, 95.6,\n",
      "       95.7, 95.8, 95.9, 96. , 96.1, 96.2, 96.3, 96.4, 96.5, 96.6, 96.7,\n",
      "       96.8, 96.9, 97. , 97.1, 97.2, 97.3, 97.4, 97.5, 97.6, 97.7, 97.8,\n",
      "       97.9, 98. , 98.1, 98.2, 98.3, 98.4, 98.5, 98.6, 98.7, 98.8, 98.9,\n",
      "       99. , 99.1, 99.2, 99.3, 99.4, 99.5, 99.6, 99.7, 99.8, 99.9]), 'data': array([ 2.25512336e-01,  2.12731550e-01,  2.01632920e-01,  1.91944028e-01,\n",
      "        1.83427576e-01,  1.75768329e-01,  1.68911661e-01,  1.62577010e-01,\n",
      "        1.56766258e-01,  1.51372478e-01,  1.46387580e-01,  1.41994832e-01,\n",
      "        1.37812711e-01,  1.33834170e-01,  1.30026850e-01,  1.26276584e-01,\n",
      "        1.22806950e-01,  1.19548748e-01,  1.16511997e-01,  1.13608244e-01,\n",
      "        1.10860845e-01,  1.08354742e-01,  1.05880824e-01,  1.03462159e-01,\n",
      "        1.01285572e-01,  9.90678814e-02,  9.68407328e-02,  9.47181741e-02,\n",
      "        9.26733564e-02,  9.05841135e-02,  8.85802483e-02,  8.65754734e-02,\n",
      "        8.45830929e-02,  8.27447283e-02,  8.11187148e-02,  7.96317020e-02,\n",
      "        7.83113699e-02,  7.70392070e-02,  7.57705799e-02,  7.45270754e-02,\n",
      "        7.34153821e-02,  7.22435009e-02,  7.10457781e-02,  6.99358363e-02,\n",
      "        6.88297085e-02,  6.77548380e-02,  6.66481789e-02,  6.55961483e-02,\n",
      "        6.45253984e-02,  6.34006374e-02,  6.23489486e-02,  6.13454070e-02,\n",
      "        6.03277592e-02,  5.93343933e-02,  5.83518776e-02,  5.74708501e-02,\n",
      "        5.65984194e-02,  5.57181049e-02,  5.49857366e-02,  5.41671303e-02,\n",
      "        5.32923823e-02,  5.25394290e-02,  5.17276304e-02,  5.10475012e-02,\n",
      "        5.04209719e-02,  4.98191901e-02,  4.91559735e-02,  4.86024013e-02,\n",
      "        4.80341395e-02,  4.75048871e-02,  4.69773344e-02,  4.63283047e-02,\n",
      "        4.56892068e-02,  4.51258506e-02,  4.43985038e-02,  4.36507293e-02,\n",
      "        4.29912157e-02,  4.23097249e-02,  4.17274194e-02,  4.11452995e-02,\n",
      "        4.06375224e-02,  4.02173257e-02,  3.97568110e-02,  3.92772481e-02,\n",
      "        3.87023656e-02,  3.81694627e-02,  3.75855045e-02,  3.69866950e-02,\n",
      "        3.64541530e-02,  3.60805500e-02,  3.56320130e-02,  3.52012284e-02,\n",
      "        3.47375245e-02,  3.43528517e-02,  3.38789938e-02,  3.35120255e-02,\n",
      "        3.30587134e-02,  3.25849593e-02,  3.19876985e-02,  3.14699682e-02,\n",
      "        3.08782249e-02,  3.03307696e-02,  2.98913912e-02,  2.94863165e-02,\n",
      "        2.90837766e-02,  2.87697795e-02,  2.83517391e-02,  2.80125593e-02,\n",
      "        2.76825241e-02,  2.74654760e-02,  2.71586951e-02,  2.68733171e-02,\n",
      "        2.66526641e-02,  2.63192343e-02,  2.58111460e-02,  2.53911830e-02,\n",
      "        2.50011139e-02,  2.46202056e-02,  2.42700126e-02,  2.40547930e-02,\n",
      "        2.39127118e-02,  2.37473697e-02,  2.36338938e-02,  2.34731973e-02,\n",
      "        2.33794605e-02,  2.32071830e-02,  2.31563688e-02,  2.31847068e-02,\n",
      "        2.31485588e-02,  2.31553197e-02,  2.31732012e-02,  2.31986297e-02,\n",
      "        2.31784243e-02,  2.31425451e-02,  2.30660611e-02,  2.30806092e-02,\n",
      "        2.31498650e-02,  2.31433363e-02,  2.30772514e-02,  2.29401185e-02,\n",
      "        2.28890503e-02,  2.28725700e-02,  2.27319356e-02,  2.25606719e-02,\n",
      "        2.24639340e-02,  2.22851842e-02,  2.20861364e-02,  2.18528121e-02,\n",
      "        2.16608637e-02,  2.14873401e-02,  2.13047348e-02,  2.11893257e-02,\n",
      "        2.11004680e-02,  2.08521975e-02,  2.06267760e-02,  2.03475884e-02,\n",
      "        1.99801830e-02,  1.96380968e-02,  1.93149377e-02,  1.89025691e-02,\n",
      "        1.86127106e-02,  1.82557980e-02,  1.79060143e-02,  1.75323759e-02,\n",
      "        1.73034970e-02,  1.70475474e-02,  1.68096973e-02,  1.66040691e-02,\n",
      "        1.63423005e-02,  1.61176824e-02,  1.58238125e-02,  1.56259370e-02,\n",
      "        1.53556460e-02,  1.50561447e-02,  1.48323599e-02,  1.46991726e-02,\n",
      "        1.45184732e-02,  1.43468506e-02,  1.42183721e-02,  1.41129041e-02,\n",
      "        1.39692049e-02,  1.37807709e-02,  1.34837200e-02,  1.32699980e-02,\n",
      "        1.31460515e-02,  1.29901422e-02,  1.28404586e-02,  1.26069109e-02,\n",
      "        1.23965384e-02,  1.20549279e-02,  1.18992532e-02,  1.15717885e-02,\n",
      "        1.12740711e-02,  1.10056966e-02,  1.06669568e-02,  1.04098498e-02,\n",
      "        1.00266176e-02,  9.58604783e-03,  9.02155249e-03,  8.55995320e-03,\n",
      "        8.14446184e-03,  7.90270294e-03,  7.88435675e-03,  7.63904124e-03,\n",
      "        7.52809149e-03,  7.40659522e-03,  7.29780721e-03,  7.25367757e-03,\n",
      "        7.23379191e-03,  7.15074722e-03,  7.12059300e-03,  7.15128805e-03,\n",
      "        7.04335186e-03,  6.91592837e-03,  6.87333211e-03,  6.75448799e-03,\n",
      "        6.72146091e-03,  6.71283638e-03,  6.77427366e-03,  6.80814024e-03,\n",
      "        6.95854693e-03,  7.11753095e-03,  7.12575372e-03,  7.05726201e-03,\n",
      "        6.96117890e-03,  6.81994291e-03,  6.76807701e-03,  6.69886445e-03,\n",
      "        6.81562180e-03,  6.89052098e-03,  7.07116462e-03,  7.24554130e-03,\n",
      "        7.61022882e-03,  7.87373707e-03,  8.01775478e-03,  8.17648128e-03,\n",
      "        8.32686108e-03,  8.40078029e-03,  8.37315418e-03,  8.30952993e-03,\n",
      "        8.23292976e-03,  8.10999112e-03,  7.96802930e-03,  7.96773903e-03,\n",
      "        7.96388239e-03,  7.93429031e-03,  7.84653235e-03,  7.82355243e-03,\n",
      "        7.73519257e-03,  7.72195902e-03,  7.60679444e-03,  7.43004577e-03,\n",
      "        7.31487159e-03,  7.15436101e-03,  7.08044084e-03,  6.83312029e-03,\n",
      "        6.65608070e-03,  6.53654067e-03,  6.45465259e-03,  6.43892047e-03,\n",
      "        6.40286357e-03,  6.45028757e-03,  6.54202369e-03,  6.63949641e-03,\n",
      "        6.87266213e-03,  6.98198712e-03,  7.11339229e-03,  7.08345132e-03,\n",
      "        7.11578763e-03,  7.03101275e-03,  7.08887593e-03,  7.20376310e-03,\n",
      "        7.26721398e-03,  7.32506471e-03,  7.35317081e-03,  7.31112899e-03,\n",
      "        7.24626612e-03,  7.19640297e-03,  7.13081664e-03,  7.11120373e-03,\n",
      "        7.27358475e-03,  7.29341738e-03,  7.26202056e-03,  7.29963408e-03,\n",
      "        7.48822873e-03,  7.61415682e-03,  7.60491233e-03,  7.60526592e-03,\n",
      "        7.61852641e-03,  7.63956210e-03,  7.62193096e-03,  7.56281474e-03,\n",
      "        7.52986175e-03,  7.52388456e-03,  7.61895704e-03,  7.66816186e-03,\n",
      "        7.74745732e-03,  7.75893537e-03,  7.76024114e-03,  7.74227093e-03,\n",
      "        7.81721934e-03,  7.92475383e-03,  8.04878639e-03,  8.21036335e-03,\n",
      "        8.37823578e-03,  8.62164925e-03,  8.96997157e-03,  9.17141781e-03,\n",
      "        9.36336874e-03,  9.47508187e-03,  9.45330201e-03,  9.37581429e-03,\n",
      "        9.32336068e-03,  9.22344240e-03,  9.16013629e-03,  9.13063749e-03,\n",
      "        9.03976714e-03,  8.86369635e-03,  8.68574927e-03,  8.45216873e-03,\n",
      "        8.40245881e-03,  8.52168949e-03,  8.51107889e-03,  8.49879836e-03,\n",
      "        8.48495385e-03,  8.47463730e-03,  8.46087524e-03,  8.47914949e-03,\n",
      "        8.55179763e-03,  8.56697580e-03,  8.57354211e-03,  8.40318130e-03,\n",
      "        8.22665930e-03,  7.89390230e-03,  7.51247382e-03,  7.09009194e-03,\n",
      "        6.68479470e-03,  6.39077365e-03,  6.24077398e-03,  6.20617266e-03,\n",
      "        6.14864549e-03,  6.13431013e-03,  6.15642828e-03,  6.01348786e-03,\n",
      "        5.99561826e-03,  5.97335653e-03,  5.86092452e-03,  5.77763234e-03,\n",
      "        5.58259022e-03,  5.33238105e-03,  5.08559726e-03,  4.80389795e-03,\n",
      "        4.69879174e-03,  4.51617370e-03,  4.37057136e-03,  4.33882231e-03,\n",
      "        4.32308749e-03,  4.31510408e-03,  4.30773598e-03,  4.24860704e-03,\n",
      "        4.12846462e-03,  4.07998185e-03,  3.94960703e-03,  3.79436430e-03,\n",
      "        3.55559554e-03,  3.20095601e-03,  3.03221939e-03,  2.81314922e-03,\n",
      "        2.64543497e-03,  2.62119146e-03,  2.50507150e-03,  2.32280785e-03,\n",
      "        2.08015996e-03,  2.03697309e-03,  2.00216120e-03,  2.01871270e-03,\n",
      "        2.03990732e-03,  2.08696389e-03,  2.15049692e-03,  2.15642244e-03,\n",
      "        2.17118155e-03,  2.17522445e-03,  2.10146143e-03,  2.04061255e-03,\n",
      "        2.06722937e-03,  2.10315000e-03,  2.18900947e-03,  2.24468302e-03,\n",
      "        2.15398945e-03,  2.14026379e-03,  2.05718057e-03,  2.07804086e-03,\n",
      "        2.05256950e-03,  1.90070761e-03,  1.72373355e-03,  1.56763169e-03,\n",
      "        1.51817187e-03,  1.41656526e-03,  1.34430176e-03,  1.31898332e-03,\n",
      "        1.24963594e-03,  9.98346479e-04,  8.35951306e-04,  5.62063283e-04,\n",
      "        3.01569536e-04,  1.65020029e-04,  1.76107827e-05, -1.45185211e-04,\n",
      "       -3.88611601e-04, -5.93914133e-04, -7.09272475e-04, -7.58763810e-04,\n",
      "       -7.60648092e-04, -7.22302043e-04, -7.08068746e-04, -6.65342969e-04,\n",
      "       -6.48831624e-04, -6.34618647e-04, -6.50660054e-04, -5.70435011e-04,\n",
      "       -4.78197756e-04, -3.11447439e-04, -1.05344474e-04,  3.05890840e-05,\n",
      "        9.27336430e-05,  1.61420649e-04,  2.09431606e-04,  1.04291614e-04,\n",
      "        1.48511277e-04,  1.67389377e-04,  1.30418502e-04,  1.55486969e-05,\n",
      "        8.21842476e-05,  1.84180712e-04,  1.95600901e-04,  8.88611492e-05,\n",
      "       -1.21104659e-04, -2.64834740e-04, -4.36682174e-04, -4.69503562e-04,\n",
      "       -4.37472338e-04, -2.26350749e-04, -8.75865528e-05,  1.08716435e-04,\n",
      "        2.36622547e-04,  2.90865696e-04,  3.34068441e-04,  2.62848347e-04,\n",
      "        1.99118017e-04,  2.88269199e-04,  5.02898777e-04,  5.12587807e-04,\n",
      "        5.23768741e-04,  5.18866834e-04,  5.16596072e-04,  4.58724595e-04,\n",
      "        4.50530949e-04,  2.78874165e-04,  4.30384352e-05, -1.50899919e-04,\n",
      "       -3.42463561e-04, -4.95137182e-04, -6.19850518e-04, -7.31649507e-04,\n",
      "       -9.66389393e-04, -1.12571948e-03, -1.21696129e-03, -1.27341375e-03,\n",
      "       -1.20023442e-03, -1.06313397e-03, -9.34200112e-04, -8.75106231e-04,\n",
      "       -7.62690895e-04, -6.13989513e-04, -3.92914546e-04, -2.86425796e-04,\n",
      "       -2.64112504e-04, -2.95663994e-04, -2.32192289e-04, -2.06488875e-04,\n",
      "       -3.01652672e-04, -3.21556482e-04, -3.43734165e-04, -3.10410165e-04,\n",
      "       -2.33715621e-04, -9.03674384e-05,  2.01297460e-05,  6.09069737e-05,\n",
      "        2.45146826e-04,  3.04384096e-04,  2.92274659e-04,  2.57266329e-04,\n",
      "        2.28436264e-04,  2.68837536e-04,  2.36988843e-04,  2.78409415e-04,\n",
      "        4.35132167e-04,  6.02958325e-04,  6.92489924e-04,  6.49532281e-04,\n",
      "        5.33207409e-04,  5.68340819e-04,  5.97255710e-04,  6.13872928e-04,\n",
      "        5.86853581e-04,  5.17203246e-04,  3.75606698e-04,  3.17485526e-04,\n",
      "        3.78384654e-04,  5.09692349e-04,  6.19506354e-04,  7.08356188e-04,\n",
      "        5.91164843e-04,  4.48360196e-04,  3.99185766e-04,  3.96690780e-04,\n",
      "        5.00686233e-04,  5.67551034e-04,  6.70028913e-04,  6.90240132e-04,\n",
      "        6.94933700e-04,  6.59575810e-04,  4.57714852e-04,  3.27916086e-04,\n",
      "        1.98854881e-04,  8.42174361e-05,  6.50187688e-06, -2.85559129e-06,\n",
      "       -8.69411466e-05, -7.43018732e-05, -1.05897687e-04, -1.18598343e-04,\n",
      "       -3.93179000e-05,  4.67959851e-05,  1.82423663e-04,  2.50708400e-04,\n",
      "        4.63896496e-04,  4.51390312e-04,  5.64798980e-04,  7.04489336e-04,\n",
      "        8.67930596e-04,  9.60361999e-04,  9.63135769e-04,  7.01567395e-04,\n",
      "        5.07400107e-04,  3.05172231e-04,  1.15616181e-04, -6.20249959e-05,\n",
      "       -2.94224567e-04, -6.45363262e-04, -8.98650768e-04, -1.16686562e-03,\n",
      "       -1.42660198e-03, -1.78381097e-03, -2.00785476e-03, -2.20450889e-03,\n",
      "       -2.43715143e-03, -2.63977682e-03, -2.83818914e-03, -3.05222158e-03,\n",
      "       -3.26812523e-03, -3.47098250e-03, -3.53950930e-03, -3.60074364e-03,\n",
      "       -3.63384865e-03, -3.67634708e-03, -3.66772383e-03, -3.70951914e-03,\n",
      "       -3.76713445e-03, -3.87494203e-03, -3.91435288e-03, -3.93988693e-03,\n",
      "       -3.95559261e-03, -3.94218239e-03, -3.77010646e-03, -3.47755252e-03,\n",
      "       -3.17595107e-03, -2.98920649e-03, -2.83760214e-03, -2.61788823e-03,\n",
      "       -2.42989729e-03, -2.25841007e-03, -2.09750755e-03, -1.84499807e-03,\n",
      "       -1.67561220e-03, -1.53842847e-03, -1.38570292e-03, -1.10090959e-03,\n",
      "       -9.39122648e-04, -6.80258508e-04, -4.23324298e-04, -1.43028230e-04,\n",
      "        2.61381272e-04,  5.44305418e-04,  8.65313071e-04,  1.05064614e-03,\n",
      "        1.25552560e-03,  1.57341470e-03,  1.93562765e-03,  2.20875385e-03,\n",
      "        2.45171621e-03,  2.64371559e-03,  2.72259103e-03,  2.83989394e-03,\n",
      "        2.96907874e-03,  3.16654570e-03,  3.42580856e-03,  3.65430847e-03,\n",
      "        3.97660399e-03,  4.26376496e-03,  4.54026121e-03,  4.69054903e-03,\n",
      "        4.85041617e-03,  5.00783837e-03,  5.11788835e-03,  5.23224247e-03,\n",
      "        5.23349335e-03,  5.42999790e-03,  5.46317217e-03,  5.46873830e-03,\n",
      "        5.56847545e-03,  5.69327572e-03,  5.84129345e-03,  5.96226175e-03,\n",
      "        6.15343794e-03,  6.44593486e-03,  6.69304306e-03,  6.93060445e-03,\n",
      "        7.06252145e-03,  7.15332267e-03,  7.27977751e-03,  7.51120160e-03,\n",
      "        7.73425286e-03,  7.84236830e-03,  7.68912356e-03,  7.61591703e-03,\n",
      "        7.56211461e-03,  7.48421012e-03,  7.40579846e-03,  7.32997912e-03,\n",
      "        7.11875867e-03,  6.87625982e-03,  6.67623505e-03,  6.51038556e-03,\n",
      "        6.45494562e-03,  6.35048087e-03,  6.34902602e-03,  6.26112426e-03,\n",
      "        6.31039562e-03,  6.42642698e-03,  6.42371231e-03,  6.41796215e-03,\n",
      "        6.40991326e-03,  6.47598867e-03,  6.58621783e-03,  6.75516601e-03,\n",
      "        6.77803826e-03,  6.83970173e-03,  6.93023689e-03,  6.85735020e-03,\n",
      "        6.83172767e-03,  6.81230029e-03,  6.80655377e-03,  6.74870896e-03,\n",
      "        6.79785075e-03,  6.82210541e-03,  6.82692123e-03,  6.86182366e-03,\n",
      "        6.81444066e-03,  6.88170327e-03,  6.89642431e-03,  6.87154878e-03,\n",
      "        6.82567197e-03,  6.81916766e-03,  6.84117349e-03,  6.95927223e-03,\n",
      "        7.12938514e-03,  7.21231724e-03,  7.34605715e-03,  7.48129593e-03,\n",
      "        7.61196461e-03,  7.65121389e-03,  7.74472434e-03,  7.76784774e-03,\n",
      "        7.69548398e-03,  7.66112927e-03,  7.54859180e-03,  7.41724528e-03,\n",
      "        7.23286340e-03,  7.16718225e-03,  7.17627407e-03,  7.16028046e-03,\n",
      "        7.05106586e-03,  6.93423957e-03,  6.81684936e-03,  6.75630101e-03,\n",
      "        6.70441037e-03,  6.58067596e-03,  6.35210708e-03,  6.14443465e-03,\n",
      "        5.98512813e-03,  5.81886466e-03,  5.59952171e-03,  5.39155136e-03,\n",
      "        5.24503835e-03,  5.24767370e-03,  5.19526477e-03,  5.13281893e-03,\n",
      "        5.18453820e-03,  5.21869383e-03,  5.21773119e-03,  5.22862952e-03,\n",
      "        5.24063186e-03,  5.32025622e-03,  5.35726639e-03,  5.44117368e-03,\n",
      "        5.49860711e-03,  5.53258366e-03,  5.46401377e-03,  5.31677756e-03,\n",
      "        5.28447252e-03,  5.26758685e-03,  5.25850609e-03,  5.19189749e-03,\n",
      "        5.32927277e-03,  5.24313404e-03,  5.23055509e-03,  5.09279278e-03,\n",
      "        4.98334013e-03,  4.96007002e-03,  5.08700722e-03,  5.20860456e-03,\n",
      "        5.16225292e-03,  5.13618690e-03,  5.11160861e-03,  5.19696255e-03,\n",
      "        5.21590056e-03,  5.20933196e-03,  5.17012837e-03,  5.16006656e-03,\n",
      "        5.10587948e-03,  4.97005695e-03,  4.77098012e-03,  4.53218255e-03,\n",
      "        4.39904487e-03,  4.25460546e-03,  3.96930845e-03,  3.67978389e-03,\n",
      "        3.46463296e-03,  3.23656210e-03,  3.06977806e-03,  2.98706922e-03,\n",
      "        2.92560721e-03,  2.85337788e-03,  2.77328662e-03,  2.68099689e-03,\n",
      "        2.50153960e-03,  2.32697316e-03,  2.22096809e-03,  2.20517092e-03,\n",
      "        2.24078036e-03,  2.23894932e-03,  2.28246317e-03,  2.29876256e-03,\n",
      "        2.32251187e-03,  2.34058504e-03,  2.23460699e-03,  2.08324391e-03,\n",
      "        1.77213360e-03,  1.49428272e-03,  1.05763510e-03,  6.44645886e-04,\n",
      "        2.19850337e-04, -6.30457549e-05, -3.66207665e-04, -5.89305360e-04,\n",
      "       -6.90157969e-04, -7.37430775e-04, -6.56837064e-04, -6.46801374e-04,\n",
      "       -6.92862490e-04, -7.01230782e-04, -6.31767373e-04, -6.76182421e-04,\n",
      "       -7.38182816e-04, -8.09687803e-04, -8.69658462e-04, -9.91909694e-04,\n",
      "       -1.01443217e-03, -9.71814567e-04, -9.14822452e-04, -8.59230110e-04,\n",
      "       -8.99703240e-04, -9.43488669e-04, -1.09982176e-03, -1.22475574e-03,\n",
      "       -1.38750025e-03, -1.47921254e-03, -1.47814538e-03, -1.56269761e-03,\n",
      "       -1.64947982e-03, -1.81222994e-03, -1.91575432e-03, -1.96683256e-03,\n",
      "       -2.03242129e-03, -2.03386322e-03, -2.09358713e-03, -2.20737140e-03,\n",
      "       -2.37074224e-03, -2.43275641e-03, -2.48747242e-03, -2.50844720e-03,\n",
      "       -2.47169098e-03, -2.42426513e-03, -2.33004884e-03, -2.28515736e-03,\n",
      "       -2.17461819e-03, -2.01834709e-03, -1.89305882e-03, -1.82822556e-03,\n",
      "       -1.80856757e-03, -1.69666958e-03, -1.58591423e-03, -1.51606886e-03,\n",
      "       -1.41217219e-03, -1.33312107e-03, -1.12547970e-03, -1.08597516e-03,\n",
      "       -9.88255603e-04, -8.77587914e-04, -8.78201903e-04, -8.81057239e-04,\n",
      "       -8.80960503e-04, -8.88472031e-04, -9.23226572e-04, -8.77332119e-04,\n",
      "       -7.47283455e-04, -6.07561821e-04, -4.94100942e-04, -4.04876396e-04,\n",
      "       -3.91944725e-04, -4.57381170e-04, -3.70129957e-04, -3.51760603e-04,\n",
      "       -3.99120180e-04, -4.65371620e-04, -3.99288794e-04, -2.85606954e-04,\n",
      "       -3.20535995e-04, -4.75880327e-04, -5.34572273e-04, -5.86331617e-04,\n",
      "       -6.25202406e-04, -7.88679055e-04, -1.01940848e-03, -1.22577910e-03,\n",
      "       -1.47462735e-03, -1.75543409e-03, -2.11054993e-03, -2.40851960e-03,\n",
      "       -2.59669304e-03, -2.76684541e-03, -2.90270529e-03, -2.97449758e-03,\n",
      "       -3.04743766e-03, -3.17893000e-03, -3.34197267e-03, -3.44817049e-03,\n",
      "       -3.39407196e-03, -3.38515618e-03, -3.37882729e-03, -3.31106155e-03,\n",
      "       -3.14380504e-03, -2.94134800e-03, -2.82085174e-03, -2.83599000e-03,\n",
      "       -2.79865174e-03, -2.70253951e-03, -2.64373190e-03, -2.61968170e-03,\n",
      "       -2.64781883e-03, -2.65366231e-03, -2.68187718e-03, -2.64928925e-03,\n",
      "       -2.69096208e-03, -2.62543261e-03, -2.63177191e-03, -2.59701710e-03,\n",
      "       -2.52640555e-03, -2.45157068e-03, -2.37663926e-03, -2.21931518e-03,\n",
      "       -2.02310956e-03, -1.77765872e-03, -1.57299987e-03, -1.36646826e-03,\n",
      "       -1.16910931e-03, -9.44835015e-04, -7.89733264e-04, -7.77426480e-04,\n",
      "       -8.07334180e-04, -8.17568515e-04, -8.02030028e-04, -8.75548709e-04,\n",
      "       -9.22470204e-04, -1.04356532e-03, -1.04073131e-03, -9.93356344e-04,\n",
      "       -8.99622361e-04, -8.19428983e-04, -9.70176155e-04, -1.02710070e-03,\n",
      "       -1.12686713e-03, -1.21499294e-03, -1.19497604e-03, -1.18913425e-03,\n",
      "       -1.10581740e-03, -1.06379847e-03, -1.00360804e-03, -9.12267947e-04,\n",
      "       -8.87854848e-04, -8.65564642e-04, -8.87728066e-04, -9.08785763e-04,\n",
      "       -9.53546076e-04, -9.62767405e-04, -9.74304394e-04, -1.03846155e-03,\n",
      "       -1.02959800e-03, -9.90761576e-04, -8.97132630e-04, -9.74612320e-04,\n",
      "       -8.50004795e-04, -6.64368177e-04, -4.94553430e-04, -3.73582943e-04,\n",
      "       -2.51258751e-04, -6.31251443e-05,  1.85649539e-04,  4.12664993e-04,\n",
      "        6.43843693e-04,  8.40756538e-04,  9.46152529e-04,  1.00951349e-03,\n",
      "        1.19486506e-03,  1.32192869e-03,  1.45682064e-03,  1.55671156e-03,\n",
      "        1.53566119e-03,  1.53118467e-03,  1.41239649e-03,  1.34523397e-03,\n",
      "        1.24971911e-03,  1.24332543e-03,  1.26269708e-03,  1.20931695e-03,\n",
      "        1.18569491e-03,  1.06941412e-03,  1.00673220e-03,  1.04384422e-03,\n",
      "        1.01532418e-03,  1.08682165e-03,  1.14535768e-03,  1.32814901e-03,\n",
      "        1.39516575e-03,  1.42498949e-03,  1.52471419e-03,  1.62225750e-03,\n",
      "        1.64448600e-03,  1.66589110e-03,  1.69841885e-03,  1.84374274e-03,\n",
      "        1.92186100e-03,  2.01218663e-03,  2.12254536e-03,  2.16536338e-03,\n",
      "        2.18884220e-03,  2.14470159e-03,  2.19494090e-03,  2.20098805e-03,\n",
      "        2.25362916e-03,  2.29964303e-03,  2.36127618e-03,  2.30636376e-03,\n",
      "        2.12112224e-03,  1.87650428e-03,  1.75958291e-03,  1.69980080e-03,\n",
      "        1.80968538e-03,  1.85135977e-03,  1.87178501e-03,  1.82809603e-03,\n",
      "        1.74249353e-03,  1.68138859e-03,  1.62339859e-03,  1.65953684e-03,\n",
      "        1.51484631e-03,  1.33437137e-03,  1.24946078e-03,  1.14179535e-03]), 'eps': array([0.00721472, 0.00708688, 0.00697339, 0.00687064, 0.00677692,\n",
      "       0.00669743, 0.00662642, 0.0065599 , 0.00650067, 0.00644815,\n",
      "       0.00640015, 0.00635232, 0.00630478, 0.00626021, 0.00621963,\n",
      "       0.00617804, 0.00613672, 0.00609973, 0.00606481, 0.00602997,\n",
      "       0.00599537, 0.00596442, 0.00593364, 0.00590475, 0.00587518,\n",
      "       0.00584743, 0.00582322, 0.00579806, 0.00577295, 0.00574655,\n",
      "       0.00571947, 0.0056957 , 0.00567287, 0.00564904, 0.0056283 ,\n",
      "       0.00560522, 0.00558338, 0.00556393, 0.00554225, 0.00551949,\n",
      "       0.00549419, 0.00547348, 0.00545355, 0.00543399, 0.00540985,\n",
      "       0.00538655, 0.00536344, 0.0053393 , 0.00531592, 0.00529148,\n",
      "       0.00526492, 0.0052385 , 0.00521159, 0.0051842 , 0.00515973,\n",
      "       0.00513435, 0.00511069, 0.00508901, 0.00507019, 0.0050526 ,\n",
      "       0.00503642, 0.00501913, 0.00500005, 0.00498065, 0.00496406,\n",
      "       0.00494891, 0.004933  , 0.0049172 , 0.00490315, 0.00488693,\n",
      "       0.00487105, 0.00486006, 0.00485308, 0.00484406, 0.00483459,\n",
      "       0.00482503, 0.00481084, 0.00479875, 0.00478914, 0.00477925,\n",
      "       0.00476695, 0.00475426, 0.00474242, 0.00472994, 0.00471609,\n",
      "       0.00470449, 0.00469149, 0.00468029, 0.00467036, 0.00466231,\n",
      "       0.00465478, 0.00464851, 0.00463993, 0.00463285, 0.00462521,\n",
      "       0.00461968, 0.00461244, 0.00460768, 0.00460218, 0.0045981 ,\n",
      "       0.00459387, 0.00458622, 0.00457921, 0.00457437, 0.00457143,\n",
      "       0.00456545, 0.00456228, 0.00455887, 0.00455695, 0.0045532 ,\n",
      "       0.00454584, 0.00454009, 0.00453664, 0.00453519, 0.00453414,\n",
      "       0.00453382, 0.00453582, 0.00453541, 0.00453448, 0.00453182,\n",
      "       0.00452888, 0.00452793, 0.00452872, 0.004525  , 0.00452026,\n",
      "       0.00451599, 0.00451313, 0.00451228, 0.00451121, 0.00451126,\n",
      "       0.0045132 , 0.00451429, 0.00451457, 0.00451378, 0.00451135,\n",
      "       0.00451283, 0.00451538, 0.0045191 , 0.00452284, 0.00452408,\n",
      "       0.00452583, 0.00452624, 0.0045257 , 0.00452737, 0.00452578,\n",
      "       0.00452599, 0.00452435, 0.00452377, 0.00452413, 0.00452439,\n",
      "       0.0045215 , 0.0045188 , 0.00451466, 0.00451147, 0.00450937,\n",
      "       0.00450752, 0.00450567, 0.00450297, 0.00450273, 0.00449839,\n",
      "       0.00449553, 0.00449411, 0.00449031, 0.00448871, 0.00448926,\n",
      "       0.00449153, 0.00449047, 0.00448729, 0.00448428, 0.00448141,\n",
      "       0.00447989, 0.00447983, 0.00447766, 0.00447212, 0.00446779,\n",
      "       0.00446118, 0.00445817, 0.00445846, 0.00446011, 0.00445923,\n",
      "       0.00445759, 0.00445568, 0.00445649, 0.00445802, 0.00445762,\n",
      "       0.00445694, 0.00445695, 0.00445762, 0.00446028, 0.00446073,\n",
      "       0.00446116, 0.00446334, 0.00446573, 0.00446761, 0.00446961,\n",
      "       0.00447014, 0.00447146, 0.0044724 , 0.00447324, 0.00447351,\n",
      "       0.00447309, 0.0044726 , 0.00447027, 0.00446812, 0.00446592,\n",
      "       0.00446554, 0.00446753, 0.00447061, 0.00447445, 0.00448185,\n",
      "       0.0044871 , 0.00448786, 0.00448683, 0.00448569, 0.00448476,\n",
      "       0.00448316, 0.00448292, 0.00448125, 0.00447637, 0.00447395,\n",
      "       0.00447269, 0.00447154, 0.00447078, 0.00446968, 0.00446903,\n",
      "       0.00446688, 0.00446312, 0.0044639 , 0.00446767, 0.00446965,\n",
      "       0.00447062, 0.00447059, 0.00446853, 0.0044662 , 0.00446218,\n",
      "       0.00445562, 0.00444967, 0.00444367, 0.00443891, 0.00443503,\n",
      "       0.0044324 , 0.0044292 , 0.0044266 , 0.00442423, 0.00441993,\n",
      "       0.0044147 , 0.0044084 , 0.00440208, 0.00439381, 0.00438502,\n",
      "       0.00437841, 0.00437729, 0.00438036, 0.00437728, 0.00437378,\n",
      "       0.0043712 , 0.00436994, 0.00436952, 0.00437366, 0.00437752,\n",
      "       0.00437698, 0.0043774 , 0.00437599, 0.00437181, 0.00436795,\n",
      "       0.00436723, 0.00437086, 0.00437067, 0.00436782, 0.00436248,\n",
      "       0.00435927, 0.00435801, 0.00435502, 0.00435419, 0.00435346,\n",
      "       0.0043545 , 0.00435564, 0.00435632, 0.00435559, 0.00435556,\n",
      "       0.00435713, 0.00435851, 0.00435766, 0.00435819, 0.00435883,\n",
      "       0.00435703, 0.00435383, 0.00434971, 0.00434317, 0.00433712,\n",
      "       0.00433025, 0.00432394, 0.00431944, 0.00431385, 0.00430929,\n",
      "       0.00430275, 0.00429859, 0.00429445, 0.00428975, 0.00428792,\n",
      "       0.00428586, 0.00428627, 0.00428657, 0.00428665, 0.0042851 ,\n",
      "       0.00428341, 0.00428214, 0.00428148, 0.00427965, 0.00427596,\n",
      "       0.00427275, 0.00427147, 0.00426945, 0.00426738, 0.0042656 ,\n",
      "       0.00426501, 0.00426569, 0.004269  , 0.00426823, 0.00427034,\n",
      "       0.00427172, 0.00427314, 0.00427216, 0.00426971, 0.00426391,\n",
      "       0.00425892, 0.00425831, 0.00425905, 0.00425745, 0.00425554,\n",
      "       0.00425417, 0.00425052, 0.00424553, 0.00423999, 0.00423635,\n",
      "       0.00423297, 0.00422836, 0.00422313, 0.00421956, 0.00422004,\n",
      "       0.00421933, 0.00421948, 0.00422017, 0.0042195 , 0.00421795,\n",
      "       0.00421593, 0.00421663, 0.0042181 , 0.00421846, 0.00421999,\n",
      "       0.00422188, 0.00422449, 0.00422929, 0.00423328, 0.00423697,\n",
      "       0.00424103, 0.00424215, 0.00424267, 0.00424263, 0.00424132,\n",
      "       0.00423904, 0.00424019, 0.00424407, 0.00425054, 0.00425686,\n",
      "       0.00426113, 0.00426373, 0.00426536, 0.00426706, 0.00426603,\n",
      "       0.00426498, 0.00426294, 0.0042599 , 0.00425844, 0.00425753,\n",
      "       0.00425656, 0.00425733, 0.00425778, 0.00425925, 0.00425877,\n",
      "       0.00425744, 0.00425608, 0.00425723, 0.00425821, 0.00426161,\n",
      "       0.00426519, 0.00426651, 0.00426897, 0.00427071, 0.004271  ,\n",
      "       0.00427006, 0.00426582, 0.00426291, 0.00426037, 0.00425643,\n",
      "       0.00425412, 0.00424881, 0.00424134, 0.0042376 , 0.00423596,\n",
      "       0.00423624, 0.00423391, 0.00423287, 0.00423046, 0.00422969,\n",
      "       0.00422995, 0.00423238, 0.00423578, 0.00423826, 0.00424225,\n",
      "       0.00424764, 0.00425206, 0.00425495, 0.00425621, 0.00425517,\n",
      "       0.00425251, 0.00424862, 0.00424562, 0.00424402, 0.00424256,\n",
      "       0.00423735, 0.00423679, 0.00423603, 0.00423821, 0.00424085,\n",
      "       0.00424532, 0.00425033, 0.00425256, 0.00425932, 0.00426513,\n",
      "       0.00427063, 0.00427653, 0.00428068, 0.00428082, 0.00427941,\n",
      "       0.00427875, 0.00427908, 0.00428002, 0.00427926, 0.00427815,\n",
      "       0.00428135, 0.00428339, 0.00428605, 0.00428943, 0.00429119,\n",
      "       0.00429433, 0.00429412, 0.00429263, 0.00428975, 0.00428493,\n",
      "       0.0042815 , 0.00427844, 0.00427369, 0.00426887, 0.00426617,\n",
      "       0.0042623 , 0.00425853, 0.00425668, 0.00425472, 0.00425259,\n",
      "       0.00424801, 0.004244  , 0.00423892, 0.00423618, 0.00423769,\n",
      "       0.00423905, 0.00423981, 0.00423907, 0.00423907, 0.00424072,\n",
      "       0.00424207, 0.00424247, 0.00424641, 0.00425233, 0.0042581 ,\n",
      "       0.00426407, 0.00426652, 0.00427056, 0.00427541, 0.00427756,\n",
      "       0.00427954, 0.004281  , 0.00428312, 0.00428547, 0.00429003,\n",
      "       0.00429663, 0.00430573, 0.00431374, 0.00432004, 0.00432352,\n",
      "       0.00432875, 0.00432985, 0.00433099, 0.00433579, 0.00434012,\n",
      "       0.00434156, 0.00434352, 0.00434727, 0.00435191, 0.00435277,\n",
      "       0.00435086, 0.00434632, 0.00434323, 0.00433969, 0.00433559,\n",
      "       0.00433041, 0.00432643, 0.00432184, 0.00431757, 0.00431275,\n",
      "       0.00430784, 0.00430553, 0.00430628, 0.00430647, 0.0043087 ,\n",
      "       0.00431093, 0.00431353, 0.00431231, 0.00430973, 0.00430729,\n",
      "       0.00430864, 0.00430878, 0.00430841, 0.00430806, 0.00430891,\n",
      "       0.00430947, 0.00430953, 0.00430722, 0.00430246, 0.00429966,\n",
      "       0.00429979, 0.00429702, 0.00429558, 0.00429666, 0.00429835,\n",
      "       0.0042962 , 0.00429545, 0.00429312, 0.00429279, 0.00429331,\n",
      "       0.00429279, 0.00429344, 0.00429386, 0.00429663, 0.00430148,\n",
      "       0.00430541, 0.00430512, 0.00430379, 0.00430298, 0.00430296,\n",
      "       0.00430418, 0.00430471, 0.00430316, 0.00430489, 0.00430793,\n",
      "       0.00431233, 0.00431656, 0.00431968, 0.00432384, 0.0043304 ,\n",
      "       0.00433366, 0.00433498, 0.00433676, 0.00433284, 0.00432751,\n",
      "       0.00432454, 0.00432089, 0.00431603, 0.00431302, 0.0043076 ,\n",
      "       0.00430592, 0.00430448, 0.00430319, 0.00430213, 0.00429976,\n",
      "       0.00429634, 0.00429274, 0.00428494, 0.00427985, 0.00427564,\n",
      "       0.00426969, 0.00426611, 0.00426164, 0.00425786, 0.00425655,\n",
      "       0.00425259, 0.00425021, 0.00424752, 0.0042432 , 0.00424092,\n",
      "       0.00423701, 0.00423411, 0.00423059, 0.00422759, 0.00422795,\n",
      "       0.004227  , 0.00422547, 0.00422814, 0.00422858, 0.004227  ,\n",
      "       0.00422686, 0.00422787, 0.00422942, 0.00423066, 0.00423211,\n",
      "       0.00423711, 0.00424141, 0.00424557, 0.00424876, 0.00424799,\n",
      "       0.00424612, 0.00424245, 0.00423909, 0.00423375, 0.0042273 ,\n",
      "       0.00422413, 0.00422149, 0.00422082, 0.00421812, 0.00421456,\n",
      "       0.00421311, 0.00421429, 0.00421538, 0.0042165 , 0.00421812,\n",
      "       0.00422271, 0.00422243, 0.00422181, 0.00422231, 0.00422178,\n",
      "       0.00422135, 0.00421955, 0.00421945, 0.00422039, 0.00422252,\n",
      "       0.00422671, 0.00422893, 0.00422963, 0.00423103, 0.00423161,\n",
      "       0.00423327, 0.00423365, 0.0042333 , 0.00423391, 0.00423495,\n",
      "       0.00423652, 0.00423839, 0.00423799, 0.00423804, 0.00423917,\n",
      "       0.00423921, 0.00423959, 0.0042411 , 0.00424094, 0.0042392 ,\n",
      "       0.00423573, 0.00423557, 0.00423472, 0.00423227, 0.00423057,\n",
      "       0.00422977, 0.00422891, 0.00422915, 0.00423064, 0.00423179,\n",
      "       0.00422925, 0.00422575, 0.00422418, 0.00422094, 0.00422127,\n",
      "       0.00422183, 0.00422177, 0.00421874, 0.00421746, 0.0042185 ,\n",
      "       0.00422158, 0.00422468, 0.00422897, 0.00422987, 0.00422949,\n",
      "       0.00422728, 0.00422666, 0.00422399, 0.00422377, 0.00422217,\n",
      "       0.00421936, 0.00422145, 0.00422337, 0.0042246 , 0.0042262 ,\n",
      "       0.00422594, 0.00422746, 0.00422859, 0.00422999, 0.00423204,\n",
      "       0.00423464, 0.00423499, 0.00423521, 0.00423738, 0.0042392 ,\n",
      "       0.00423917, 0.00423789, 0.0042365 , 0.00423528, 0.0042349 ,\n",
      "       0.00423124, 0.00422606, 0.00422133, 0.00421721, 0.00421287,\n",
      "       0.00420818, 0.00420343, 0.00420274, 0.00420241, 0.00420262,\n",
      "       0.00420396, 0.00420897, 0.00421338, 0.00421322, 0.00421525,\n",
      "       0.00421349, 0.00421271, 0.00421358, 0.00421383, 0.00421016,\n",
      "       0.00420714, 0.00420411, 0.00419993, 0.00419511, 0.00419118,\n",
      "       0.00418834, 0.00418619, 0.00418375, 0.00417986, 0.00417464,\n",
      "       0.00417414, 0.00417407, 0.004174  , 0.00417421, 0.00417615,\n",
      "       0.00417679, 0.00417516, 0.00417506, 0.00417647, 0.00417878,\n",
      "       0.00418208, 0.00418369, 0.00418571, 0.00418676, 0.0041864 ,\n",
      "       0.00418569, 0.00418029, 0.00417779, 0.00417669, 0.00417681,\n",
      "       0.00417958, 0.00417976, 0.00418259, 0.00418297, 0.00418415,\n",
      "       0.00418705, 0.00418958, 0.00418991, 0.00418733, 0.00418477,\n",
      "       0.00418527, 0.00418596, 0.00418802, 0.00418526, 0.00418191,\n",
      "       0.00417977, 0.00418097, 0.00418564, 0.00418695, 0.0041876 ,\n",
      "       0.00419124, 0.00419475, 0.00419666, 0.00419854, 0.00419887,\n",
      "       0.00419774, 0.00419831, 0.00419946, 0.00420061, 0.00420063,\n",
      "       0.00420163, 0.00420033, 0.00419963, 0.00420065, 0.0041992 ,\n",
      "       0.00420066, 0.00419993, 0.00420169, 0.00420599, 0.00420794,\n",
      "       0.00420697, 0.0042068 , 0.00420755, 0.00420743, 0.00420694,\n",
      "       0.00420441, 0.00420178, 0.00420028, 0.00420338, 0.00420663,\n",
      "       0.00420849, 0.00421149, 0.00421392, 0.00421513, 0.00421716,\n",
      "       0.00421847, 0.00421894, 0.00421863, 0.0042176 , 0.00421872,\n",
      "       0.00421724, 0.00421288, 0.00420968, 0.00420687, 0.00420574,\n",
      "       0.00420413, 0.00420185, 0.00419804, 0.00419544, 0.00419363,\n",
      "       0.00418982, 0.004185  , 0.00418047, 0.00417585, 0.00417047,\n",
      "       0.00416377, 0.00415546, 0.00414985, 0.00414397, 0.0041377 ,\n",
      "       0.00413321, 0.00412743, 0.00412291, 0.00412012, 0.00411784,\n",
      "       0.00411765, 0.00411502, 0.00411175, 0.00410842, 0.00410363,\n",
      "       0.00409962, 0.00409658, 0.00409679, 0.00410037, 0.00410367,\n",
      "       0.00410716, 0.00411076, 0.00411367, 0.00411301, 0.00411312,\n",
      "       0.00411767, 0.00412317, 0.00412787, 0.00413264, 0.00413864,\n",
      "       0.00414238, 0.00414286, 0.00414421, 0.00414332, 0.0041417 ,\n",
      "       0.00413929, 0.00413524, 0.00413372, 0.00413312, 0.0041353 ,\n",
      "       0.0041387 , 0.00414026, 0.00414236, 0.00414279, 0.00414482,\n",
      "       0.0041469 , 0.004149  , 0.00415169, 0.00415519, 0.00415725,\n",
      "       0.00416014, 0.00416328, 0.00416655, 0.00417055, 0.00417255,\n",
      "       0.00417278, 0.00417375, 0.00417131, 0.00417015, 0.00416997,\n",
      "       0.00416977, 0.00417043, 0.00416799, 0.00416542, 0.0041647 ,\n",
      "       0.00416458, 0.00416114, 0.00415698, 0.0041522 , 0.00414843,\n",
      "       0.00414597, 0.00414177, 0.00413851, 0.0041371 , 0.00413593,\n",
      "       0.00413814, 0.00414165, 0.00414435, 0.00414816, 0.00415203,\n",
      "       0.00415619, 0.00416236, 0.00416655, 0.00417245, 0.00417665,\n",
      "       0.0041779 , 0.00417752, 0.00417699, 0.00417903, 0.00418225,\n",
      "       0.00418555, 0.00418388, 0.00418186, 0.00417728, 0.00417331,\n",
      "       0.0041665 , 0.004163  , 0.00415976, 0.00415998, 0.00415877,\n",
      "       0.0041575 , 0.00415323, 0.0041509 , 0.00415206, 0.00415269,\n",
      "       0.00415367, 0.00415316, 0.00415275, 0.00415264, 0.00415337,\n",
      "       0.00415427, 0.00415762, 0.00416096, 0.00416561, 0.00417096,\n",
      "       0.0041768 , 0.00418091, 0.00418719, 0.00419125, 0.00419322,\n",
      "       0.00419362, 0.00419367, 0.00419441, 0.0041943 , 0.00419435,\n",
      "       0.00419827, 0.004204  , 0.00420832, 0.0042095 , 0.00421221,\n",
      "       0.00421338, 0.00421496, 0.00421571, 0.00421685, 0.00421638,\n",
      "       0.00421515, 0.00421544, 0.00421309, 0.00421109, 0.00421026,\n",
      "       0.00421357, 0.00421512, 0.0042136 , 0.00421353, 0.00421086,\n",
      "       0.00420726, 0.00420313, 0.00419771, 0.0041955 , 0.00419413,\n",
      "       0.00419495, 0.00419517, 0.0041962 , 0.00419707, 0.00420053,\n",
      "       0.00420502, 0.00420958, 0.00421151, 0.0042119 , 0.00421197,\n",
      "       0.0042143 , 0.00421557, 0.0042167 , 0.00421245, 0.00421108,\n",
      "       0.00421038, 0.0042083 , 0.00420917, 0.0042107 , 0.00420816])}, 'nan_policy': 'omit'}\n",
      "  exception:\n"
     ]
    },
    {
     "name": "stderr",
     "output_type": "stream",
     "text": [
      "\n"
     ]
    },
    {
     "ename": "KeyboardInterrupt",
     "evalue": "",
     "output_type": "error",
     "traceback": [
      "\u001b[0;31m---------------------------------------------------------------------------\u001b[0m",
      "\u001b[0;31mKeyboardInterrupt\u001b[0m                         Traceback (most recent call last)",
      "\u001b[0;32m<ipython-input-37-4b8f99ebf2e4>\u001b[0m in \u001b[0;36m<module>\u001b[0;34m\u001b[0m\n\u001b[1;32m     40\u001b[0m     \u001b[0mresult\u001b[0m\u001b[0;34m.\u001b[0m\u001b[0mparams\u001b[0m\u001b[0;34m.\u001b[0m\u001b[0madd\u001b[0m\u001b[0;34m(\u001b[0m\u001b[0;34m'__lnsigma'\u001b[0m\u001b[0;34m,\u001b[0m \u001b[0mvalue\u001b[0m\u001b[0;34m=\u001b[0m\u001b[0mnp\u001b[0m\u001b[0;34m.\u001b[0m\u001b[0mlog\u001b[0m\u001b[0;34m(\u001b[0m\u001b[0;36m100\u001b[0m\u001b[0;34m)\u001b[0m\u001b[0;34m,\u001b[0m \u001b[0mmin\u001b[0m\u001b[0;34m=\u001b[0m\u001b[0mnp\u001b[0m\u001b[0;34m.\u001b[0m\u001b[0mlog\u001b[0m\u001b[0;34m(\u001b[0m\u001b[0;36m0.01\u001b[0m\u001b[0;34m)\u001b[0m\u001b[0;34m,\u001b[0m \u001b[0mmax\u001b[0m\u001b[0;34m=\u001b[0m\u001b[0mnp\u001b[0m\u001b[0;34m.\u001b[0m\u001b[0mlog\u001b[0m\u001b[0;34m(\u001b[0m\u001b[0;36m20000\u001b[0m\u001b[0;34m)\u001b[0m\u001b[0;34m)\u001b[0m\u001b[0;34m\u001b[0m\u001b[0;34m\u001b[0m\u001b[0m\n\u001b[1;32m     41\u001b[0m     res = lm.minimize(residual, kws = {'x':t,'data':y,'eps':acf_std},method='emcee', nan_policy='omit', burn=300, steps=1000, thin=20,\n\u001b[0;32m---> 42\u001b[0;31m                      params=result.params,is_weighted=False)\n\u001b[0m\u001b[1;32m     43\u001b[0m \u001b[0;34m\u001b[0m\u001b[0m\n\u001b[1;32m     44\u001b[0m     \u001b[0mprint\u001b[0m\u001b[0;34m(\u001b[0m\u001b[0mlm\u001b[0m\u001b[0;34m.\u001b[0m\u001b[0mfit_report\u001b[0m\u001b[0;34m(\u001b[0m\u001b[0mresult\u001b[0m\u001b[0;34m.\u001b[0m\u001b[0mparams\u001b[0m\u001b[0;34m)\u001b[0m\u001b[0;34m)\u001b[0m\u001b[0;34m\u001b[0m\u001b[0;34m\u001b[0m\u001b[0m\n",
      "\u001b[0;32m~/anaconda3/envs/pymc3/lib/python3.6/site-packages/lmfit/minimizer.py\u001b[0m in \u001b[0;36mminimize\u001b[0;34m(fcn, params, method, args, kws, iter_cb, scale_covar, nan_policy, reduce_fcn, calc_covar, **fit_kws)\u001b[0m\n\u001b[1;32m   2446\u001b[0m                        \u001b[0mnan_policy\u001b[0m\u001b[0;34m=\u001b[0m\u001b[0mnan_policy\u001b[0m\u001b[0;34m,\u001b[0m \u001b[0mreduce_fcn\u001b[0m\u001b[0;34m=\u001b[0m\u001b[0mreduce_fcn\u001b[0m\u001b[0;34m,\u001b[0m\u001b[0;34m\u001b[0m\u001b[0;34m\u001b[0m\u001b[0m\n\u001b[1;32m   2447\u001b[0m                        calc_covar=calc_covar, **fit_kws)\n\u001b[0;32m-> 2448\u001b[0;31m     \u001b[0;32mreturn\u001b[0m \u001b[0mfitter\u001b[0m\u001b[0;34m.\u001b[0m\u001b[0mminimize\u001b[0m\u001b[0;34m(\u001b[0m\u001b[0mmethod\u001b[0m\u001b[0;34m=\u001b[0m\u001b[0mmethod\u001b[0m\u001b[0;34m)\u001b[0m\u001b[0;34m\u001b[0m\u001b[0;34m\u001b[0m\u001b[0m\n\u001b[0m",
      "\u001b[0;32m~/anaconda3/envs/pymc3/lib/python3.6/site-packages/lmfit/minimizer.py\u001b[0m in \u001b[0;36mminimize\u001b[0;34m(self, method, params, **kws)\u001b[0m\n\u001b[1;32m   2115\u001b[0m                         val.lower().startswith(user_method)):\n\u001b[1;32m   2116\u001b[0m                     \u001b[0mkwargs\u001b[0m\u001b[0;34m[\u001b[0m\u001b[0;34m'method'\u001b[0m\u001b[0;34m]\u001b[0m \u001b[0;34m=\u001b[0m \u001b[0mval\u001b[0m\u001b[0;34m\u001b[0m\u001b[0;34m\u001b[0m\u001b[0m\n\u001b[0;32m-> 2117\u001b[0;31m         \u001b[0;32mreturn\u001b[0m \u001b[0mfunction\u001b[0m\u001b[0;34m(\u001b[0m\u001b[0;34m**\u001b[0m\u001b[0mkwargs\u001b[0m\u001b[0;34m)\u001b[0m\u001b[0;34m\u001b[0m\u001b[0;34m\u001b[0m\u001b[0m\n\u001b[0m\u001b[1;32m   2118\u001b[0m \u001b[0;34m\u001b[0m\u001b[0m\n\u001b[1;32m   2119\u001b[0m \u001b[0;34m\u001b[0m\u001b[0m\n",
      "\u001b[0;32m~/anaconda3/envs/pymc3/lib/python3.6/site-packages/lmfit/minimizer.py\u001b[0m in \u001b[0;36memcee\u001b[0;34m(self, params, steps, nwalkers, burn, thin, ntemps, pos, reuse_sampler, workers, float_behavior, is_weighted, seed, progress)\u001b[0m\n\u001b[1;32m   1291\u001b[0m         \u001b[0;31m# now do a production run, sampling all the time\u001b[0m\u001b[0;34m\u001b[0m\u001b[0;34m\u001b[0m\u001b[0;34m\u001b[0m\u001b[0m\n\u001b[1;32m   1292\u001b[0m         \u001b[0;32mif\u001b[0m \u001b[0mEMCEE_VERSION\u001b[0m \u001b[0;34m>=\u001b[0m \u001b[0;36m3\u001b[0m\u001b[0;34m:\u001b[0m\u001b[0;34m\u001b[0m\u001b[0;34m\u001b[0m\u001b[0m\n\u001b[0;32m-> 1293\u001b[0;31m             \u001b[0moutput\u001b[0m \u001b[0;34m=\u001b[0m \u001b[0mself\u001b[0m\u001b[0;34m.\u001b[0m\u001b[0msampler\u001b[0m\u001b[0;34m.\u001b[0m\u001b[0mrun_mcmc\u001b[0m\u001b[0;34m(\u001b[0m\u001b[0mp0\u001b[0m\u001b[0;34m,\u001b[0m \u001b[0msteps\u001b[0m\u001b[0;34m,\u001b[0m \u001b[0mprogress\u001b[0m\u001b[0;34m=\u001b[0m\u001b[0mprogress\u001b[0m\u001b[0;34m)\u001b[0m\u001b[0;34m\u001b[0m\u001b[0;34m\u001b[0m\u001b[0m\n\u001b[0m\u001b[1;32m   1294\u001b[0m             \u001b[0mself\u001b[0m\u001b[0;34m.\u001b[0m\u001b[0m_lastpos\u001b[0m \u001b[0;34m=\u001b[0m \u001b[0moutput\u001b[0m\u001b[0;34m.\u001b[0m\u001b[0mcoords\u001b[0m\u001b[0;34m\u001b[0m\u001b[0;34m\u001b[0m\u001b[0m\n\u001b[1;32m   1295\u001b[0m         \u001b[0;32melse\u001b[0m\u001b[0;34m:\u001b[0m\u001b[0;34m\u001b[0m\u001b[0;34m\u001b[0m\u001b[0m\n",
      "\u001b[0;32m~/anaconda3/envs/pymc3/lib/python3.6/site-packages/emcee/ensemble.py\u001b[0m in \u001b[0;36mrun_mcmc\u001b[0;34m(self, initial_state, nsteps, **kwargs)\u001b[0m\n\u001b[1;32m    384\u001b[0m \u001b[0;34m\u001b[0m\u001b[0m\n\u001b[1;32m    385\u001b[0m         \u001b[0mresults\u001b[0m \u001b[0;34m=\u001b[0m \u001b[0;32mNone\u001b[0m\u001b[0;34m\u001b[0m\u001b[0;34m\u001b[0m\u001b[0m\n\u001b[0;32m--> 386\u001b[0;31m         \u001b[0;32mfor\u001b[0m \u001b[0mresults\u001b[0m \u001b[0;32min\u001b[0m \u001b[0mself\u001b[0m\u001b[0;34m.\u001b[0m\u001b[0msample\u001b[0m\u001b[0;34m(\u001b[0m\u001b[0minitial_state\u001b[0m\u001b[0;34m,\u001b[0m \u001b[0miterations\u001b[0m\u001b[0;34m=\u001b[0m\u001b[0mnsteps\u001b[0m\u001b[0;34m,\u001b[0m \u001b[0;34m**\u001b[0m\u001b[0mkwargs\u001b[0m\u001b[0;34m)\u001b[0m\u001b[0;34m:\u001b[0m\u001b[0;34m\u001b[0m\u001b[0;34m\u001b[0m\u001b[0m\n\u001b[0m\u001b[1;32m    387\u001b[0m             \u001b[0;32mpass\u001b[0m\u001b[0;34m\u001b[0m\u001b[0;34m\u001b[0m\u001b[0m\n\u001b[1;32m    388\u001b[0m \u001b[0;34m\u001b[0m\u001b[0m\n",
      "\u001b[0;32m~/anaconda3/envs/pymc3/lib/python3.6/site-packages/emcee/ensemble.py\u001b[0m in \u001b[0;36msample\u001b[0;34m(self, initial_state, log_prob0, rstate0, blobs0, iterations, tune, skip_initial_state_check, thin_by, thin, store, progress)\u001b[0m\n\u001b[1;32m    343\u001b[0m \u001b[0;34m\u001b[0m\u001b[0m\n\u001b[1;32m    344\u001b[0m                     \u001b[0;31m# Propose\u001b[0m\u001b[0;34m\u001b[0m\u001b[0;34m\u001b[0m\u001b[0;34m\u001b[0m\u001b[0m\n\u001b[0;32m--> 345\u001b[0;31m                     \u001b[0mstate\u001b[0m\u001b[0;34m,\u001b[0m \u001b[0maccepted\u001b[0m \u001b[0;34m=\u001b[0m \u001b[0mmove\u001b[0m\u001b[0;34m.\u001b[0m\u001b[0mpropose\u001b[0m\u001b[0;34m(\u001b[0m\u001b[0mmodel\u001b[0m\u001b[0;34m,\u001b[0m \u001b[0mstate\u001b[0m\u001b[0;34m)\u001b[0m\u001b[0;34m\u001b[0m\u001b[0;34m\u001b[0m\u001b[0m\n\u001b[0m\u001b[1;32m    346\u001b[0m                     \u001b[0mstate\u001b[0m\u001b[0;34m.\u001b[0m\u001b[0mrandom_state\u001b[0m \u001b[0;34m=\u001b[0m \u001b[0mself\u001b[0m\u001b[0;34m.\u001b[0m\u001b[0mrandom_state\u001b[0m\u001b[0;34m\u001b[0m\u001b[0;34m\u001b[0m\u001b[0m\n\u001b[1;32m    347\u001b[0m \u001b[0;34m\u001b[0m\u001b[0m\n",
      "\u001b[0;32m~/anaconda3/envs/pymc3/lib/python3.6/site-packages/emcee/moves/red_blue.py\u001b[0m in \u001b[0;36mpropose\u001b[0;34m(self, model, state)\u001b[0m\n\u001b[1;32m     90\u001b[0m \u001b[0;34m\u001b[0m\u001b[0m\n\u001b[1;32m     91\u001b[0m             \u001b[0;31m# Compute the lnprobs of the proposed position.\u001b[0m\u001b[0;34m\u001b[0m\u001b[0;34m\u001b[0m\u001b[0;34m\u001b[0m\u001b[0m\n\u001b[0;32m---> 92\u001b[0;31m             \u001b[0mnew_log_probs\u001b[0m\u001b[0;34m,\u001b[0m \u001b[0mnew_blobs\u001b[0m \u001b[0;34m=\u001b[0m \u001b[0mmodel\u001b[0m\u001b[0;34m.\u001b[0m\u001b[0mcompute_log_prob_fn\u001b[0m\u001b[0;34m(\u001b[0m\u001b[0mq\u001b[0m\u001b[0;34m)\u001b[0m\u001b[0;34m\u001b[0m\u001b[0;34m\u001b[0m\u001b[0m\n\u001b[0m\u001b[1;32m     93\u001b[0m \u001b[0;34m\u001b[0m\u001b[0m\n\u001b[1;32m     94\u001b[0m             \u001b[0;31m# Loop over the walkers and update them accordingly.\u001b[0m\u001b[0;34m\u001b[0m\u001b[0;34m\u001b[0m\u001b[0;34m\u001b[0m\u001b[0m\n",
      "\u001b[0;32m~/anaconda3/envs/pymc3/lib/python3.6/site-packages/emcee/ensemble.py\u001b[0m in \u001b[0;36mcompute_log_prob\u001b[0;34m(self, coords)\u001b[0m\n\u001b[1;32m    427\u001b[0m                 \u001b[0mmap_func\u001b[0m \u001b[0;34m=\u001b[0m \u001b[0mmap\u001b[0m\u001b[0;34m\u001b[0m\u001b[0;34m\u001b[0m\u001b[0m\n\u001b[1;32m    428\u001b[0m             results = list(\n\u001b[0;32m--> 429\u001b[0;31m                 \u001b[0mmap_func\u001b[0m\u001b[0;34m(\u001b[0m\u001b[0mself\u001b[0m\u001b[0;34m.\u001b[0m\u001b[0mlog_prob_fn\u001b[0m\u001b[0;34m,\u001b[0m \u001b[0;34m(\u001b[0m\u001b[0mp\u001b[0m\u001b[0;34m[\u001b[0m\u001b[0mi\u001b[0m\u001b[0;34m]\u001b[0m \u001b[0;32mfor\u001b[0m \u001b[0mi\u001b[0m \u001b[0;32min\u001b[0m \u001b[0mrange\u001b[0m\u001b[0;34m(\u001b[0m\u001b[0mlen\u001b[0m\u001b[0;34m(\u001b[0m\u001b[0mp\u001b[0m\u001b[0;34m)\u001b[0m\u001b[0;34m)\u001b[0m\u001b[0;34m)\u001b[0m\u001b[0;34m)\u001b[0m\u001b[0;34m\u001b[0m\u001b[0;34m\u001b[0m\u001b[0m\n\u001b[0m\u001b[1;32m    430\u001b[0m             )\n\u001b[1;32m    431\u001b[0m \u001b[0;34m\u001b[0m\u001b[0m\n",
      "\u001b[0;32m~/anaconda3/envs/pymc3/lib/python3.6/site-packages/emcee/ensemble.py\u001b[0m in \u001b[0;36m__call__\u001b[0;34m(self, x)\u001b[0m\n\u001b[1;32m    544\u001b[0m     \u001b[0;32mdef\u001b[0m \u001b[0m__call__\u001b[0m\u001b[0;34m(\u001b[0m\u001b[0mself\u001b[0m\u001b[0;34m,\u001b[0m \u001b[0mx\u001b[0m\u001b[0;34m)\u001b[0m\u001b[0;34m:\u001b[0m\u001b[0;34m\u001b[0m\u001b[0;34m\u001b[0m\u001b[0m\n\u001b[1;32m    545\u001b[0m         \u001b[0;32mtry\u001b[0m\u001b[0;34m:\u001b[0m\u001b[0;34m\u001b[0m\u001b[0;34m\u001b[0m\u001b[0m\n\u001b[0;32m--> 546\u001b[0;31m             \u001b[0;32mreturn\u001b[0m \u001b[0mself\u001b[0m\u001b[0;34m.\u001b[0m\u001b[0mf\u001b[0m\u001b[0;34m(\u001b[0m\u001b[0mx\u001b[0m\u001b[0;34m,\u001b[0m \u001b[0;34m*\u001b[0m\u001b[0mself\u001b[0m\u001b[0;34m.\u001b[0m\u001b[0margs\u001b[0m\u001b[0;34m,\u001b[0m \u001b[0;34m**\u001b[0m\u001b[0mself\u001b[0m\u001b[0;34m.\u001b[0m\u001b[0mkwargs\u001b[0m\u001b[0;34m)\u001b[0m\u001b[0;34m\u001b[0m\u001b[0;34m\u001b[0m\u001b[0m\n\u001b[0m\u001b[1;32m    547\u001b[0m         \u001b[0;32mexcept\u001b[0m\u001b[0;34m:\u001b[0m  \u001b[0;31m# pragma: no cover\u001b[0m\u001b[0;34m\u001b[0m\u001b[0;34m\u001b[0m\u001b[0m\n\u001b[1;32m    548\u001b[0m             \u001b[0;32mimport\u001b[0m \u001b[0mtraceback\u001b[0m\u001b[0;34m\u001b[0m\u001b[0;34m\u001b[0m\u001b[0m\n",
      "\u001b[0;32m~/anaconda3/envs/pymc3/lib/python3.6/site-packages/lmfit/minimizer.py\u001b[0m in \u001b[0;36m_lnpost\u001b[0;34m(theta, userfcn, params, var_names, bounds, userargs, userkws, float_behavior, is_weighted, nan_policy)\u001b[0m\n\u001b[1;32m   2204\u001b[0m \u001b[0;34m\u001b[0m\u001b[0m\n\u001b[1;32m   2205\u001b[0m     \u001b[0;31m# now calculate the log-likelihood\u001b[0m\u001b[0;34m\u001b[0m\u001b[0;34m\u001b[0m\u001b[0;34m\u001b[0m\u001b[0m\n\u001b[0;32m-> 2206\u001b[0;31m     \u001b[0mout\u001b[0m \u001b[0;34m=\u001b[0m \u001b[0muserfcn\u001b[0m\u001b[0;34m(\u001b[0m\u001b[0mparams\u001b[0m\u001b[0;34m,\u001b[0m \u001b[0;34m*\u001b[0m\u001b[0muserargs\u001b[0m\u001b[0;34m,\u001b[0m \u001b[0;34m**\u001b[0m\u001b[0muserkwargs\u001b[0m\u001b[0;34m)\u001b[0m\u001b[0;34m\u001b[0m\u001b[0;34m\u001b[0m\u001b[0m\n\u001b[0m\u001b[1;32m   2207\u001b[0m     \u001b[0mout\u001b[0m \u001b[0;34m=\u001b[0m \u001b[0m_nan_policy\u001b[0m\u001b[0;34m(\u001b[0m\u001b[0mout\u001b[0m\u001b[0;34m,\u001b[0m \u001b[0mnan_policy\u001b[0m\u001b[0;34m=\u001b[0m\u001b[0mnan_policy\u001b[0m\u001b[0;34m,\u001b[0m \u001b[0mhandle_inf\u001b[0m\u001b[0;34m=\u001b[0m\u001b[0;32mFalse\u001b[0m\u001b[0;34m)\u001b[0m\u001b[0;34m\u001b[0m\u001b[0;34m\u001b[0m\u001b[0m\n\u001b[1;32m   2208\u001b[0m \u001b[0;34m\u001b[0m\u001b[0m\n",
      "\u001b[0;32m<ipython-input-37-4b8f99ebf2e4>\u001b[0m in \u001b[0;36mresidual\u001b[0;34m(pars, x, data, eps)\u001b[0m\n\u001b[1;32m     24\u001b[0m     \u001b[0mD\u001b[0m \u001b[0;34m=\u001b[0m \u001b[0mparvals\u001b[0m\u001b[0;34m[\u001b[0m\u001b[0;34m'D'\u001b[0m\u001b[0;34m]\u001b[0m\u001b[0;34m\u001b[0m\u001b[0;34m\u001b[0m\u001b[0m\n\u001b[1;32m     25\u001b[0m \u001b[0;34m\u001b[0m\u001b[0m\n\u001b[0;32m---> 26\u001b[0;31m     \u001b[0mann\u001b[0m \u001b[0;34m=\u001b[0m \u001b[0mnp\u001b[0m\u001b[0;34m.\u001b[0m\u001b[0mabsolute\u001b[0m\u001b[0;34m(\u001b[0m\u001b[0man\u001b[0m\u001b[0;34m)\u001b[0m\u001b[0;34m**\u001b[0m\u001b[0;36m2\u001b[0m\u001b[0;34m*\u001b[0m\u001b[0mnp\u001b[0m\u001b[0;34m.\u001b[0m\u001b[0mexp\u001b[0m\u001b[0;34m(\u001b[0m\u001b[0;34m-\u001b[0m\u001b[0mD\u001b[0m\u001b[0;34m*\u001b[0m\u001b[0mnn\u001b[0m\u001b[0;34m**\u001b[0m\u001b[0;36m2\u001b[0m\u001b[0;34m*\u001b[0m\u001b[0mnp\u001b[0m\u001b[0;34m.\u001b[0m\u001b[0mpi\u001b[0m\u001b[0;34m**\u001b[0m\u001b[0;36m2\u001b[0m\u001b[0;34m*\u001b[0m\u001b[0mtt\u001b[0m\u001b[0;34m/\u001b[0m\u001b[0mL\u001b[0m\u001b[0;34m**\u001b[0m\u001b[0;36m2\u001b[0m\u001b[0;34m)\u001b[0m\u001b[0;34m\u001b[0m\u001b[0;34m\u001b[0m\u001b[0m\n\u001b[0m\u001b[1;32m     27\u001b[0m     \u001b[0mmodel\u001b[0m \u001b[0;34m=\u001b[0m \u001b[0mnp\u001b[0m\u001b[0;34m.\u001b[0m\u001b[0msum\u001b[0m\u001b[0;34m(\u001b[0m\u001b[0mann\u001b[0m\u001b[0;34m,\u001b[0m\u001b[0maxis\u001b[0m\u001b[0;34m=\u001b[0m\u001b[0;36m1\u001b[0m\u001b[0;34m)\u001b[0m\u001b[0;34m/\u001b[0m\u001b[0mN\u001b[0m\u001b[0;34m/\u001b[0m\u001b[0;36m2\u001b[0m\u001b[0;34m\u001b[0m\u001b[0;34m\u001b[0m\u001b[0m\n\u001b[1;32m     28\u001b[0m \u001b[0;34m\u001b[0m\u001b[0m\n",
      "\u001b[0;31mKeyboardInterrupt\u001b[0m: "
     ]
    }
   ],
   "source": [
    "N_list2=[]\n",
    "D_list2=[]\n",
    "dN_list2=[]\n",
    "dD_list2=[]\n",
    "\n",
    "NS_list2=[]\n",
    "DS_list2=[]\n",
    "dNS_list2=[]\n",
    "dDS_list2=[]\n",
    "\n",
    "w0 = 1.0\n",
    "L = 10.0\n",
    "nmax = 5\n",
    "n = np.arange(1,nmax)\n",
    "nn,tt = np.meshgrid(n,t)\n",
    "    \n",
    "efa = nn*np.pi*w0**2*1j\n",
    "an = np.exp(-nn**2*np.pi**2*w0**2/2/L**2)*(sf.erf((L**2-efa)/np.sqrt(2)/L/w0)+sf.erf((L**2+efa)/np.sqrt(2)/L/w0))\n",
    "\n",
    "def residual(pars, x, data=None, eps=None):\n",
    "    # unpack parameters: extract .value attribute for each parameter\n",
    "    parvals = pars.valuesdict()\n",
    "    N = parvals['N']\n",
    "    D = parvals['D']\n",
    "\n",
    "    ann = np.absolute(an)**2*np.exp(-D*nn**2*np.pi**2*tt/L**2)\n",
    "    model = np.sum(ann,axis=1)/N/2\n",
    "\n",
    "    if data is None:\n",
    "        return model\n",
    "    if eps is None:\n",
    "        return model - data\n",
    "    return (model-data) / eps\n",
    "\n",
    "for y in acf_all:\n",
    "    pars = lm.Parameters()\n",
    "    pars.add_many(('D', 1), ('N', 20))\n",
    "\n",
    "    result = lm.minimize(residual, pars,kws = {'x':t,'data':y,'eps':acf_std})\n",
    "    result.params.add('__lnsigma', value=np.log(100), min=np.log(0.01), max=np.log(20000))\n",
    "    res = lm.minimize(residual, kws = {'x':t,'data':y,'eps':acf_std},method='emcee', nan_policy='omit', burn=300, steps=1000, thin=20,\n",
    "                     params=result.params,is_weighted=False)\n",
    "\n",
    "    print(lm.fit_report(result.params))\n",
    "    N_list2.append(result.params.valuesdict()['N'])\n",
    "    D_list2.append(result.params.valuesdict()['D'])\n",
    "    dD_list2.append(np.sqrt(result.covar[0,0]))\n",
    "    dN_list2.append(np.sqrt(result.covar[1,1]))\n",
    "    print(N_list2[-1],D_list2[-1],dN_list2[-1],dD_list2[-1])\n",
    "\n",
    "    NS_list2.append(res.flatchain['N'].mean())\n",
    "    DS_list2.append(res.flatchain['D'].mean())\n",
    "    dNS_list2.append(res.flatchain['N'].std())\n",
    "    dDS_list2.append(res.flatchain['D'].std())\n",
    "    print(NS_list2[-1],DS_list2[-1],dNS_list2[-1],dDS_list2[-1])\n",
    "    \n",
    "\n"
   ]
  },
  {
   "cell_type": "code",
   "execution_count": 15,
   "metadata": {},
   "outputs": [],
   "source": [
    "N_list2 = np.array(N_list2)\n",
    "D_list2 = np.array(D_list2)\n",
    "dN_list2 = np.array(dN_list2)\n",
    "dD_list2 = np.array(dD_list2)\n",
    "NS_list2 = np.array(NS_list2)\n",
    "DS_list2 = np.array(DS_list2)\n",
    "dNS_list2 = np.array(dNS_list2)\n",
    "dDS_list2 = np.array(dDS_list2)"
   ]
  },
  {
   "cell_type": "code",
   "execution_count": 16,
   "metadata": {},
   "outputs": [
    {
     "data": {
      "image/png": "[encoded data removed]",
      "text/plain": [
       "<Figure size 432x288 with 1 Axes>"
      ]
     },
     "metadata": {
      "needs_background": "light"
     },
     "output_type": "display_data"
    }
   ],
   "source": [
    "_=plt.hist(N_list2,density=True,bins=50)\n",
    "_=plt.hist(NS_list2,density=True,bins=50)"
   ]
  },
  {
   "cell_type": "code",
   "execution_count": 17,
   "metadata": {},
   "outputs": [
    {
     "data": {
      "image/png": "[encoded data removed]",
      "text/plain": [
       "<Figure size 432x288 with 1 Axes>"
      ]
     },
     "metadata": {
      "needs_background": "light"
     },
     "output_type": "display_data"
    }
   ],
   "source": [
    "_=plt.hist(D_list2,density=True,bins=50)\n",
    "_=plt.hist(DS_list2,density=True,bins=50)"
   ]
  },
  {
   "cell_type": "code",
   "execution_count": 31,
   "metadata": {},
   "outputs": [],
   "source": [
    "def reject_outliers(data, m=2):\n",
    "    return data[abs(data - np.mean(data)) < m * np.std(data)]\n",
    "dNS_list2_no_ol = reject_outliers(dNS_list2,m=3)"
   ]
  },
  {
   "cell_type": "code",
   "execution_count": 32,
   "metadata": {},
   "outputs": [
    {
     "data": {
      "text/plain": [
       "<matplotlib.legend.Legend at 0x7fec117cc518>"
      ]
     },
     "execution_count": 32,
     "metadata": {},
     "output_type": "execute_result"
    },
    {
     "data": {
      "image/png": "[encoded data removed]",
      "text/plain": [
       "<Figure size 432x288 with 1 Axes>"
      ]
     },
     "metadata": {
      "needs_background": "light"
     },
     "output_type": "display_data"
    }
   ],
   "source": [
    "_=plt.hist(dN_list2,density=True,bins=50,label=\"dN\")\n",
    "_=plt.hist(dNS_list2_no_ol,density=True,bins=50,label=\"dN MCMC\")\n",
    "plt.xlim((0,0.5))\n",
    "plt.legend()"
   ]
  },
  {
   "cell_type": "code",
   "execution_count": 33,
   "metadata": {},
   "outputs": [
    {
     "data": {
      "text/plain": [
       "<matplotlib.legend.Legend at 0x7fec117cfcf8>"
      ]
     },
     "execution_count": 33,
     "metadata": {},
     "output_type": "execute_result"
    },
    {
     "data": {
      "image/png": "[encoded data removed]",
      "text/plain": [
       "<Figure size 432x288 with 1 Axes>"
      ]
     },
     "metadata": {
      "needs_background": "light"
     },
     "output_type": "display_data"
    }
   ],
   "source": [
    "dDS_list2_no_ol = reject_outliers(dDS_list2,m=3)\n",
    "_=plt.hist(dD_list2,density=True,bins=50,label=\"dD\")\n",
    "_=plt.hist(dDS_list2_no_ol,density=True,bins=50,label=\"dD MCMC\")\n",
    "plt.xlim((0,0.05))\n",
    "plt.legend()"
   ]
  },
  {
   "cell_type": "code",
   "execution_count": 20,
   "metadata": {},
   "outputs": [
    {
     "data": {
      "text/plain": [
       "[<matplotlib.lines.Line2D at 0x7fec39f35320>]"
      ]
     },
     "execution_count": 20,
     "metadata": {},
     "output_type": "execute_result"
    },
    {
     "data": {
      "image/png": "[encoded data removed]",
      "text/plain": [
       "<Figure size 432x288 with 1 Axes>"
      ]
     },
     "metadata": {
      "needs_background": "light"
     },
     "output_type": "display_data"
    }
   ],
   "source": [
    "plt.semilogx(t,y,\"o\")\n",
    "plt.semilogx(t,residual(result.params,t))"
   ]
  },
  {
   "cell_type": "code",
   "execution_count": 21,
   "metadata": {},
   "outputs": [
    {
     "name": "stdout",
     "output_type": "stream",
     "text": [
      "median of posterior probability distribution\n",
      "--------------------------------------------\n",
      "[[Variables]]\n",
      "    D:          0.98743431 +/- 0.01247782 (1.26%) (init = 0.9874135)\n",
      "    N:          17.3260106 +/- 0.17067957 (0.99%) (init = 17.31784)\n",
      "    __lnsigma:  0.18428463 +/- 0.02212032 (12.00%) (init = -2.302585)\n",
      "[[Correlations]] (unreported correlations are < 0.100)\n",
      "    C(D, N) = -0.758\n"
     ]
    }
   ],
   "source": [
    "print(\"median of posterior probability distribution\")\n",
    "print('--------------------------------------------')\n",
    "lm.report_fit(res.params)"
   ]
  },
  {
   "cell_type": "code",
   "execution_count": null,
   "metadata": {},
   "outputs": [],
   "source": []
  },
  {
   "cell_type": "code",
   "execution_count": null,
   "metadata": {},
   "outputs": [],
   "source": []
  }
 ],
 "metadata": {
  "anaconda-cloud": {},
  "kernelspec": {
   "display_name": "Python 3",
   "language": "python",
   "name": "python3"
  },
  "language_info": {
   "codemirror_mode": {
    "name": "ipython",
    "version": 3
   },
   "file_extension": ".py",
   "mimetype": "text/x-python",
   "name": "python",
   "nbconvert_exporter": "python",
   "pygments_lexer": "ipython3",
   "version": "3.6.9"
  }
 },
 "nbformat": 4,
 "nbformat_minor": 1
}
