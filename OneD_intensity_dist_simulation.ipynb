{
 "cells": [
  {
   "cell_type": "code",
   "execution_count": 1,
   "metadata": {},
   "outputs": [],
   "source": [
    "%matplotlib inline\n",
    "import numpy as np\n",
    "import matplotlib.pyplot as plt\n",
    "import lmfit as lm\n",
    "import scipy.special as sf\n",
    "from scipy.stats import norm"
   ]
  },
  {
   "cell_type": "code",
   "execution_count": 13,
   "metadata": {},
   "outputs": [
    {
     "name": "stdout",
     "output_type": "stream",
     "text": [
      "[0.00000000e+000 0.00000000e+000 0.00000000e+000 0.00000000e+000\n",
      " 8.65603012e-321 4.02924190e-314 1.59523037e-307 5.37324006e-301\n",
      " 1.53979123e-294 3.75405133e-288 7.78666223e-282 1.37409016e-275\n",
      " 2.06296515e-269 2.63500423e-263 2.86340980e-257 2.64727136e-251\n",
      " 2.08221793e-245 1.39337068e-239 7.93267972e-234 3.84225281e-228\n",
      " 1.58330549e-222 5.55080876e-217 1.65561967e-211 4.20124158e-206\n",
      " 9.07000439e-201 1.66590451e-195 2.60318767e-190 3.46077701e-185\n",
      " 3.91430372e-180 3.76658861e-175 3.08357576e-170 2.14770101e-165\n",
      " 1.27264064e-160 6.41579555e-156 2.75174389e-151 1.00410302e-146\n",
      " 3.11717580e-142 8.23298051e-138 1.84997408e-133 3.53660832e-129\n",
      " 5.75202878e-125 7.95917222e-121 9.36973954e-117 9.38425716e-113\n",
      " 7.99622577e-109 5.79672850e-105 3.57514481e-101 1.87593195e-097\n",
      " 8.37439205e-094 3.18055026e-090 1.02769443e-086 2.82513044e-083\n",
      " 6.60732659e-080 1.31469741e-076 2.22555641e-073 3.20526670e-070\n",
      " 3.92737618e-067 4.09405429e-064 3.63092650e-061 2.73964369e-058\n",
      " 1.75866643e-055 9.60474038e-053 4.46272937e-050 1.76412046e-047\n",
      " 5.93292270e-045 1.69754739e-042 4.13226237e-040 8.55788875e-038\n",
      " 1.50785003e-035 2.26028096e-033 2.88256740e-031 3.12758613e-029\n",
      " 2.88703369e-027 2.26729062e-025 1.51486976e-023 8.61105106e-022\n",
      " 4.16437469e-020 1.71338988e-018 5.99757052e-017 1.78610626e-015\n",
      " 4.52534807e-014 9.75459965e-013 1.78887369e-011 2.79101819e-010\n",
      " 3.70474587e-009 4.18376175e-008 4.01964992e-007 3.28565745e-006\n",
      " 2.28491001e-005 1.35185055e-004 6.80457540e-004 2.91397716e-003\n",
      " 1.06165650e-002 3.29074830e-002 8.67796859e-002 1.94694753e-001\n",
      " 3.71623515e-001 6.03482793e-001 8.33756746e-001 9.80001173e-001\n",
      " 9.80001173e-001 8.33756746e-001 6.03482793e-001 3.71623515e-001\n",
      " 1.94694753e-001 8.67796859e-002 3.29074830e-002 1.06165650e-002\n",
      " 2.91397716e-003 6.80457540e-004 1.35185055e-004 2.28491001e-005\n",
      " 3.28565745e-006 4.01964992e-007 4.18376175e-008 3.70474587e-009\n",
      " 2.79101819e-010 1.78887369e-011 9.75459965e-013 4.52534807e-014\n",
      " 1.78610626e-015 5.99757052e-017 1.71338988e-018 4.16437469e-020\n",
      " 8.61105106e-022 1.51486976e-023 2.26729062e-025 2.88703369e-027\n",
      " 3.12758613e-029 2.88256740e-031 2.26028096e-033 1.50785003e-035\n",
      " 8.55788875e-038 4.13226237e-040 1.69754739e-042 5.93292270e-045\n",
      " 1.76412046e-047 4.46272937e-050 9.60474038e-053 1.75866643e-055\n",
      " 2.73964369e-058 3.63092650e-061 4.09405429e-064 3.92737618e-067\n",
      " 3.20526670e-070 2.22555641e-073 1.31469741e-076 6.60732659e-080\n",
      " 2.82513044e-083 1.02769443e-086 3.18055026e-090 8.37439205e-094\n",
      " 1.87593195e-097 3.57514481e-101 5.79672850e-105 7.99622577e-109\n",
      " 9.38425716e-113 9.36973954e-117 7.95917222e-121 5.75202878e-125\n",
      " 3.53660832e-129 1.84997408e-133 8.23298051e-138 3.11717580e-142\n",
      " 1.00410302e-146 2.75174389e-151 6.41579555e-156 1.27264064e-160\n",
      " 2.14770101e-165 3.08357576e-170 3.76658861e-175 3.91430372e-180\n",
      " 3.46077701e-185 2.60318767e-190 1.66590451e-195 9.07000439e-201\n",
      " 4.20124158e-206 1.65561967e-211 5.55080876e-217 1.58330549e-222\n",
      " 3.84225281e-228 7.93267972e-234 1.39337068e-239 2.08221793e-245\n",
      " 2.64727136e-251 2.86340980e-257 2.63500423e-263 2.06296515e-269\n",
      " 1.37409016e-275 7.78666223e-282 3.75405133e-288 1.53979123e-294\n",
      " 5.37324006e-301 1.59523037e-307 4.02924190e-314 8.65603012e-321\n",
      " 0.00000000e+000 0.00000000e+000 0.00000000e+000 0.00000000e+000]\n",
      "-19.798994974874372 19.798994974874375\n"
     ]
    }
   ],
   "source": [
    "# the plan is to simulate intensity distribution by using a Poisson distribution\n",
    "# over a small area.  The first thing that we have to figure out is over which length\n",
    "# a normal distribution will be non-zero given double resolution\n",
    "w = 1 # is the way the Gaussian width is defined in optics\n",
    "sigma = w/2\n",
    "ep = 1.0\n",
    "x = np.linspace(-20,20,200)\n",
    "intensity = ep*sigma*np.sqrt(2*np.pi)*norm.pdf(x, loc=0,scale=sigma)\n",
    "print(intensity)\n",
    "print(x[1],x[-2])"
   ]
  },
  {
   "cell_type": "code",
   "execution_count": 10,
   "metadata": {},
   "outputs": [
    {
     "name": "stdout",
     "output_type": "stream",
     "text": [
      "39.59798994974875\n"
     ]
    }
   ],
   "source": [
    "# set limits and define the length of the box\n",
    "xlim1 = x[1]\n",
    "xlim2 = x[-2]\n",
    "L = xlim2-xlim1\n",
    "print(L)"
   ]
  },
  {
   "cell_type": "code",
   "execution_count": 69,
   "metadata": {},
   "outputs": [
    {
     "name": "stdout",
     "output_type": "stream",
     "text": [
      "157.97312409865782\n"
     ]
    }
   ],
   "source": [
    "# we want a certain number of particles per length\n",
    "# for a particular w which represents an effective size of sqrt(pi)/2*w\n",
    "N_avg = 5\n",
    "N_avg_L = N_avg*L/np.sqrt(np.pi)*np.sqrt(2)/w\n",
    "print(N_avg_L)"
   ]
  },
  {
   "cell_type": "code",
   "execution_count": 71,
   "metadata": {},
   "outputs": [],
   "source": [
    "N_samples = 1000000\n",
    "N_draws = np.random.poisson(N_avg_L,N_samples)\n",
    "int_list = [np.sum(ep*sigma*np.sqrt(2*np.pi)*\n",
    "                   norm.pdf(xlim1 + L*np.random.random(n), loc=0,scale=sigma))\n",
    "                  for n in N_draws]\n",
    "int_list = np.array(int_list)"
   ]
  },
  {
   "cell_type": "code",
   "execution_count": 74,
   "metadata": {},
   "outputs": [
    {
     "data": {
      "text/plain": [
       "(0, 15)"
      ]
     },
     "execution_count": 74,
     "metadata": {},
     "output_type": "execute_result"
    },
    {
     "data": {
      "image/png": "[encoded data removed]",
      "text/plain": [
       "<Figure size 432x288 with 1 Axes>"
      ]
     },
     "metadata": {
      "needs_background": "light"
     },
     "output_type": "display_data"
    }
   ],
   "source": [
    "_ = plt.hist(int_list,bins=500,density=True)\n",
    "#plt.ylim((0,1))\n",
    "plt.xlim((0,15))"
   ]
  },
  {
   "cell_type": "code",
   "execution_count": 73,
   "metadata": {},
   "outputs": [
    {
     "data": {
      "text/plain": [
       "4.999170387817737"
      ]
     },
     "execution_count": 73,
     "metadata": {},
     "output_type": "execute_result"
    }
   ],
   "source": [
    "int_list.mean()"
   ]
  },
  {
   "cell_type": "code",
   "execution_count": null,
   "metadata": {},
   "outputs": [],
   "source": []
  }
 ],
 "metadata": {
  "kernelspec": {
   "display_name": "Python 3",
   "language": "python",
   "name": "python3"
  },
  "language_info": {
   "codemirror_mode": {
    "name": "ipython",
    "version": 3
   },
   "file_extension": ".py",
   "mimetype": "text/x-python",
   "name": "python",
   "nbconvert_exporter": "python",
   "pygments_lexer": "ipython3",
   "version": "3.6.8"
  }
 },
 "nbformat": 4,
 "nbformat_minor": 2
}
