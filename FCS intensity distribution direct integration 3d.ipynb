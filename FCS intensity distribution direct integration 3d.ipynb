{
 "cells": [
  {
   "cell_type": "code",
   "execution_count": 51,
   "metadata": {},
   "outputs": [],
   "source": [
    "%matplotlib inline\n",
    "import numpy as np\n",
    "import pandas as pd\n",
    "import matplotlib.pyplot as plt\n",
    "from scipy.integrate import quad,trapz"
   ]
  },
  {
   "cell_type": "code",
   "execution_count": 52,
   "metadata": {},
   "outputs": [],
   "source": [
    "# these two function determine the intensity probability function\n",
    "def theta(y,k,phi0):\n",
    "    return (np.cos(y*k*phi0)-1)*np.sqrt(-np.log(y))/y\n",
    "def omega(y,k,phi0):\n",
    "    return np.sin(y*k*phi0)*np.sqrt(-np.log(y))/y"
   ]
  },
  {
   "cell_type": "code",
   "execution_count": 53,
   "metadata": {},
   "outputs": [],
   "source": [
    "phi_limit = 15\n",
    "steps = 201\n",
    "phi = np.linspace(0,phi_limit,steps)\n",
    "d = phi_limit/steps"
   ]
  },
  {
   "cell_type": "code",
   "execution_count": 54,
   "metadata": {},
   "outputs": [],
   "source": [
    "def theta_int(k,phi0):\n",
    "    if hasattr(k,'__iter__'):\n",
    "        return np.array([quad(theta,0,1,args=(kk,phi0))[0] for kk in k])\n",
    "    else:\n",
    "        return quad(theta,0,1,args=(k,phi0))[0]\n",
    "\n",
    "def omega_int(k,phi0):\n",
    "    if hasattr(k,'__iter__'):\n",
    "        return np.array([quad(omega,0,1,args=(kk,phi0))[0] for kk in k])\n",
    "    else:\n",
    "        return quad(omega,0,1,args=(k,phi0))[0]        "
   ]
  },
  {
   "cell_type": "code",
   "execution_count": 55,
   "metadata": {},
   "outputs": [],
   "source": [
    "def p_phi(k,phi,prefactor,phi0):\n",
    "    return np.exp(prefactor*theta_int(k,phi0))*np.cos(k*phi-prefactor*omega_int(k,phi0))"
   ]
  },
  {
   "cell_type": "code",
   "execution_count": 56,
   "metadata": {},
   "outputs": [],
   "source": [
    "prefactor = 4*np.pi/np.sqrt(2)\n",
    "phi0=1.0\n",
    "p_of_phi = np.array([quad(p_phi,0,20,args=(p,prefactor,phi0))[0] for p in phi])"
   ]
  },
  {
   "cell_type": "code",
   "execution_count": 57,
   "metadata": {},
   "outputs": [
    {
     "data": {
      "text/plain": [
       "[<matplotlib.lines.Line2D at 0x151fe47ba8>]"
      ]
     },
     "execution_count": 57,
     "metadata": {},
     "output_type": "execute_result"
    },
    {
     "data": {
      "image/png": "[encoded data removed]",
      "text/plain": [
       "<Figure size 432x288 with 1 Axes>"
      ]
     },
     "metadata": {
      "needs_background": "light"
     },
     "output_type": "display_data"
    }
   ],
   "source": [
    "plt.plot(phi,p_of_phi)"
   ]
  },
  {
   "cell_type": "code",
   "execution_count": 58,
   "metadata": {},
   "outputs": [
    {
     "name": "stdout",
     "output_type": "stream",
     "text": [
      "0.9948866301193511\n"
     ]
    }
   ],
   "source": [
    "# normalization\n",
    "print(trapz(p_of_phi,dx=d)/np.pi)"
   ]
  },
  {
   "cell_type": "code",
   "execution_count": 59,
   "metadata": {},
   "outputs": [
    {
     "name": "stdout",
     "output_type": "stream",
     "text": [
      "7.833474834650989\n"
     ]
    }
   ],
   "source": [
    "# first moment it should be (pi/2)^3/2 = 1.9687\n",
    "print(trapz(p_of_phi*phi,dx=d)/np.pi)"
   ]
  },
  {
   "cell_type": "code",
   "execution_count": 60,
   "metadata": {},
   "outputs": [
    {
     "name": "stdout",
     "output_type": "stream",
     "text": [
      "64.44080460947681\n"
     ]
    }
   ],
   "source": [
    "# second moment it should be (pi/2)^3/2 = 1.9687\n",
    "print(trapz(p_of_phi*phi**2,dx=d)/np.pi)"
   ]
  },
  {
   "cell_type": "code",
   "execution_count": null,
   "metadata": {},
   "outputs": [],
   "source": []
  }
 ],
 "metadata": {
  "kernelspec": {
   "display_name": "Python 3",
   "language": "python",
   "name": "python3"
  },
  "language_info": {
   "codemirror_mode": {
    "name": "ipython",
    "version": 3
   },
   "file_extension": ".py",
   "mimetype": "text/x-python",
   "name": "python",
   "nbconvert_exporter": "python",
   "pygments_lexer": "ipython3",
   "version": "3.6.6"
  }
 },
 "nbformat": 4,
 "nbformat_minor": 2
}
