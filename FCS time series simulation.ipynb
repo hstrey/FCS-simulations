{
 "cells": [
  {
   "cell_type": "code",
   "execution_count": 2,
   "metadata": {
    "collapsed": true
   },
   "outputs": [],
   "source": [
    "%matplotlib inline\n",
    "import numpy as np\n",
    "import matplotlib.pyplot as plt\n",
    "import lmfit as lm\n",
    "import scipy.special as sf"
   ]
  },
  {
   "cell_type": "code",
   "execution_count": 3,
   "metadata": {},
   "outputs": [
    {
     "name": "stdout",
     "output_type": "stream",
     "text": [
      "3394  particles needed for T= 10000.0\n"
     ]
    }
   ],
   "source": [
    "dt = 0.1\n",
    "length = 100000\n",
    "T = dt*length\n",
    "D = 1.0\n",
    "density =2\n",
    "sigma = 1\n",
    "# from these parameters we need to calculate over how much space\n",
    "# we need to place particles\n",
    "max_sig = np.sqrt(2*D*T+sigma**2)\n",
    "L = max_sig*6 # six sigma may be enough, it may not - lets see\n",
    "N = int(density*2*L)\n",
    "print(N,' particles needed for T=',T)"
   ]
  },
  {
   "cell_type": "code",
   "execution_count": 4,
   "metadata": {},
   "outputs": [
    {
     "data": {
      "text/plain": [
       "[<matplotlib.lines.Line2D at 0x11a48d9e8>]"
      ]
     },
     "execution_count": 4,
     "metadata": {},
     "output_type": "execute_result"
    },
    {
     "data": {
      "image/png": "[encoded data removed]",
      "text/plain": [
       "<matplotlib.figure.Figure at 0x11a1bfe48>"
      ]
     },
     "metadata": {},
     "output_type": "display_data"
    }
   ],
   "source": [
    "# generate positions for all particles\n",
    "positions=2*L*np.random.random(size=(N,))-L\n",
    "plt.plot(positions)"
   ]
  },
  {
   "cell_type": "code",
   "execution_count": 5,
   "metadata": {
    "collapsed": true
   },
   "outputs": [],
   "source": [
    "I = []\n",
    "for i in range(length):\n",
    "    intensities = (2*D*i*dt+sigma**2)/np.sqrt(2*np.pi)*np.exp(-positions**2/(2*(2*D*i*dt+sigma**2)))\n",
    "    I.append(intensities.sum()-(2*D*i*dt+sigma**2)*np.sqrt(2*np.pi)*density)\n",
    "I=np.array(I)"
   ]
  },
  {
   "cell_type": "code",
   "execution_count": 6,
   "metadata": {},
   "outputs": [
    {
     "data": {
      "text/plain": [
       "[<matplotlib.lines.Line2D at 0x11acb4d30>]"
      ]
     },
     "execution_count": 6,
     "metadata": {},
     "output_type": "execute_result"
    },
    {
     "data": {
      "image/png": "[encoded data removed]",
      "text/plain": [
       "<matplotlib.figure.Figure at 0x11a4e3d30>"
      ]
     },
     "metadata": {},
     "output_type": "display_data"
    }
   ],
   "source": [
    "plt.semilogy(I)"
   ]
  },
  {
   "cell_type": "code",
   "execution_count": 7,
   "metadata": {},
   "outputs": [
    {
     "ename": "NameError",
     "evalue": "name 'x' is not defined",
     "output_type": "error",
     "traceback": [
      "\u001b[0;31m---------------------------------------------------------------------------\u001b[0m",
      "\u001b[0;31mNameError\u001b[0m                                 Traceback (most recent call last)",
      "\u001b[0;32m<ipython-input-7-00e0c2479ca4>\u001b[0m in \u001b[0;36m<module>\u001b[0;34m()\u001b[0m\n\u001b[1;32m      1\u001b[0m \u001b[0;31m# calculate paths\u001b[0m\u001b[0;34m\u001b[0m\u001b[0;34m\u001b[0m\u001b[0m\n\u001b[0;32m----> 2\u001b[0;31m \u001b[0mpaths\u001b[0m \u001b[0;34m=\u001b[0m \u001b[0mnp\u001b[0m\u001b[0;34m.\u001b[0m\u001b[0mmod\u001b[0m\u001b[0;34m(\u001b[0m\u001b[0mnp\u001b[0m\u001b[0;34m.\u001b[0m\u001b[0mcumsum\u001b[0m\u001b[0;34m(\u001b[0m\u001b[0mx\u001b[0m\u001b[0;34m,\u001b[0m \u001b[0maxis\u001b[0m\u001b[0;34m=\u001b[0m\u001b[0;36m1\u001b[0m\u001b[0;34m)\u001b[0m\u001b[0;34m,\u001b[0m\u001b[0;36m2\u001b[0m\u001b[0;34m*\u001b[0m\u001b[0mL\u001b[0m\u001b[0;34m)\u001b[0m\u001b[0;34m-\u001b[0m\u001b[0mL\u001b[0m\u001b[0;34m\u001b[0m\u001b[0m\n\u001b[0m",
      "\u001b[0;31mNameError\u001b[0m: name 'x' is not defined"
     ]
    }
   ],
   "source": [
    "# calculate paths\n",
    "paths = np.mod(np.cumsum(x, axis=1),2*L)-L"
   ]
  },
  {
   "cell_type": "code",
   "execution_count": null,
   "metadata": {},
   "outputs": [],
   "source": [
    "for path in paths:\n",
    "    plt.plot(path,\".\")"
   ]
  },
  {
   "cell_type": "code",
   "execution_count": null,
   "metadata": {
    "collapsed": true
   },
   "outputs": [],
   "source": [
    "# place a Gaussian illumination at x=5.5 with unit variance\n",
    "from scipy.stats import norm\n",
    "intensity = norm.pdf(paths, loc=0)\n",
    "#print(intensity)\n",
    "intensity = np.sum(intensity, axis=0)\n",
    "#print(intensity)"
   ]
  },
  {
   "cell_type": "code",
   "execution_count": null,
   "metadata": {},
   "outputs": [],
   "source": [
    "plt.plot(intensity)\n",
    "print(intensity.mean())\n",
    "# what should it be\n",
    "print(N/2/L)"
   ]
  },
  {
   "cell_type": "code",
   "execution_count": null,
   "metadata": {},
   "outputs": [],
   "source": [
    "# calculate autocorrelation function\n",
    "f = np.fft.rfft(intensity)\n",
    "acf = np.fft.irfft(f * np.conjugate(f))\n",
    "acf = np.fft.fftshift(acf) / length\n",
    "autocorr = acf[int(length/2):]/intensity.mean()**2\n",
    "\n",
    "autocorr = autocorr[:1000]-1.0\n",
    "t = np.arange(0,autocorr.size)*dt\n",
    "plt.semilogx(t,autocorr,\"o\")"
   ]
  },
  {
   "cell_type": "code",
   "execution_count": null,
   "metadata": {},
   "outputs": [],
   "source": [
    "print(autocorr[0]/N*L)\n",
    "print(L/autocorr[0]/N)\n",
    "print(autocorr[0]*N/L*2*np.sqrt(np.pi))\n",
    "print(L/autocorr[0]/N/np.sqrt(np.pi))"
   ]
  },
  {
   "cell_type": "code",
   "execution_count": null,
   "metadata": {
    "collapsed": true
   },
   "outputs": [],
   "source": [
    "# this is the model that describes the ideal case if infinite boundary conditions\n",
    "def corrfit(t,N,D,gamma,w0):\n",
    "    return 1/N/(1+(D*t/w0**2))**gamma"
   ]
  },
  {
   "cell_type": "code",
   "execution_count": null,
   "metadata": {
    "collapsed": true
   },
   "outputs": [],
   "source": [
    "# this is the more realistic model with periodic boundary conditions -L,L\n",
    "def corrfitPB(t,N,D,w0,L):\n",
    "    nmax = 20\n",
    "    n = np.arange(1,nmax)\n",
    "    nn,tt = np.meshgrid(n,t)\n",
    "    \n",
    "    efa = nn*np.pi*w0**2*1j\n",
    "    an = np.exp(-nn**2*np.pi**2*w0**2/2/L**2)*(sf.erf((L**2-efa)/np.sqrt(2)/L/w0)+sf.erf((L**2+efa)/np.sqrt(2)/L/w0))\n",
    "    an = np.absolute(an)**2*np.exp(-D*nn**2*np.pi**2*tt/L**2)\n",
    "    return np.sum(an,axis=1)/N/2"
   ]
  },
  {
   "cell_type": "code",
   "execution_count": null,
   "metadata": {
    "collapsed": true
   },
   "outputs": [],
   "source": [
    "corrfitPB_model=lm.Model(corrfitPB)\n",
    "paramsPB = corrfitPB_model.make_params()\n",
    "paramsPB['w0'].set(value=1,vary=False)\n",
    "paramsPB['N'].set(value=20,vary=True)\n",
    "paramsPB['D'].set(value=D,vary=True)\n",
    "paramsPB['L'].set(value=L,vary=False)\n",
    "\n",
    "resultPB = corrfitPB_model.fit(t=t,data=autocorr,params=paramsPB)"
   ]
  },
  {
   "cell_type": "code",
   "execution_count": null,
   "metadata": {},
   "outputs": [],
   "source": [
    "print(resultPB.fit_report())"
   ]
  },
  {
   "cell_type": "code",
   "execution_count": null,
   "metadata": {
    "collapsed": true
   },
   "outputs": [],
   "source": [
    "corrfit_model=lm.Model(corrfit)\n",
    "params = corrfit_model.make_params()\n",
    "params['w0'].set(value=1,vary=False)\n",
    "params['N'].set(value=5,vary=True)\n",
    "params['D'].set(value=1,vary=True)\n",
    "params['gamma'].set(value=0.5,vary=False)\n",
    "\n",
    "result = corrfit_model.fit(t=t,data=autocorr,params=params)"
   ]
  },
  {
   "cell_type": "code",
   "execution_count": null,
   "metadata": {},
   "outputs": [],
   "source": [
    "print(result.fit_report())"
   ]
  },
  {
   "cell_type": "code",
   "execution_count": null,
   "metadata": {},
   "outputs": [],
   "source": [
    "plt.semilogx(t, autocorr,         'bo')\n",
    "plt.semilogx(t, result.init_fit, 'k--')\n",
    "plt.semilogx(t, result.best_fit, 'r-')"
   ]
  },
  {
   "cell_type": "code",
   "execution_count": null,
   "metadata": {},
   "outputs": [],
   "source": [
    "plt.semilogx(t, autocorr,         'bo')\n",
    "plt.semilogx(t, resultPB.init_fit, 'k--')\n",
    "plt.semilogx(t, resultPB.best_fit, 'r-')"
   ]
  },
  {
   "cell_type": "code",
   "execution_count": null,
   "metadata": {
    "collapsed": true
   },
   "outputs": [],
   "source": []
  }
 ],
 "metadata": {
  "anaconda-cloud": {},
  "kernelspec": {
   "display_name": "Python [default]",
   "language": "python",
   "name": "python3"
  }
 },
 "nbformat": 4,
 "nbformat_minor": 1
}
