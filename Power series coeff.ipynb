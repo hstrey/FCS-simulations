{
 "cells": [
  {
   "cell_type": "code",
   "execution_count": 3,
   "metadata": {
    "collapsed": true
   },
   "outputs": [],
   "source": [
    "import numpy as np\n",
    "from scipy.special import factorial"
   ]
  },
  {
   "cell_type": "code",
   "execution_count": 4,
   "metadata": {},
   "outputs": [
    {
     "name": "stdout",
     "output_type": "stream",
     "text": [
      "0 0 1 0 0 1.0\n",
      "0 1 -1 2 2 2.0\n",
      "0 2 1 4 4 24.0\n",
      "0 3 -1 6 6 720.0\n",
      "0 4 1 8 8 40320.0\n",
      "1 0 -1 2 0 2.0\n",
      "1 1 1 4 2 4.0\n",
      "1 2 -1 6 4 48.0\n",
      "1 3 1 8 6 1440.0\n",
      "1 4 -1 10 8 80640.0\n",
      "2 0 1 4 0 8.0\n",
      "2 1 -1 6 2 16.0\n",
      "2 2 1 8 4 192.0\n",
      "2 3 -1 10 6 5760.0\n",
      "2 4 1 12 8 322560.0\n",
      "3 0 -1 6 0 48.0\n",
      "3 1 1 8 2 96.0\n",
      "3 2 -1 10 4 1152.0\n",
      "3 3 1 12 6 34560.0\n",
      "3 4 -1 14 8 1935360.0\n",
      "4 0 1 8 0 384.0\n",
      "4 1 -1 10 2 768.0\n",
      "4 2 1 12 4 9216.0\n",
      "4 3 -1 14 6 276480.0\n",
      "4 4 1 16 8 15482880.0\n"
     ]
    }
   ],
   "source": [
    "# I want to see how the Fourier transformation could be done by two power series\n",
    "# here we try the coefficients of a Gaussian (1-X**2/2+X**4/8-x**6/48+...) and of the Taylor expansion of exp(ikx)\n",
    "for n in range(5):\n",
    "    for m in range(5):\n",
    "        print(n,m,(-1)**(n+m),2*(n+m),2*m,2**n*factorial(n)*factorial(2*m))"
   ]
  },
  {
   "cell_type": "code",
   "execution_count": null,
   "metadata": {
    "collapsed": true
   },
   "outputs": [],
   "source": []
  }
 ],
 "metadata": {
  "anaconda-cloud": {},
  "kernelspec": {
   "display_name": "Python [conda env:python3]",
   "language": "python",
   "name": "conda-env-python3-py"
  },
  "language_info": {
   "codemirror_mode": {
    "name": "ipython",
    "version": 3
   },
   "file_extension": ".py",
   "mimetype": "text/x-python",
   "name": "python",
   "nbconvert_exporter": "python",
   "pygments_lexer": "ipython3",
   "version": "3.5.4"
  }
 },
 "nbformat": 4,
 "nbformat_minor": 1
}
