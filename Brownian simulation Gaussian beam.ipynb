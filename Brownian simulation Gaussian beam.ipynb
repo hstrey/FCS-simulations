{
 "cells": [
  {
   "cell_type": "code",
   "execution_count": 44,
   "metadata": {
    "collapsed": true
   },
   "outputs": [],
   "source": [
    "%matplotlib inline\n",
    "import numpy as np\n",
    "import matplotlib.pyplot as plt\n",
    "import lmfit as lm"
   ]
  },
  {
   "cell_type": "code",
   "execution_count": 45,
   "metadata": {
    "collapsed": true
   },
   "outputs": [],
   "source": [
    "dt = 0.2\n",
    "D = 1.0\n",
    "L = 11.0\n",
    "xl = 5.0\n",
    "xr = 6.0\n",
    "N = 5\n",
    "length = 1000000"
   ]
  },
  {
   "cell_type": "code",
   "execution_count": 46,
   "metadata": {
    "collapsed": false
   },
   "outputs": [],
   "source": [
    "# generate steps for all particles\n",
    "steps=np.random.normal(loc=0.0, scale=2*D*dt, size=(N,length))"
   ]
  },
  {
   "cell_type": "code",
   "execution_count": 47,
   "metadata": {
    "collapsed": false
   },
   "outputs": [],
   "source": [
    "# initial positions\n",
    "x = L*np.random.random(size=(N,))"
   ]
  },
  {
   "cell_type": "code",
   "execution_count": 48,
   "metadata": {
    "collapsed": false
   },
   "outputs": [],
   "source": [
    "# put initial position in front\n",
    "x = np.column_stack((x, steps))"
   ]
  },
  {
   "cell_type": "code",
   "execution_count": 49,
   "metadata": {
    "collapsed": false
   },
   "outputs": [],
   "source": [
    "# calculate paths\n",
    "paths = np.mod(np.cumsum(x, axis=1),L)"
   ]
  },
  {
   "cell_type": "code",
   "execution_count": 50,
   "metadata": {
    "collapsed": false
   },
   "outputs": [
    {
     "data": {
      "image/png": "[encoded data removed]",
      "text/plain": [
       "<matplotlib.figure.Figure at 0x10e7eeda0>"
      ]
     },
     "metadata": {},
     "output_type": "display_data"
    }
   ],
   "source": [
    "for path in paths:\n",
    "    plt.plot(path,\".\")"
   ]
  },
  {
   "cell_type": "code",
   "execution_count": 51,
   "metadata": {
    "collapsed": false
   },
   "outputs": [],
   "source": [
    "# place a Gaussian illumination at x=5.5 with unit variance\n",
    "from scipy.stats import norm\n",
    "intensity = norm.pdf(paths, loc=5.5)\n",
    "#print(intensity)\n",
    "intensity = np.sum(intensity, axis=0)\n",
    "#print(intensity)"
   ]
  },
  {
   "cell_type": "code",
   "execution_count": 52,
   "metadata": {
    "collapsed": false
   },
   "outputs": [
    {
     "data": {
      "text/plain": [
       "[<matplotlib.lines.Line2D at 0x10ed95128>]"
      ]
     },
     "execution_count": 52,
     "metadata": {},
     "output_type": "execute_result"
    },
    {
     "data": {
      "image/png": "[encoded data removed]",
      "text/plain": [
       "<matplotlib.figure.Figure at 0x114a0d4e0>"
      ]
     },
     "metadata": {},
     "output_type": "display_data"
    }
   ],
   "source": [
    "plt.plot(intensity)"
   ]
  },
  {
   "cell_type": "code",
   "execution_count": 53,
   "metadata": {
    "collapsed": false
   },
   "outputs": [
    {
     "name": "stdout",
     "output_type": "stream",
     "text": [
      "0.424221708199\n"
     ]
    },
    {
     "data": {
      "image/png": "[encoded data removed]",
      "text/plain": [
       "<matplotlib.figure.Figure at 0x11b2d10f0>"
      ]
     },
     "metadata": {},
     "output_type": "display_data"
    }
   ],
   "source": [
    "# calculate autocorrelation function\n",
    "f = np.fft.rfft(intensity)\n",
    "acf = np.fft.irfft(f * np.conjugate(f))\n",
    "acf = np.fft.fftshift(acf) / length\n",
    "autocorr = acf[int(length/2):]/intensity.mean()**2\n",
    "\n",
    "autocorr = autocorr[:100000]-1.0\n",
    "t = np.arange(0,autocorr.size)\n",
    "plt.semilogx(t,autocorr,\"o\")\n",
    "print(autocorr[0])"
   ]
  },
  {
   "cell_type": "code",
   "execution_count": 54,
   "metadata": {
    "collapsed": true
   },
   "outputs": [],
   "source": [
    "def corrfit(s,N,D,gamma,w0):\n",
    "    return 1/N/(1+4*D*dt*s/w0**2)**gamma"
   ]
  },
  {
   "cell_type": "code",
   "execution_count": 55,
   "metadata": {
    "collapsed": false
   },
   "outputs": [],
   "source": [
    "corrfit_model=lm.Model(corrfit)\n",
    "params = corrfit_model.make_params()\n",
    "params['w0'].set(value=2,vary=False)\n",
    "params['N'].set(value=2,vary=True)\n",
    "params['D'].set(value=1,vary=True)\n",
    "params['gamma'].set(value=0.5,vary=False)\n",
    "\n",
    "result = corrfit_model.fit(s=t,data=autocorr,params=params)"
   ]
  },
  {
   "cell_type": "code",
   "execution_count": 56,
   "metadata": {
    "collapsed": false
   },
   "outputs": [
    {
     "name": "stdout",
     "output_type": "stream",
     "text": [
      "[[Model]]\n",
      "    Model(corrfit)\n",
      "[[Fit Statistics]]\n",
      "    # function evals   = 33\n",
      "    # data points      = 100000\n",
      "    # variables        = 2\n",
      "    chi-square         = 1.784\n",
      "    reduced chi-square = 0.000\n",
      "    Akaike info crit   = -1093422.613\n",
      "    Bayesian info crit = -1093403.587\n",
      "[[Variables]]\n",
      "    N:       2.08949693 +/- 0.018301 (0.88%) (init= 2)\n",
      "    D:       16.9415943 +/- 0.346954 (2.05%) (init= 1)\n",
      "    gamma:   0.5 (fixed)\n",
      "    w0:      2 (fixed)\n",
      "[[Correlations]] (unreported correlations are <  0.100)\n",
      "    C(N, D)                      = -0.879 \n",
      "\n"
     ]
    }
   ],
   "source": [
    "print(result.fit_report())"
   ]
  },
  {
   "cell_type": "code",
   "execution_count": 57,
   "metadata": {
    "collapsed": false
   },
   "outputs": [
    {
     "data": {
      "text/plain": [
       "[<matplotlib.lines.Line2D at 0x114f914a8>]"
      ]
     },
     "execution_count": 57,
     "metadata": {},
     "output_type": "execute_result"
    },
    {
     "data": {
      "image/png": "[encoded data removed]",
      "text/plain": [
       "<matplotlib.figure.Figure at 0x1342ed278>"
      ]
     },
     "metadata": {},
     "output_type": "display_data"
    }
   ],
   "source": [
    "plt.semilogx(t, autocorr,         'bo')\n",
    "plt.semilogx(t, result.init_fit, 'k--')\n",
    "plt.semilogx(t, result.best_fit, 'r-')"
   ]
  },
  {
   "cell_type": "code",
   "execution_count": null,
   "metadata": {
    "collapsed": true
   },
   "outputs": [],
   "source": []
  }
 ],
 "metadata": {
  "anaconda-cloud": {},
  "kernelspec": {
   "display_name": "Python [default]",
   "language": "python",
   "name": "python3"
  },
  "language_info": {
   "codemirror_mode": {
    "name": "ipython",
    "version": 3
   },
   "file_extension": ".py",
   "mimetype": "text/x-python",
   "name": "python",
   "nbconvert_exporter": "python",
   "pygments_lexer": "ipython3",
   "version": "3.5.2"
  }
 },
 "nbformat": 4,
 "nbformat_minor": 0
}
