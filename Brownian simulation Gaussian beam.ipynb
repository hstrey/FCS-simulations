{
 "cells": [
  {
   "cell_type": "code",
   "execution_count": 140,
   "metadata": {
    "collapsed": true
   },
   "outputs": [],
   "source": [
    "%matplotlib inline\n",
    "import numpy as np\n",
    "import matplotlib.pyplot as plt\n",
    "import lmfit as lm\n",
    "import scipy.special as sf"
   ]
  },
  {
   "cell_type": "code",
   "execution_count": 116,
   "metadata": {
    "collapsed": true
   },
   "outputs": [],
   "source": [
    "dt = 0.2\n",
    "D = 1.0\n",
    "L = 41.0\n",
    "#xl = 5.0\n",
    "#xr = 6.0\n",
    "N = 20\n",
    "length = 1000000"
   ]
  },
  {
   "cell_type": "code",
   "execution_count": 117,
   "metadata": {
    "collapsed": false
   },
   "outputs": [],
   "source": [
    "# generate steps for all particles\n",
    "steps=np.random.normal(loc=0.0, scale=2*D*dt, size=(N,length))"
   ]
  },
  {
   "cell_type": "code",
   "execution_count": 118,
   "metadata": {
    "collapsed": false
   },
   "outputs": [],
   "source": [
    "# initial positions\n",
    "x = L*np.random.random(size=(N,))"
   ]
  },
  {
   "cell_type": "code",
   "execution_count": 119,
   "metadata": {
    "collapsed": false
   },
   "outputs": [],
   "source": [
    "# put initial position in front\n",
    "x = np.column_stack((x, steps))"
   ]
  },
  {
   "cell_type": "code",
   "execution_count": 120,
   "metadata": {
    "collapsed": false
   },
   "outputs": [],
   "source": [
    "# calculate paths\n",
    "paths = np.mod(np.cumsum(x, axis=1),L)"
   ]
  },
  {
   "cell_type": "code",
   "execution_count": 121,
   "metadata": {
    "collapsed": false
   },
   "outputs": [
    {
     "data": {
      "image/png": "[encoded data removed]",
      "text/plain": [
       "<matplotlib.figure.Figure at 0x11778ef60>"
      ]
     },
     "metadata": {},
     "output_type": "display_data"
    }
   ],
   "source": [
    "for path in paths:\n",
    "    plt.plot(path,\".\")"
   ]
  },
  {
   "cell_type": "code",
   "execution_count": 122,
   "metadata": {
    "collapsed": false
   },
   "outputs": [],
   "source": [
    "# place a Gaussian illumination at x=5.5 with unit variance\n",
    "from scipy.stats import norm\n",
    "intensity = norm.pdf(paths, loc=10.5)\n",
    "#print(intensity)\n",
    "intensity = np.sum(intensity, axis=0)\n",
    "#print(intensity)"
   ]
  },
  {
   "cell_type": "code",
   "execution_count": 123,
   "metadata": {
    "collapsed": false
   },
   "outputs": [
    {
     "name": "stdout",
     "output_type": "stream",
     "text": [
      "0.487810541714\n",
      "0.4878048780487805\n"
     ]
    },
    {
     "data": {
      "image/png": "[encoded data removed]",
      "text/plain": [
       "<matplotlib.figure.Figure at 0x11096a390>"
      ]
     },
     "metadata": {},
     "output_type": "display_data"
    }
   ],
   "source": [
    "plt.plot(intensity)\n",
    "print(intensity.mean())\n",
    "# what should it be\n",
    "print(N/L)"
   ]
  },
  {
   "cell_type": "code",
   "execution_count": 138,
   "metadata": {
    "collapsed": false
   },
   "outputs": [
    {
     "data": {
      "text/plain": [
       "[<matplotlib.lines.Line2D at 0x1151c86d8>]"
      ]
     },
     "execution_count": 138,
     "metadata": {},
     "output_type": "execute_result"
    },
    {
     "data": {
      "image/png": "[encoded data removed]",
      "text/plain": [
       "<matplotlib.figure.Figure at 0x1109025f8>"
      ]
     },
     "metadata": {},
     "output_type": "display_data"
    }
   ],
   "source": [
    "# calculate autocorrelation function\n",
    "f = np.fft.rfft(intensity)\n",
    "acf = np.fft.irfft(f * np.conjugate(f))\n",
    "acf = np.fft.fftshift(acf) / length\n",
    "autocorr = acf[int(length/2):]/intensity.mean()**2\n",
    "\n",
    "autocorr = autocorr[:1000]-1.0\n",
    "t = np.arange(0,autocorr.size)\n",
    "plt.semilogx(t,autocorr,\"o\")"
   ]
  },
  {
   "cell_type": "code",
   "execution_count": 139,
   "metadata": {
    "collapsed": false
   },
   "outputs": [
    {
     "name": "stdout",
     "output_type": "stream",
     "text": [
      "1.06507853752\n",
      "3.94571841601\n",
      "0.898418824675\n",
      "2.22613322993\n"
     ]
    }
   ],
   "source": [
    "print(autocorr[0]/N*L)\n",
    "print(L/autocorr[0]/N)\n",
    "print(autocorr[0]*N/L*2*np.sqrt(np.pi))\n",
    "print(L/autocorr[0]/N/np.sqrt(np.pi))"
   ]
  },
  {
   "cell_type": "code",
   "execution_count": 126,
   "metadata": {
    "collapsed": false
   },
   "outputs": [],
   "source": [
    "# this is the model that describes the ideal case if infinite boundary conditions\n",
    "def corrfit(s,N,D,gamma,w0):\n",
    "    return 1/N/(1+(D*dt*s/w0**2))**gamma"
   ]
  },
  {
   "cell_type": "code",
   "execution_count": null,
   "metadata": {
    "collapsed": true
   },
   "outputs": [],
   "source": [
    "# this is the more realistic model with periodic boundary conditions -L,L\n",
    "def corrfitPB(s,N,D,w0,L):\n",
    "    nmax = 20\n",
    "    n = np.arange(0,nmax)\n",
    "    efa = n*np.pi*w0**2*1j\n",
    "    an = np.exp(-n**2*np.pi**2*w0**2/2/L**2)*(sf.erf((L**2-efa)/np.sqrt(2)/L/w0)+sf.erf((L**2+efa)/np.sqrt(2)/L/w0))\n",
    "    t=s*dt\n",
    "    "
   ]
  },
  {
   "cell_type": "code",
   "execution_count": 131,
   "metadata": {
    "collapsed": false
   },
   "outputs": [],
   "source": [
    "corrfit_model=lm.Model(corrfit)\n",
    "params = corrfit_model.make_params()\n",
    "params['w0'].set(value=1,vary=False)\n",
    "params['N'].set(value=5,vary=True)\n",
    "params['D'].set(value=1,vary=True)\n",
    "params['gamma'].set(value=0.5,vary=False)\n",
    "\n",
    "result = corrfit_model.fit(s=t,data=autocorr,params=params)"
   ]
  },
  {
   "cell_type": "code",
   "execution_count": 132,
   "metadata": {
    "collapsed": false
   },
   "outputs": [
    {
     "name": "stdout",
     "output_type": "stream",
     "text": [
      "[[Model]]\n",
      "    Model(corrfit)\n",
      "[[Fit Statistics]]\n",
      "    # function evals   = 33\n",
      "    # data points      = 500\n",
      "    # variables        = 2\n",
      "    chi-square         = 0.146\n",
      "    reduced chi-square = 0.000\n",
      "    Akaike info crit   = -4064.521\n",
      "    Bayesian info crit = -4056.091\n",
      "[[Variables]]\n",
      "    N:       1.68581279 +/- 0.029943 (1.78%) (init= 5)\n",
      "    D:       1.01838992 +/- 0.044338 (4.35%) (init= 1)\n",
      "    gamma:   0.5 (fixed)\n",
      "    w0:      1 (fixed)\n",
      "[[Correlations]] (unreported correlations are <  0.100)\n",
      "    C(N, D)                      = -0.942 \n",
      "\n"
     ]
    }
   ],
   "source": [
    "print(result.fit_report())"
   ]
  },
  {
   "cell_type": "code",
   "execution_count": 133,
   "metadata": {
    "collapsed": false
   },
   "outputs": [
    {
     "data": {
      "text/plain": [
       "[<matplotlib.lines.Line2D at 0x1132b7be0>]"
      ]
     },
     "execution_count": 133,
     "metadata": {},
     "output_type": "execute_result"
    },
    {
     "data": {
      "image/png": "[encoded data removed]",
      "text/plain": [
       "<matplotlib.figure.Figure at 0x1109579b0>"
      ]
     },
     "metadata": {},
     "output_type": "display_data"
    }
   ],
   "source": [
    "plt.semilogx(t, autocorr,         'bo')\n",
    "plt.semilogx(t, result.init_fit, 'k--')\n",
    "plt.semilogx(t, result.best_fit, 'r-')"
   ]
  },
  {
   "cell_type": "raw",
   "metadata": {
    "collapsed": true
   },
   "source": []
  }
 ],
 "metadata": {
  "anaconda-cloud": {},
  "kernelspec": {
   "display_name": "Python [default]",
   "language": "python",
   "name": "python3"
  },
  "language_info": {
   "codemirror_mode": {
    "name": "ipython",
    "version": 3
   },
   "file_extension": ".py",
   "mimetype": "text/x-python",
   "name": "python",
   "nbconvert_exporter": "python",
   "pygments_lexer": "ipython3",
   "version": "3.5.2"
  }
 },
 "nbformat": 4,
 "nbformat_minor": 0
}
