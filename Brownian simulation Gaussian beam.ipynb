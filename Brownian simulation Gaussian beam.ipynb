{
 "cells": [
  {
   "cell_type": "code",
   "execution_count": 9,
   "metadata": {
    "collapsed": true
   },
   "outputs": [],
   "source": [
    "%matplotlib inline\n",
    "import numpy as np\n",
    "import matplotlib.pyplot as plt\n",
    "import lmfit as lm\n",
    "import scipy.special as sf"
   ]
  },
  {
   "cell_type": "code",
   "execution_count": 10,
   "metadata": {
    "collapsed": false
   },
   "outputs": [
    {
     "name": "stdout",
     "output_type": "stream",
     "text": [
      "[[ 4  5  6  7]\n",
      " [ 8 10 12 14]\n",
      " [12 15 18 21]]\n",
      "[24 30 36 42]\n"
     ]
    }
   ],
   "source": [
    "a=np.array([1,2,3])\n",
    "b=np.array([4,5,6,7])\n",
    "print(np.outer(a,b))\n",
    "print(np.sum(np.outer(a,b),axis=0))"
   ]
  },
  {
   "cell_type": "code",
   "execution_count": 11,
   "metadata": {
    "collapsed": true
   },
   "outputs": [],
   "source": [
    "dt = 0.2\n",
    "D = 1.0\n",
    "L = 10\n",
    "#xl = 5.0\n",
    "#xr = 6.0\n",
    "N = 20\n",
    "length = 1000000"
   ]
  },
  {
   "cell_type": "code",
   "execution_count": 12,
   "metadata": {
    "collapsed": false
   },
   "outputs": [],
   "source": [
    "# generate steps for all particles\n",
    "steps=np.random.normal(loc=0.0, scale=2*D*dt, size=(N,length))"
   ]
  },
  {
   "cell_type": "code",
   "execution_count": 13,
   "metadata": {
    "collapsed": false
   },
   "outputs": [],
   "source": [
    "# initial positions\n",
    "x = 2*L*np.random.random(size=(N,))"
   ]
  },
  {
   "cell_type": "code",
   "execution_count": 14,
   "metadata": {
    "collapsed": false
   },
   "outputs": [],
   "source": [
    "# put initial position in front\n",
    "x = np.column_stack((x, steps))"
   ]
  },
  {
   "cell_type": "code",
   "execution_count": 15,
   "metadata": {
    "collapsed": false
   },
   "outputs": [],
   "source": [
    "# calculate paths\n",
    "paths = np.mod(np.cumsum(x, axis=1),2*L)-L"
   ]
  },
  {
   "cell_type": "code",
   "execution_count": 16,
   "metadata": {
    "collapsed": false
   },
   "outputs": [
    {
     "data": {
      "image/png": "[encoded data removed]",
      "text/plain": [
       "<matplotlib.figure.Figure at 0x10e6c6a58>"
      ]
     },
     "metadata": {},
     "output_type": "display_data"
    }
   ],
   "source": [
    "for path in paths:\n",
    "    plt.plot(path,\".\")"
   ]
  },
  {
   "cell_type": "code",
   "execution_count": 17,
   "metadata": {
    "collapsed": false
   },
   "outputs": [],
   "source": [
    "# place a Gaussian illumination at x=5.5 with unit variance\n",
    "from scipy.stats import norm\n",
    "intensity = norm.pdf(paths, loc=0)\n",
    "#print(intensity)\n",
    "intensity = np.sum(intensity, axis=0)\n",
    "#print(intensity)"
   ]
  },
  {
   "cell_type": "code",
   "execution_count": 18,
   "metadata": {
    "collapsed": false
   },
   "outputs": [
    {
     "name": "stdout",
     "output_type": "stream",
     "text": [
      "0.996439350175\n",
      "1.0\n"
     ]
    },
    {
     "data": {
      "image/png": "[encoded data removed]",
      "text/plain": [
       "<matplotlib.figure.Figure at 0x14b262b38>"
      ]
     },
     "metadata": {},
     "output_type": "display_data"
    }
   ],
   "source": [
    "plt.plot(intensity)\n",
    "print(intensity.mean())\n",
    "# what should it be\n",
    "print(N/2/L)"
   ]
  },
  {
   "cell_type": "code",
   "execution_count": 19,
   "metadata": {
    "collapsed": false
   },
   "outputs": [
    {
     "data": {
      "text/plain": [
       "[<matplotlib.lines.Line2D at 0x14b2b0e48>]"
      ]
     },
     "execution_count": 19,
     "metadata": {},
     "output_type": "execute_result"
    },
    {
     "data": {
      "image/png": "[encoded data removed]",
      "text/plain": [
       "<matplotlib.figure.Figure at 0x131dc82e8>"
      ]
     },
     "metadata": {},
     "output_type": "display_data"
    }
   ],
   "source": [
    "# calculate autocorrelation function\n",
    "f = np.fft.rfft(intensity)\n",
    "acf = np.fft.irfft(f * np.conjugate(f))\n",
    "acf = np.fft.fftshift(acf) / length\n",
    "autocorr = acf[int(length/2):]/intensity.mean()**2\n",
    "\n",
    "autocorr = autocorr[:1000]-1.0\n",
    "t = np.arange(0,autocorr.size)\n",
    "plt.semilogx(t,autocorr,\"o\")"
   ]
  },
  {
   "cell_type": "code",
   "execution_count": 20,
   "metadata": {
    "collapsed": false
   },
   "outputs": [
    {
     "name": "stdout",
     "output_type": "stream",
     "text": [
      "0.117212784614\n",
      "2.13287314028\n",
      "1.66203401171\n",
      "1.20334480877\n"
     ]
    }
   ],
   "source": [
    "print(autocorr[0]/N*L)\n",
    "print(L/autocorr[0]/N)\n",
    "print(autocorr[0]*N/L*2*np.sqrt(np.pi))\n",
    "print(L/autocorr[0]/N/np.sqrt(np.pi))"
   ]
  },
  {
   "cell_type": "code",
   "execution_count": 21,
   "metadata": {
    "collapsed": false
   },
   "outputs": [],
   "source": [
    "# this is the model that describes the ideal case if infinite boundary conditions\n",
    "def corrfit(s,N,D,gamma,w0):\n",
    "    return 1/N/(1+(D*dt*s/w0**2))**gamma"
   ]
  },
  {
   "cell_type": "code",
   "execution_count": 62,
   "metadata": {
    "collapsed": true
   },
   "outputs": [],
   "source": [
    "# this is the more realistic model with periodic boundary conditions -L,L\n",
    "def corrfitPB(s,N,D,w0,L):\n",
    "    nmax = 20\n",
    "    n = np.arange(0,nmax)\n",
    "    efa = n*np.pi*w0**2*1j\n",
    "    an = np.exp(-n**2*np.pi**2*w0**2/L**2)*(sf.erf((L**2-efa)/np.sqrt(2)/L/w0)+sf.erf((L**2+efa)/np.sqrt(2)/L/w0))\n",
    "    an2 = an**2/L\n",
    "    an2[0]=an2[0]/2\n",
    "    t=s*dt\n",
    "    at = np.exp(-D*t)\n",
    "    a2mat = np.outer(an2,at)\n",
    "    return np.sum(a2mat,axis=0)/N"
   ]
  },
  {
   "cell_type": "code",
   "execution_count": 59,
   "metadata": {
    "collapsed": false
   },
   "outputs": [],
   "source": [
    "corrfitPB_model=lm.Model(corrfitPB)\n",
    "paramsPB = corrfitPB_model.make_params()\n",
    "paramsPB['w0'].set(value=1,vary=False)\n",
    "paramsPB['N'].set(value=20,vary=True)\n",
    "paramsPB['D'].set(value=1,vary=True)\n",
    "paramsPB['L'].set(value=L,vary=False)\n",
    "\n",
    "resultPB = corrfitPB_model.fit(s=t,data=autocorr,params=paramsPB)"
   ]
  },
  {
   "cell_type": "code",
   "execution_count": 60,
   "metadata": {
    "collapsed": false
   },
   "outputs": [
    {
     "name": "stdout",
     "output_type": "stream",
     "text": [
      "[[Model]]\n",
      "    Model(corrfitPB)\n",
      "[[Fit Statistics]]\n",
      "    # function evals   = 24\n",
      "    # data points      = 2000\n",
      "    # variables        = 1\n",
      "    chi-square         = 0.800\n",
      "    reduced chi-square = 0.000\n",
      "    Akaike info crit   = -15645.712\n",
      "    Bayesian info crit = -15640.111\n",
      "[[Variables]]\n",
      "    N:    2.19487986 +/- 0.069339 (3.16%) (init= 20)\n",
      "    D:    1 (fixed)\n",
      "    w0:   1 (fixed)\n",
      "    L:    10 (fixed)\n",
      "[[Correlations]] (unreported correlations are <  0.100)\n",
      "\n"
     ]
    }
   ],
   "source": [
    "print(resultPB.fit_report())"
   ]
  },
  {
   "cell_type": "code",
   "execution_count": 23,
   "metadata": {
    "collapsed": false
   },
   "outputs": [],
   "source": [
    "corrfit_model=lm.Model(corrfit)\n",
    "params = corrfit_model.make_params()\n",
    "params['w0'].set(value=1,vary=False)\n",
    "params['N'].set(value=5,vary=True)\n",
    "params['D'].set(value=1,vary=True)\n",
    "params['gamma'].set(value=0.5,vary=False)\n",
    "\n",
    "result = corrfit_model.fit(s=t,data=autocorr,params=params)"
   ]
  },
  {
   "cell_type": "code",
   "execution_count": 24,
   "metadata": {
    "collapsed": false
   },
   "outputs": [
    {
     "name": "stdout",
     "output_type": "stream",
     "text": [
      "[[Model]]\n",
      "    Model(corrfit)\n",
      "[[Fit Statistics]]\n",
      "    # function evals   = 43\n",
      "    # data points      = 1000\n",
      "    # variables        = 2\n",
      "    chi-square         = 0.252\n",
      "    reduced chi-square = 0.000\n",
      "    Akaike info crit   = -8279.683\n",
      "    Bayesian info crit = -8269.868\n",
      "[[Variables]]\n",
      "    N:       3.36926990 +/- 0.154475 (4.58%) (init= 5)\n",
      "    D:       3.15606125 +/- 0.339406 (10.75%) (init= 1)\n",
      "    gamma:   0.5 (fixed)\n",
      "    w0:      1 (fixed)\n",
      "[[Correlations]] (unreported correlations are <  0.100)\n",
      "    C(N, D)                      = -0.935 \n",
      "\n"
     ]
    }
   ],
   "source": [
    "print(result.fit_report())"
   ]
  },
  {
   "cell_type": "code",
   "execution_count": 25,
   "metadata": {
    "collapsed": false
   },
   "outputs": [
    {
     "data": {
      "text/plain": [
       "[<matplotlib.lines.Line2D at 0x13956a8d0>]"
      ]
     },
     "execution_count": 25,
     "metadata": {},
     "output_type": "execute_result"
    },
    {
     "data": {
      "image/png": "[encoded data removed]",
      "text/plain": [
       "<matplotlib.figure.Figure at 0x13951f908>"
      ]
     },
     "metadata": {},
     "output_type": "display_data"
    }
   ],
   "source": [
    "plt.semilogx(t, autocorr,         'bo')\n",
    "plt.semilogx(t, result.init_fit, 'k--')\n",
    "plt.semilogx(t, result.best_fit, 'r-')"
   ]
  },
  {
   "cell_type": "code",
   "execution_count": 61,
   "metadata": {
    "collapsed": false
   },
   "outputs": [
    {
     "name": "stderr",
     "output_type": "stream",
     "text": [
      "/Users/hstrey/anaconda/envs/python3/lib/python3.5/site-packages/numpy/core/numeric.py:482: ComplexWarning: Casting complex values to real discards the imaginary part\n",
      "  return array(a, dtype, copy=False, order=order)\n"
     ]
    },
    {
     "data": {
      "text/plain": [
       "[<matplotlib.lines.Line2D at 0x13534c630>]"
      ]
     },
     "execution_count": 61,
     "metadata": {},
     "output_type": "execute_result"
    },
    {
     "data": {
      "image/png": "[encoded data removed]",
      "text/plain": [
       "<matplotlib.figure.Figure at 0x134ce0390>"
      ]
     },
     "metadata": {},
     "output_type": "display_data"
    }
   ],
   "source": [
    "plt.semilogx(t, autocorr,         'bo')\n",
    "plt.semilogx(t, resultPB.init_fit, 'k--')\n",
    "plt.semilogx(t, resultPB.best_fit, 'r-')"
   ]
  },
  {
   "cell_type": "code",
   "execution_count": null,
   "metadata": {
    "collapsed": true
   },
   "outputs": [],
   "source": []
  }
 ],
 "metadata": {
  "anaconda-cloud": {},
  "kernelspec": {
   "display_name": "Python [default]",
   "language": "python",
   "name": "python3"
  },
  "language_info": {
   "codemirror_mode": {
    "name": "ipython",
    "version": 3
   },
   "file_extension": ".py",
   "mimetype": "text/x-python",
   "name": "python",
   "nbconvert_exporter": "python",
   "pygments_lexer": "ipython3",
   "version": "3.5.2"
  }
 },
 "nbformat": 4,
 "nbformat_minor": 0
}
